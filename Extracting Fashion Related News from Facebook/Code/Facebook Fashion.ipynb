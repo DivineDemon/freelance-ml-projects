{
 "cells": [
  {
   "cell_type": "code",
   "execution_count": 1,
   "id": "15e74adc",
   "metadata": {},
   "outputs": [],
   "source": [
    "import numpy as np\n",
    "import pandas as pd\n",
    "import matplotlib.pyplot as plt\n",
    "import seaborn as sns\n",
    "from sklearn.model_selection import train_test_split\n",
    "from sklearn.neural_network import MLPClassifier\n",
    "from sklearn import svm\n",
    "from sklearn.naive_bayes import MultinomialNB\n",
    "from sklearn.preprocessing import LabelEncoder\n",
    "from sklearn.model_selection import cross_val_score\n",
    "from sklearn.metrics import classification_report, confusion_matrix"
   ]
  },
  {
   "cell_type": "code",
   "execution_count": 2,
   "id": "23855b4e",
   "metadata": {},
   "outputs": [],
   "source": [
    "frame = pd.read_csv('data.csv')"
   ]
  },
  {
   "cell_type": "code",
   "execution_count": 3,
   "id": "8e673fb1",
   "metadata": {},
   "outputs": [
    {
     "data": {
      "text/html": [
       "<div>\n",
       "<style scoped>\n",
       "    .dataframe tbody tr th:only-of-type {\n",
       "        vertical-align: middle;\n",
       "    }\n",
       "\n",
       "    .dataframe tbody tr th {\n",
       "        vertical-align: top;\n",
       "    }\n",
       "\n",
       "    .dataframe thead th {\n",
       "        text-align: right;\n",
       "    }\n",
       "</style>\n",
       "<table border=\"1\" class=\"dataframe\">\n",
       "  <thead>\n",
       "    <tr style=\"text-align: right;\">\n",
       "      <th></th>\n",
       "      <th>link_name</th>\n",
       "      <th>num_reactions</th>\n",
       "      <th>num_comments</th>\n",
       "      <th>num_shares</th>\n",
       "      <th>num_likes</th>\n",
       "      <th>num_loves</th>\n",
       "      <th>num_wows</th>\n",
       "      <th>num_hahas</th>\n",
       "      <th>num_sads</th>\n",
       "      <th>num_angrys</th>\n",
       "      <th>label</th>\n",
       "    </tr>\n",
       "  </thead>\n",
       "  <tbody>\n",
       "    <tr>\n",
       "      <th>0</th>\n",
       "      <td>The Sit-In Survival Guide: Pillows, Pizza and ...</td>\n",
       "      <td>183</td>\n",
       "      <td>55</td>\n",
       "      <td>15</td>\n",
       "      <td>155</td>\n",
       "      <td>17</td>\n",
       "      <td>0</td>\n",
       "      <td>10</td>\n",
       "      <td>0</td>\n",
       "      <td>1</td>\n",
       "      <td>n</td>\n",
       "    </tr>\n",
       "    <tr>\n",
       "      <th>1</th>\n",
       "      <td>Former UN General Assembly President Dies Amid...</td>\n",
       "      <td>75</td>\n",
       "      <td>12</td>\n",
       "      <td>9</td>\n",
       "      <td>53</td>\n",
       "      <td>0</td>\n",
       "      <td>2</td>\n",
       "      <td>0</td>\n",
       "      <td>20</td>\n",
       "      <td>0</td>\n",
       "      <td>n</td>\n",
       "    </tr>\n",
       "    <tr>\n",
       "      <th>2</th>\n",
       "      <td>Everything You Need to Know About Brexit and t...</td>\n",
       "      <td>99</td>\n",
       "      <td>14</td>\n",
       "      <td>23</td>\n",
       "      <td>91</td>\n",
       "      <td>0</td>\n",
       "      <td>2</td>\n",
       "      <td>1</td>\n",
       "      <td>3</td>\n",
       "      <td>2</td>\n",
       "      <td>n</td>\n",
       "    </tr>\n",
       "    <tr>\n",
       "      <th>3</th>\n",
       "      <td>Abortion Requests in Latin America Rise After ...</td>\n",
       "      <td>153</td>\n",
       "      <td>15</td>\n",
       "      <td>15</td>\n",
       "      <td>105</td>\n",
       "      <td>0</td>\n",
       "      <td>4</td>\n",
       "      <td>0</td>\n",
       "      <td>33</td>\n",
       "      <td>11</td>\n",
       "      <td>n</td>\n",
       "    </tr>\n",
       "    <tr>\n",
       "      <th>4</th>\n",
       "      <td>Prosecutor in Stanford Case Seeks Tougher Sex ...</td>\n",
       "      <td>538</td>\n",
       "      <td>53</td>\n",
       "      <td>40</td>\n",
       "      <td>479</td>\n",
       "      <td>23</td>\n",
       "      <td>3</td>\n",
       "      <td>4</td>\n",
       "      <td>2</td>\n",
       "      <td>27</td>\n",
       "      <td>n</td>\n",
       "    </tr>\n",
       "  </tbody>\n",
       "</table>\n",
       "</div>"
      ],
      "text/plain": [
       "                                           link_name  num_reactions  \\\n",
       "0  The Sit-In Survival Guide: Pillows, Pizza and ...            183   \n",
       "1  Former UN General Assembly President Dies Amid...             75   \n",
       "2  Everything You Need to Know About Brexit and t...             99   \n",
       "3  Abortion Requests in Latin America Rise After ...            153   \n",
       "4  Prosecutor in Stanford Case Seeks Tougher Sex ...            538   \n",
       "\n",
       "   num_comments  num_shares  num_likes  num_loves  num_wows  num_hahas  \\\n",
       "0            55          15        155         17         0         10   \n",
       "1            12           9         53          0         2          0   \n",
       "2            14          23         91          0         2          1   \n",
       "3            15          15        105          0         4          0   \n",
       "4            53          40        479         23         3          4   \n",
       "\n",
       "   num_sads  num_angrys label  \n",
       "0         0           1     n  \n",
       "1        20           0     n  \n",
       "2         3           2     n  \n",
       "3        33          11     n  \n",
       "4         2          27     n  "
      ]
     },
     "execution_count": 3,
     "metadata": {},
     "output_type": "execute_result"
    }
   ],
   "source": [
    "frame.head(5)"
   ]
  },
  {
   "cell_type": "code",
   "execution_count": 4,
   "id": "8bbdef47",
   "metadata": {},
   "outputs": [],
   "source": [
    "frame.drop_duplicates(inplace = True)"
   ]
  },
  {
   "cell_type": "code",
   "execution_count": 5,
   "id": "7eafa588",
   "metadata": {},
   "outputs": [
    {
     "data": {
      "text/plain": [
       "link_name        0\n",
       "num_reactions    0\n",
       "num_comments     0\n",
       "num_shares       0\n",
       "num_likes        0\n",
       "num_loves        0\n",
       "num_wows         0\n",
       "num_hahas        0\n",
       "num_sads         0\n",
       "num_angrys       0\n",
       "label            0\n",
       "dtype: int64"
      ]
     },
     "execution_count": 5,
     "metadata": {},
     "output_type": "execute_result"
    }
   ],
   "source": [
    "frame.isnull().sum()"
   ]
  },
  {
   "cell_type": "code",
   "execution_count": 6,
   "id": "048667ca",
   "metadata": {},
   "outputs": [
    {
     "data": {
      "text/html": [
       "<div>\n",
       "<style scoped>\n",
       "    .dataframe tbody tr th:only-of-type {\n",
       "        vertical-align: middle;\n",
       "    }\n",
       "\n",
       "    .dataframe tbody tr th {\n",
       "        vertical-align: top;\n",
       "    }\n",
       "\n",
       "    .dataframe thead th {\n",
       "        text-align: right;\n",
       "    }\n",
       "</style>\n",
       "<table border=\"1\" class=\"dataframe\">\n",
       "  <thead>\n",
       "    <tr style=\"text-align: right;\">\n",
       "      <th></th>\n",
       "      <th>num_reactions</th>\n",
       "      <th>num_comments</th>\n",
       "      <th>num_shares</th>\n",
       "      <th>num_likes</th>\n",
       "      <th>num_loves</th>\n",
       "      <th>num_wows</th>\n",
       "      <th>num_hahas</th>\n",
       "      <th>num_sads</th>\n",
       "      <th>num_angrys</th>\n",
       "    </tr>\n",
       "  </thead>\n",
       "  <tbody>\n",
       "    <tr>\n",
       "      <th>count</th>\n",
       "      <td>249.000000</td>\n",
       "      <td>249.000000</td>\n",
       "      <td>249.000000</td>\n",
       "      <td>249.000000</td>\n",
       "      <td>249.000000</td>\n",
       "      <td>249.000000</td>\n",
       "      <td>249.000000</td>\n",
       "      <td>249.000000</td>\n",
       "      <td>249.000000</td>\n",
       "    </tr>\n",
       "    <tr>\n",
       "      <th>mean</th>\n",
       "      <td>4056.144578</td>\n",
       "      <td>390.192771</td>\n",
       "      <td>950.196787</td>\n",
       "      <td>2999.176707</td>\n",
       "      <td>298.658635</td>\n",
       "      <td>198.301205</td>\n",
       "      <td>122.783133</td>\n",
       "      <td>304.401606</td>\n",
       "      <td>132.851406</td>\n",
       "    </tr>\n",
       "    <tr>\n",
       "      <th>std</th>\n",
       "      <td>11675.494345</td>\n",
       "      <td>646.593919</td>\n",
       "      <td>3033.099928</td>\n",
       "      <td>9284.291225</td>\n",
       "      <td>1706.824894</td>\n",
       "      <td>611.615221</td>\n",
       "      <td>419.464945</td>\n",
       "      <td>1308.026055</td>\n",
       "      <td>304.567273</td>\n",
       "    </tr>\n",
       "    <tr>\n",
       "      <th>min</th>\n",
       "      <td>75.000000</td>\n",
       "      <td>4.000000</td>\n",
       "      <td>0.000000</td>\n",
       "      <td>53.000000</td>\n",
       "      <td>0.000000</td>\n",
       "      <td>0.000000</td>\n",
       "      <td>0.000000</td>\n",
       "      <td>0.000000</td>\n",
       "      <td>0.000000</td>\n",
       "    </tr>\n",
       "    <tr>\n",
       "      <th>25%</th>\n",
       "      <td>453.000000</td>\n",
       "      <td>53.000000</td>\n",
       "      <td>53.000000</td>\n",
       "      <td>336.000000</td>\n",
       "      <td>3.000000</td>\n",
       "      <td>11.000000</td>\n",
       "      <td>2.000000</td>\n",
       "      <td>2.000000</td>\n",
       "      <td>2.000000</td>\n",
       "    </tr>\n",
       "    <tr>\n",
       "      <th>50%</th>\n",
       "      <td>1186.000000</td>\n",
       "      <td>168.000000</td>\n",
       "      <td>158.000000</td>\n",
       "      <td>744.000000</td>\n",
       "      <td>14.000000</td>\n",
       "      <td>26.000000</td>\n",
       "      <td>8.000000</td>\n",
       "      <td>11.000000</td>\n",
       "      <td>16.000000</td>\n",
       "    </tr>\n",
       "    <tr>\n",
       "      <th>75%</th>\n",
       "      <td>3558.000000</td>\n",
       "      <td>499.000000</td>\n",
       "      <td>625.000000</td>\n",
       "      <td>2139.000000</td>\n",
       "      <td>123.000000</td>\n",
       "      <td>92.000000</td>\n",
       "      <td>53.000000</td>\n",
       "      <td>71.000000</td>\n",
       "      <td>105.000000</td>\n",
       "    </tr>\n",
       "    <tr>\n",
       "      <th>max</th>\n",
       "      <td>156420.000000</td>\n",
       "      <td>6912.000000</td>\n",
       "      <td>34389.000000</td>\n",
       "      <td>124804.000000</td>\n",
       "      <td>25611.000000</td>\n",
       "      <td>6197.000000</td>\n",
       "      <td>3278.000000</td>\n",
       "      <td>17278.000000</td>\n",
       "      <td>1954.000000</td>\n",
       "    </tr>\n",
       "  </tbody>\n",
       "</table>\n",
       "</div>"
      ],
      "text/plain": [
       "       num_reactions  num_comments    num_shares      num_likes     num_loves  \\\n",
       "count     249.000000    249.000000    249.000000     249.000000    249.000000   \n",
       "mean     4056.144578    390.192771    950.196787    2999.176707    298.658635   \n",
       "std     11675.494345    646.593919   3033.099928    9284.291225   1706.824894   \n",
       "min        75.000000      4.000000      0.000000      53.000000      0.000000   \n",
       "25%       453.000000     53.000000     53.000000     336.000000      3.000000   \n",
       "50%      1186.000000    168.000000    158.000000     744.000000     14.000000   \n",
       "75%      3558.000000    499.000000    625.000000    2139.000000    123.000000   \n",
       "max    156420.000000   6912.000000  34389.000000  124804.000000  25611.000000   \n",
       "\n",
       "          num_wows    num_hahas      num_sads   num_angrys  \n",
       "count   249.000000   249.000000    249.000000   249.000000  \n",
       "mean    198.301205   122.783133    304.401606   132.851406  \n",
       "std     611.615221   419.464945   1308.026055   304.567273  \n",
       "min       0.000000     0.000000      0.000000     0.000000  \n",
       "25%      11.000000     2.000000      2.000000     2.000000  \n",
       "50%      26.000000     8.000000     11.000000    16.000000  \n",
       "75%      92.000000    53.000000     71.000000   105.000000  \n",
       "max    6197.000000  3278.000000  17278.000000  1954.000000  "
      ]
     },
     "execution_count": 6,
     "metadata": {},
     "output_type": "execute_result"
    }
   ],
   "source": [
    "frame.describe()"
   ]
  },
  {
   "cell_type": "code",
   "execution_count": 7,
   "id": "cd78d547",
   "metadata": {},
   "outputs": [
    {
     "name": "stdout",
     "output_type": "stream",
     "text": [
      "<class 'pandas.core.frame.DataFrame'>\n",
      "Int64Index: 249 entries, 0 to 248\n",
      "Data columns (total 11 columns):\n",
      " #   Column         Non-Null Count  Dtype \n",
      "---  ------         --------------  ----- \n",
      " 0   link_name      249 non-null    object\n",
      " 1   num_reactions  249 non-null    int64 \n",
      " 2   num_comments   249 non-null    int64 \n",
      " 3   num_shares     249 non-null    int64 \n",
      " 4   num_likes      249 non-null    int64 \n",
      " 5   num_loves      249 non-null    int64 \n",
      " 6   num_wows       249 non-null    int64 \n",
      " 7   num_hahas      249 non-null    int64 \n",
      " 8   num_sads       249 non-null    int64 \n",
      " 9   num_angrys     249 non-null    int64 \n",
      " 10  label          249 non-null    object\n",
      "dtypes: int64(9), object(2)\n",
      "memory usage: 23.3+ KB\n"
     ]
    }
   ],
   "source": [
    "frame.info()"
   ]
  },
  {
   "cell_type": "code",
   "execution_count": 8,
   "id": "f7365696",
   "metadata": {},
   "outputs": [],
   "source": [
    "le = LabelEncoder()"
   ]
  },
  {
   "cell_type": "code",
   "execution_count": 9,
   "id": "0cef3f32",
   "metadata": {},
   "outputs": [
    {
     "name": "stdout",
     "output_type": "stream",
     "text": [
      "Numerical Columns :\n",
      " Index(['num_reactions', 'num_comments', 'num_shares', 'num_likes', 'num_loves',\n",
      "       'num_wows', 'num_hahas', 'num_sads', 'num_angrys'],\n",
      "      dtype='object')\n",
      "Categorical Columns :\n",
      " Index(['link_name', 'label'], dtype='object')\n"
     ]
    }
   ],
   "source": [
    "test_num_col = frame.select_dtypes(include = np.number).columns\n",
    "print(\"Numerical Columns :\\n\", test_num_col)\n",
    "test_cat_col = frame.select_dtypes(exclude = np.number).columns\n",
    "print(\"Categorical Columns :\\n\", test_cat_col)"
   ]
  },
  {
   "cell_type": "code",
   "execution_count": 10,
   "id": "35af923c",
   "metadata": {},
   "outputs": [],
   "source": [
    "frame['link_name'] = le.fit_transform(frame['link_name'])\n",
    "frame['label'] = le.fit_transform(frame['label'])"
   ]
  },
  {
   "cell_type": "code",
   "execution_count": 11,
   "id": "fd1d92b1",
   "metadata": {},
   "outputs": [],
   "source": [
    "X = frame['link_name']\n",
    "y = frame['label']"
   ]
  },
  {
   "cell_type": "code",
   "execution_count": 12,
   "id": "2dca0013",
   "metadata": {},
   "outputs": [],
   "source": [
    "X_train, X_test, y_train, y_test = train_test_split(X, y, test_size = 0.3, random_state = 42)"
   ]
  },
  {
   "cell_type": "code",
   "execution_count": 13,
   "id": "6a764130",
   "metadata": {},
   "outputs": [
    {
     "name": "stdout",
     "output_type": "stream",
     "text": [
      "(174,) (174,)\n"
     ]
    }
   ],
   "source": [
    "print(X_train.shape, y_train.shape)"
   ]
  },
  {
   "cell_type": "code",
   "execution_count": 14,
   "id": "0309feea",
   "metadata": {},
   "outputs": [
    {
     "data": {
      "text/plain": [
       "SVC(kernel='linear')"
      ]
     },
     "execution_count": 14,
     "metadata": {},
     "output_type": "execute_result"
    }
   ],
   "source": [
    "svc = svm.SVC(kernel = 'linear')\n",
    "svc.fit(X_train.values.reshape(-1, 1), y_train)"
   ]
  },
  {
   "cell_type": "code",
   "execution_count": 15,
   "id": "b49b4b63",
   "metadata": {},
   "outputs": [],
   "source": [
    "y_pred = svc.predict(X_test.values.reshape(-1, 1))"
   ]
  },
  {
   "cell_type": "code",
   "execution_count": 16,
   "id": "351df740",
   "metadata": {},
   "outputs": [
    {
     "name": "stdout",
     "output_type": "stream",
     "text": [
      "[[65  0]\n",
      " [10  0]]\n"
     ]
    }
   ],
   "source": [
    "print(confusion_matrix(y_test, y_pred))"
   ]
  },
  {
   "cell_type": "code",
   "execution_count": 17,
   "id": "ff9e6fa9",
   "metadata": {},
   "outputs": [
    {
     "name": "stdout",
     "output_type": "stream",
     "text": [
      "              precision    recall  f1-score   support\n",
      "\n",
      "           0       0.87      1.00      0.93        65\n",
      "           1       1.00      0.00      0.00        10\n",
      "\n",
      "    accuracy                           0.87        75\n",
      "   macro avg       0.93      0.50      0.46        75\n",
      "weighted avg       0.88      0.87      0.80        75\n",
      "\n"
     ]
    }
   ],
   "source": [
    "print(classification_report(y_test, y_pred, zero_division = 1))"
   ]
  },
  {
   "cell_type": "code",
   "execution_count": 18,
   "id": "e04472c2",
   "metadata": {},
   "outputs": [
    {
     "data": {
      "image/png": "[encoded data removed]",
      "text/plain": [
       "<Figure size 432x288 with 1 Axes>"
      ]
     },
     "metadata": {
      "needs_background": "light"
     },
     "output_type": "display_data"
    }
   ],
   "source": [
    "plt.scatter(X_test, y_test)\n",
    "plt.plot(X_test, y_pred, color='r')\n",
    "plt.show()"
   ]
  },
  {
   "cell_type": "code",
   "execution_count": 19,
   "id": "03a4d77e",
   "metadata": {},
   "outputs": [
    {
     "data": {
      "text/plain": [
       "MLPClassifier()"
      ]
     },
     "execution_count": 19,
     "metadata": {},
     "output_type": "execute_result"
    }
   ],
   "source": [
    "mlp = MLPClassifier()\n",
    "mlp.fit(X_train.values.reshape(-1, 1), y_train)"
   ]
  },
  {
   "cell_type": "code",
   "execution_count": 20,
   "id": "7d754391",
   "metadata": {},
   "outputs": [],
   "source": [
    "mlp_pred = svc.predict(X_test.values.reshape(-1, 1))"
   ]
  },
  {
   "cell_type": "code",
   "execution_count": 21,
   "id": "04937d93",
   "metadata": {},
   "outputs": [
    {
     "name": "stdout",
     "output_type": "stream",
     "text": [
      "[[65  0]\n",
      " [10  0]]\n"
     ]
    }
   ],
   "source": [
    "print(confusion_matrix(y_test, mlp_pred))"
   ]
  },
  {
   "cell_type": "code",
   "execution_count": 22,
   "id": "cfbd1930",
   "metadata": {},
   "outputs": [
    {
     "name": "stdout",
     "output_type": "stream",
     "text": [
      "              precision    recall  f1-score   support\n",
      "\n",
      "           0       0.87      1.00      0.93        65\n",
      "           1       1.00      0.00      0.00        10\n",
      "\n",
      "    accuracy                           0.87        75\n",
      "   macro avg       0.93      0.50      0.46        75\n",
      "weighted avg       0.88      0.87      0.80        75\n",
      "\n"
     ]
    }
   ],
   "source": [
    "print(classification_report(y_test, mlp_pred, zero_division = 1))"
   ]
  },
  {
   "cell_type": "code",
   "execution_count": 23,
   "id": "356cf482",
   "metadata": {},
   "outputs": [
    {
     "data": {
      "image/png": "[encoded data removed]",
      "text/plain": [
       "<Figure size 432x288 with 1 Axes>"
      ]
     },
     "metadata": {
      "needs_background": "light"
     },
     "output_type": "display_data"
    }
   ],
   "source": [
    "plt.scatter(X_test, y_test)\n",
    "plt.plot(X_test, mlp_pred, color='r')\n",
    "plt.show()"
   ]
  },
  {
   "cell_type": "code",
   "execution_count": 24,
   "id": "d8946f60",
   "metadata": {},
   "outputs": [
    {
     "data": {
      "text/plain": [
       "MultinomialNB()"
      ]
     },
     "execution_count": 24,
     "metadata": {},
     "output_type": "execute_result"
    }
   ],
   "source": [
    "mnb = MultinomialNB()\n",
    "mnb.fit(X_train.values.reshape(-1, 1), y_train)"
   ]
  },
  {
   "cell_type": "code",
   "execution_count": 25,
   "id": "3cef4b21",
   "metadata": {},
   "outputs": [],
   "source": [
    "mnb_pred = svc.predict(X_test.values.reshape(-1, 1))"
   ]
  },
  {
   "cell_type": "code",
   "execution_count": 26,
   "id": "677c72ce",
   "metadata": {},
   "outputs": [
    {
     "name": "stdout",
     "output_type": "stream",
     "text": [
      "[[65  0]\n",
      " [10  0]]\n"
     ]
    }
   ],
   "source": [
    "print(confusion_matrix(y_test, mnb_pred))"
   ]
  },
  {
   "cell_type": "code",
   "execution_count": 27,
   "id": "95046bc1",
   "metadata": {},
   "outputs": [
    {
     "name": "stdout",
     "output_type": "stream",
     "text": [
      "              precision    recall  f1-score   support\n",
      "\n",
      "           0       0.87      1.00      0.93        65\n",
      "           1       1.00      0.00      0.00        10\n",
      "\n",
      "    accuracy                           0.87        75\n",
      "   macro avg       0.93      0.50      0.46        75\n",
      "weighted avg       0.88      0.87      0.80        75\n",
      "\n"
     ]
    }
   ],
   "source": [
    "print(classification_report(y_test, mnb_pred, zero_division = 1))"
   ]
  },
  {
   "cell_type": "code",
   "execution_count": 28,
   "id": "17113872",
   "metadata": {},
   "outputs": [
    {
     "data": {
      "image/png": "[encoded data removed]",
      "text/plain": [
       "<Figure size 432x288 with 1 Axes>"
      ]
     },
     "metadata": {
      "needs_background": "light"
     },
     "output_type": "display_data"
    }
   ],
   "source": [
    "plt.scatter(X_test, y_test)\n",
    "plt.plot(X_test, mnb_pred, color='r')\n",
    "plt.show()"
   ]
  },
  {
   "cell_type": "code",
   "execution_count": 29,
   "id": "4b18daa6",
   "metadata": {},
   "outputs": [
    {
     "name": "stdout",
     "output_type": "stream",
     "text": [
      "(174,) (174,)\n"
     ]
    }
   ],
   "source": [
    "print(X_train.shape, y_train.shape)"
   ]
  },
  {
   "cell_type": "code",
   "execution_count": 30,
   "id": "be04d963",
   "metadata": {},
   "outputs": [
    {
     "name": "stderr",
     "output_type": "stream",
     "text": [
      "c:\\users\\mohdm\\appdata\\local\\programs\\python\\python38\\lib\\site-packages\\sklearn\\neural_network\\_multilayer_perceptron.py:614: ConvergenceWarning: Stochastic Optimizer: Maximum iterations (200) reached and the optimization hasn't converged yet.\n",
      "  warnings.warn(\n",
      "c:\\users\\mohdm\\appdata\\local\\programs\\python\\python38\\lib\\site-packages\\sklearn\\neural_network\\_multilayer_perceptron.py:614: ConvergenceWarning: Stochastic Optimizer: Maximum iterations (200) reached and the optimization hasn't converged yet.\n",
      "  warnings.warn(\n"
     ]
    }
   ],
   "source": [
    "mnb_scores = cross_val_score(mnb, X_train.values.reshape(-1, 1), y_train, cv=2)\n",
    "svc_scores = cross_val_score(svc, X_train.values.reshape(-1, 1), y_train, cv=2)\n",
    "mlp_scores = cross_val_score(mlp, X_train.values.reshape(-1, 1), y_train, cv=2)"
   ]
  },
  {
   "cell_type": "code",
   "execution_count": 31,
   "id": "d44d7b3d",
   "metadata": {},
   "outputs": [
    {
     "name": "stdout",
     "output_type": "stream",
     "text": [
      "For Multinomial NB:  [0.93103448 0.93103448]\n",
      "For SVM:  [0.93103448 0.93103448]\n",
      "For Multi-layer Perceptron:  [0.93103448 0.93103448]\n"
     ]
    }
   ],
   "source": [
    "print(\"For Multinomial NB: \", mnb_scores)\n",
    "print(\"For SVM: \", svc_scores)\n",
    "print(\"For Multi-layer Perceptron: \", mlp_scores)"
   ]
  }
 ],
 "metadata": {
  "kernelspec": {
   "display_name": "Python 3",
   "language": "python",
   "name": "python3"
  },
  "language_info": {
   "codemirror_mode": {
    "name": "ipython",
    "version": 3
   },
   "file_extension": ".py",
   "mimetype": "text/x-python",
   "name": "python",
   "nbconvert_exporter": "python",
   "pygments_lexer": "ipython3",
   "version": "3.8.0"
  }
 },
 "nbformat": 4,
 "nbformat_minor": 5
}
