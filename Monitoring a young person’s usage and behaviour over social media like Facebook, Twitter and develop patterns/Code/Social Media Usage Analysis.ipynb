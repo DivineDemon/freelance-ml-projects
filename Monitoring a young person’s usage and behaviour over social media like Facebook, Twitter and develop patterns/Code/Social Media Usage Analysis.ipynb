{
 "cells": [
  {
   "cell_type": "code",
   "execution_count": 1,
   "id": "d9ad68f5",
   "metadata": {},
   "outputs": [
    {
     "name": "stdout",
     "output_type": "stream",
     "text": [
      "./download.png\n",
      "./Social Media Usage Analysis.html\n",
      "./Social Media Usage Analysis.ipynb\n",
      "./social-media-usage-india.csv\n",
      "./.ipynb_checkpoints\\Social Media Usage Analysis-checkpoint.ipynb\n"
     ]
    }
   ],
   "source": [
    "import numpy as np\n",
    "import pandas as pd\n",
    "import matplotlib.pyplot as plt\n",
    "from collections import OrderedDict\n",
    "import os\n",
    "for dirname, _, filenames in os.walk('./'):\n",
    "    for filename in filenames:\n",
    "        print(os.path.join(dirname, filename))"
   ]
  },
  {
   "cell_type": "code",
   "execution_count": 2,
   "id": "e467f6b6",
   "metadata": {},
   "outputs": [
    {
     "data": {
      "text/html": [
       "<div>\n",
       "<style scoped>\n",
       "    .dataframe tbody tr th:only-of-type {\n",
       "        vertical-align: middle;\n",
       "    }\n",
       "\n",
       "    .dataframe tbody tr th {\n",
       "        vertical-align: top;\n",
       "    }\n",
       "\n",
       "    .dataframe thead th {\n",
       "        text-align: right;\n",
       "    }\n",
       "</style>\n",
       "<table border=\"1\" class=\"dataframe\">\n",
       "  <thead>\n",
       "    <tr style=\"text-align: right;\">\n",
       "      <th></th>\n",
       "      <th>Age</th>\n",
       "      <th>City</th>\n",
       "      <th>Current Status</th>\n",
       "      <th>Do you own multiple profiles on Instagram?</th>\n",
       "      <th>Gender</th>\n",
       "      <th>Highest Education</th>\n",
       "      <th>Location (City Airport Code)</th>\n",
       "      <th>Phone OS</th>\n",
       "      <th>State</th>\n",
       "      <th>Zone</th>\n",
       "      <th>...</th>\n",
       "      <th>Time Spent on Instagram in last week (in minutes)</th>\n",
       "      <th>Time Spent on Instagram in last weekend (in minutes)</th>\n",
       "      <th>Time Spent on WhatsApp in last week (in minutes)</th>\n",
       "      <th>Time Spent on WhatsApp in last weekend (in minutes)</th>\n",
       "      <th>Total Facebook Usage</th>\n",
       "      <th>Total Instagram Usage</th>\n",
       "      <th>Total Social Media Usage</th>\n",
       "      <th>Total Week Usage</th>\n",
       "      <th>Total Weekend Usage</th>\n",
       "      <th>Total WhatsApp Usage</th>\n",
       "    </tr>\n",
       "  </thead>\n",
       "  <tbody>\n",
       "    <tr>\n",
       "      <th>0</th>\n",
       "      <td>24</td>\n",
       "      <td>Delhi</td>\n",
       "      <td>Working professional</td>\n",
       "      <td>No</td>\n",
       "      <td>Female</td>\n",
       "      <td>Graduation</td>\n",
       "      <td>DEL</td>\n",
       "      <td>iOs</td>\n",
       "      <td>Delhi</td>\n",
       "      <td>Northern</td>\n",
       "      <td>...</td>\n",
       "      <td>770</td>\n",
       "      <td>400</td>\n",
       "      <td>900</td>\n",
       "      <td>120</td>\n",
       "      <td>0</td>\n",
       "      <td>1,170</td>\n",
       "      <td>2,190</td>\n",
       "      <td>1,670</td>\n",
       "      <td>520</td>\n",
       "      <td>1,020</td>\n",
       "    </tr>\n",
       "    <tr>\n",
       "      <th>1</th>\n",
       "      <td>39</td>\n",
       "      <td>Delhi</td>\n",
       "      <td>Working professional</td>\n",
       "      <td>No</td>\n",
       "      <td>Female</td>\n",
       "      <td>Post graduation</td>\n",
       "      <td>DEL</td>\n",
       "      <td>iOs</td>\n",
       "      <td>Delhi</td>\n",
       "      <td>Northern</td>\n",
       "      <td>...</td>\n",
       "      <td>0</td>\n",
       "      <td>0</td>\n",
       "      <td>5,000</td>\n",
       "      <td>2,000</td>\n",
       "      <td>8,160</td>\n",
       "      <td>0</td>\n",
       "      <td>15,160</td>\n",
       "      <td>11,000</td>\n",
       "      <td>4,160</td>\n",
       "      <td>7,000</td>\n",
       "    </tr>\n",
       "    <tr>\n",
       "      <th>2</th>\n",
       "      <td>22</td>\n",
       "      <td>Mumbai</td>\n",
       "      <td>Working professional</td>\n",
       "      <td>No</td>\n",
       "      <td>Male</td>\n",
       "      <td>Graduation</td>\n",
       "      <td>BOM</td>\n",
       "      <td>Android</td>\n",
       "      <td>Maharashtra</td>\n",
       "      <td>Western</td>\n",
       "      <td>...</td>\n",
       "      <td>1,000</td>\n",
       "      <td>1,000</td>\n",
       "      <td>7,000</td>\n",
       "      <td>2,000</td>\n",
       "      <td>2,500</td>\n",
       "      <td>2,000</td>\n",
       "      <td>13,500</td>\n",
       "      <td>8,500</td>\n",
       "      <td>5,000</td>\n",
       "      <td>9,000</td>\n",
       "    </tr>\n",
       "    <tr>\n",
       "      <th>3</th>\n",
       "      <td>26</td>\n",
       "      <td>Bengaluru</td>\n",
       "      <td>Sabbatical</td>\n",
       "      <td>Yes</td>\n",
       "      <td>Female</td>\n",
       "      <td>Graduation</td>\n",
       "      <td>BLR</td>\n",
       "      <td>Android</td>\n",
       "      <td>Karnataka</td>\n",
       "      <td>Southern</td>\n",
       "      <td>...</td>\n",
       "      <td>2,000</td>\n",
       "      <td>2,000</td>\n",
       "      <td>1,680</td>\n",
       "      <td>1,680</td>\n",
       "      <td>3,000</td>\n",
       "      <td>4,000</td>\n",
       "      <td>10,360</td>\n",
       "      <td>5,180</td>\n",
       "      <td>5,180</td>\n",
       "      <td>3,360</td>\n",
       "    </tr>\n",
       "    <tr>\n",
       "      <th>4</th>\n",
       "      <td>50</td>\n",
       "      <td>Delhi</td>\n",
       "      <td>Working professional</td>\n",
       "      <td>No</td>\n",
       "      <td>Male</td>\n",
       "      <td>Graduation</td>\n",
       "      <td>DEL</td>\n",
       "      <td>iOs</td>\n",
       "      <td>Delhi</td>\n",
       "      <td>Northern</td>\n",
       "      <td>...</td>\n",
       "      <td>0</td>\n",
       "      <td>0</td>\n",
       "      <td>2,400</td>\n",
       "      <td>1,300</td>\n",
       "      <td>3,000</td>\n",
       "      <td>0</td>\n",
       "      <td>6,700</td>\n",
       "      <td>3,900</td>\n",
       "      <td>2,800</td>\n",
       "      <td>3,700</td>\n",
       "    </tr>\n",
       "  </tbody>\n",
       "</table>\n",
       "<p>5 rows × 26 columns</p>\n",
       "</div>"
      ],
      "text/plain": [
       "   Age       City        Current Status  \\\n",
       "0   24      Delhi  Working professional   \n",
       "1   39      Delhi  Working professional   \n",
       "2   22     Mumbai  Working professional   \n",
       "3   26  Bengaluru            Sabbatical   \n",
       "4   50      Delhi  Working professional   \n",
       "\n",
       "  Do you own multiple profiles on Instagram?  Gender Highest Education  \\\n",
       "0                                         No  Female        Graduation   \n",
       "1                                         No  Female   Post graduation   \n",
       "2                                         No    Male        Graduation   \n",
       "3                                        Yes  Female        Graduation   \n",
       "4                                         No    Male        Graduation   \n",
       "\n",
       "  Location (City Airport Code) Phone OS        State      Zone  ...  \\\n",
       "0                          DEL      iOs        Delhi  Northern  ...   \n",
       "1                          DEL      iOs        Delhi  Northern  ...   \n",
       "2                          BOM  Android  Maharashtra   Western  ...   \n",
       "3                          BLR  Android    Karnataka  Southern  ...   \n",
       "4                          DEL      iOs        Delhi  Northern  ...   \n",
       "\n",
       "  Time Spent on Instagram in last week (in minutes)  \\\n",
       "0                                               770   \n",
       "1                                                 0   \n",
       "2                                             1,000   \n",
       "3                                             2,000   \n",
       "4                                                 0   \n",
       "\n",
       "  Time Spent on Instagram in last weekend (in minutes)  \\\n",
       "0                                                400     \n",
       "1                                                  0     \n",
       "2                                              1,000     \n",
       "3                                              2,000     \n",
       "4                                                  0     \n",
       "\n",
       "   Time Spent on WhatsApp in last week (in minutes)  \\\n",
       "0                                               900   \n",
       "1                                             5,000   \n",
       "2                                             7,000   \n",
       "3                                             1,680   \n",
       "4                                             2,400   \n",
       "\n",
       "   Time Spent on WhatsApp in last weekend (in minutes) Total Facebook Usage  \\\n",
       "0                                                120                      0   \n",
       "1                                              2,000                  8,160   \n",
       "2                                              2,000                  2,500   \n",
       "3                                              1,680                  3,000   \n",
       "4                                              1,300                  3,000   \n",
       "\n",
       "  Total Instagram Usage Total Social Media Usage Total Week Usage  \\\n",
       "0                 1,170                    2,190            1,670   \n",
       "1                     0                   15,160           11,000   \n",
       "2                 2,000                   13,500            8,500   \n",
       "3                 4,000                   10,360            5,180   \n",
       "4                     0                    6,700            3,900   \n",
       "\n",
       "  Total Weekend Usage Total WhatsApp Usage  \n",
       "0                 520                1,020  \n",
       "1               4,160                7,000  \n",
       "2               5,000                9,000  \n",
       "3               5,180                3,360  \n",
       "4               2,800                3,700  \n",
       "\n",
       "[5 rows x 26 columns]"
      ]
     },
     "execution_count": 2,
     "metadata": {},
     "output_type": "execute_result"
    }
   ],
   "source": [
    "data = pd.read_csv('social-media-usage-india.csv')\n",
    "data.head()"
   ]
  },
  {
   "cell_type": "code",
   "execution_count": 3,
   "id": "357b77d9",
   "metadata": {},
   "outputs": [
    {
     "data": {
      "text/plain": [
       "Index(['Age', 'City', 'Current Status',\n",
       "       'Do you own multiple profiles on Instagram?', 'Gender',\n",
       "       'Highest Education', 'Location (City Airport Code)', 'Phone OS',\n",
       "       'State', 'Zone',\n",
       "       'How many followers do you have on Instagram? (In case of multiple accounts, please mention the one with the maximum)',\n",
       "       'How many posts do you have on Instagram?', 'Latitude', 'Longitude',\n",
       "       'Time Spent on Facebook in last week (in minutes)',\n",
       "       'Time Spent on Facebook in last weekend (in minutes)',\n",
       "       'Time Spent on Instagram in last week (in minutes)',\n",
       "       'Time Spent on Instagram in last weekend (in minutes)',\n",
       "       'Time Spent on WhatsApp in last week (in minutes)',\n",
       "       'Time Spent on WhatsApp in last weekend (in minutes)',\n",
       "       'Total Facebook Usage', 'Total Instagram Usage',\n",
       "       'Total Social Media Usage', 'Total Week Usage', 'Total Weekend Usage',\n",
       "       'Total WhatsApp Usage'],\n",
       "      dtype='object')"
      ]
     },
     "execution_count": 3,
     "metadata": {},
     "output_type": "execute_result"
    }
   ],
   "source": [
    "data.columns"
   ]
  },
  {
   "cell_type": "code",
   "execution_count": 4,
   "id": "c2c65f85",
   "metadata": {},
   "outputs": [],
   "source": [
    "data = data.rename(columns={\n",
    "    'How many followers do you have on Instagram? (In case of multiple accounts, please mention the one with the maximum)':'Instagram Followers',\n",
    "    'How many posts do you have on Instagram?':'Instagram Posts'})"
   ]
  },
  {
   "cell_type": "code",
   "execution_count": 5,
   "id": "6f11c126",
   "metadata": {},
   "outputs": [
    {
     "name": "stdout",
     "output_type": "stream",
     "text": [
      "<class 'pandas.core.frame.DataFrame'>\n",
      "RangeIndex: 1628 entries, 0 to 1627\n",
      "Data columns (total 26 columns):\n",
      " #   Column                                                Non-Null Count  Dtype  \n",
      "---  ------                                                --------------  -----  \n",
      " 0   Age                                                   1628 non-null   int64  \n",
      " 1   City                                                  1628 non-null   object \n",
      " 2   Current Status                                        1628 non-null   object \n",
      " 3   Do you own multiple profiles on Instagram?            1628 non-null   object \n",
      " 4   Gender                                                1628 non-null   object \n",
      " 5   Highest Education                                     1628 non-null   object \n",
      " 6   Location (City Airport Code)                          1628 non-null   object \n",
      " 7   Phone OS                                              1628 non-null   object \n",
      " 8   State                                                 1628 non-null   object \n",
      " 9   Zone                                                  1628 non-null   object \n",
      " 10  Instagram Followers                                   1628 non-null   object \n",
      " 11  Instagram Posts                                       1628 non-null   object \n",
      " 12  Latitude                                              1628 non-null   float64\n",
      " 13  Longitude                                             1628 non-null   float64\n",
      " 14  Time Spent on Facebook in last week (in minutes)      1628 non-null   object \n",
      " 15  Time Spent on Facebook in last weekend (in minutes)   1628 non-null   object \n",
      " 16  Time Spent on Instagram in last week (in minutes)     1628 non-null   object \n",
      " 17  Time Spent on Instagram in last weekend (in minutes)  1628 non-null   object \n",
      " 18  Time Spent on WhatsApp in last week (in minutes)      1628 non-null   object \n",
      " 19  Time Spent on WhatsApp in last weekend (in minutes)   1628 non-null   object \n",
      " 20  Total Facebook Usage                                  1628 non-null   object \n",
      " 21  Total Instagram Usage                                 1628 non-null   object \n",
      " 22  Total Social Media Usage                              1628 non-null   object \n",
      " 23  Total Week Usage                                      1628 non-null   object \n",
      " 24  Total Weekend Usage                                   1628 non-null   object \n",
      " 25  Total WhatsApp Usage                                  1628 non-null   object \n",
      "dtypes: float64(2), int64(1), object(23)\n",
      "memory usage: 330.8+ KB\n"
     ]
    }
   ],
   "source": [
    "data.info()"
   ]
  },
  {
   "cell_type": "code",
   "execution_count": 6,
   "id": "7b06d5b2",
   "metadata": {},
   "outputs": [
    {
     "data": {
      "text/plain": [
       "(1628, 26)"
      ]
     },
     "execution_count": 6,
     "metadata": {},
     "output_type": "execute_result"
    }
   ],
   "source": [
    "data.shape"
   ]
  },
  {
   "cell_type": "code",
   "execution_count": 7,
   "id": "29aab217",
   "metadata": {},
   "outputs": [
    {
     "data": {
      "text/plain": [
       "Age                                                                       24\n",
       "City                                                                   Delhi\n",
       "Current Status                                          Working professional\n",
       "Do you own multiple profiles on Instagram?                                No\n",
       "Gender                                                                Female\n",
       "Highest Education                                                 Graduation\n",
       "Location (City Airport Code)                                             DEL\n",
       "Phone OS                                                                 iOs\n",
       "State                                                                  Delhi\n",
       "Zone                                                                Northern\n",
       "Instagram Followers                                                      456\n",
       "Instagram Posts                                                           20\n",
       "Latitude                                                           28.651952\n",
       "Longitude                                                          77.231495\n",
       "Time Spent on Facebook in last week (in minutes)                           0\n",
       "Time Spent on Facebook in last weekend (in minutes)                        0\n",
       "Time Spent on Instagram in last week (in minutes)                        770\n",
       "Time Spent on Instagram in last weekend (in minutes)                     400\n",
       "Time Spent on WhatsApp in last week (in minutes)                         900\n",
       "Time Spent on WhatsApp in last weekend (in minutes)                      120\n",
       "Total Facebook Usage                                                       0\n",
       "Total Instagram Usage                                                  1,170\n",
       "Total Social Media Usage                                               2,190\n",
       "Total Week Usage                                                       1,670\n",
       "Total Weekend Usage                                                      520\n",
       "Total WhatsApp Usage                                                   1,020\n",
       "Name: 0, dtype: object"
      ]
     },
     "execution_count": 7,
     "metadata": {},
     "output_type": "execute_result"
    }
   ],
   "source": [
    "data.loc[0]"
   ]
  },
  {
   "cell_type": "code",
   "execution_count": 8,
   "id": "f10a8d1a",
   "metadata": {},
   "outputs": [
    {
     "data": {
      "text/plain": [
       "Working professional    796\n",
       "Student                 637\n",
       "Sabbatical              190\n",
       "Self Employed             5\n",
       "Name: Current Status, dtype: int64"
      ]
     },
     "execution_count": 8,
     "metadata": {},
     "output_type": "execute_result"
    }
   ],
   "source": [
    "data['Current Status'].value_counts()"
   ]
  },
  {
   "cell_type": "code",
   "execution_count": 9,
   "id": "f0b4793c",
   "metadata": {},
   "outputs": [],
   "source": [
    "def convert_to_num(x):\n",
    "    x = x.replace(',', '')\n",
    "    return pd.to_numeric(x)"
   ]
  },
  {
   "cell_type": "markdown",
   "id": "6f4f1bb2",
   "metadata": {},
   "source": [
    "### From our experience, we see that people tend to be online more often on the weekend than on the weekdays. The reason being obvious, that they are busy in schools or work.\n",
    "\n",
    "# Hypothesis - Total Social Media usage on the weekend is more than that on weekdays"
   ]
  },
  {
   "cell_type": "code",
   "execution_count": 10,
   "id": "1f90b024",
   "metadata": {},
   "outputs": [],
   "source": [
    "data_c = data[data['Current Status'] == 'Working professional']\n",
    "data_c = data[['Total Week Usage', 'Total Weekend Usage']].applymap(convert_to_num)"
   ]
  },
  {
   "cell_type": "code",
   "execution_count": 11,
   "id": "97d1db89",
   "metadata": {},
   "outputs": [
    {
     "data": {
      "image/png": "[encoded data removed]",
      "text/plain": [
       "<Figure size 432x288 with 1 Axes>"
      ]
     },
     "metadata": {
      "needs_background": "light"
     },
     "output_type": "display_data"
    }
   ],
   "source": [
    "plt.hist([data_c['Total Week Usage'], data_c['Total Weekend Usage']], label = ['Total Week Usage', 'Total Weekend Usage'])\n",
    "plt.legend(loc = 'upper right')\n",
    "plt.show()"
   ]
  },
  {
   "cell_type": "markdown",
   "id": "9515ff84",
   "metadata": {},
   "source": [
    "#### The Histogram gives a good look at the Weekend Usage vs Weekly Usage and it seems our hypothesis is correct. Let's use a Probability Mass Function to Visualize and be sure about our claim."
   ]
  },
  {
   "cell_type": "code",
   "execution_count": 12,
   "id": "621b678e",
   "metadata": {},
   "outputs": [
    {
     "data": {
      "text/plain": [
       "[<matplotlib.lines.Line2D at 0x271883434f0>]"
      ]
     },
     "execution_count": 12,
     "metadata": {},
     "output_type": "execute_result"
    },
    {
     "data": {
      "image/png": "[encoded data removed]",
      "text/plain": [
       "<Figure size 432x288 with 1 Axes>"
      ]
     },
     "metadata": {
      "needs_background": "light"
     },
     "output_type": "display_data"
    }
   ],
   "source": [
    "def pmf(seq):\n",
    "    freq_dict = {}\n",
    "    for i in seq:\n",
    "        if i in freq_dict:\n",
    "            freq_dict[i]+=1\n",
    "        else:\n",
    "            freq_dict[i]=1\n",
    "    N = len(seq)\n",
    "    pmf_dict={}\n",
    "    for k,v in freq_dict.items():\n",
    "        pmf_dict[k]=v/N\n",
    "    return pmf_dict\n",
    "\n",
    "pmf_week_usage = pmf(data_c['Total Week Usage'])\n",
    "pmf_weekend_usage = pmf(data_c['Total Weekend Usage'])\n",
    "\n",
    "pmf_week_usage_sorted = OrderedDict(sorted(pmf_week_usage.items()))\n",
    "pmf_weekend_usage_sorted = OrderedDict(sorted(pmf_weekend_usage.items()))\n",
    "\n",
    "plt.step(list(pmf_week_usage_sorted.keys()),list(pmf_week_usage_sorted.values()), label=\"Total Week Usage\")\n",
    "plt.step(list(pmf_weekend_usage_sorted.keys()),list(pmf_weekend_usage_sorted.values()), label=\"Total Weekend Usage\")"
   ]
  },
  {
   "cell_type": "markdown",
   "id": "45352f10",
   "metadata": {},
   "source": [
    "# Conclusion\n",
    "#### It looks like our Hypothesis is True. From the PMF we can be sure that there are more of Weekend Usage than Weekly Usage\n",
    "\n",
    "# Analysis of the Instagram and Facebook Usage.\n",
    "\n",
    "### Hypothesis - People are shifting to Instagram from Facebook as a new trend. Let's check that out"
   ]
  },
  {
   "cell_type": "code",
   "execution_count": 13,
   "id": "4c42805a",
   "metadata": {},
   "outputs": [
    {
     "name": "stderr",
     "output_type": "stream",
     "text": [
      "<ipython-input-13-8e9378446d86>:2: SettingWithCopyWarning: \n",
      "A value is trying to be set on a copy of a slice from a DataFrame.\n",
      "Try using .loc[row_indexer,col_indexer] = value instead\n",
      "\n",
      "See the caveats in the documentation: https://pandas.pydata.org/pandas-docs/stable/user_guide/indexing.html#returning-a-view-versus-a-copy\n",
      "  data_c['Total Facebook Usage'] = data_c['Total Facebook Usage'].map(convert_to_num)\n",
      "<ipython-input-13-8e9378446d86>:3: SettingWithCopyWarning: \n",
      "A value is trying to be set on a copy of a slice from a DataFrame.\n",
      "Try using .loc[row_indexer,col_indexer] = value instead\n",
      "\n",
      "See the caveats in the documentation: https://pandas.pydata.org/pandas-docs/stable/user_guide/indexing.html#returning-a-view-versus-a-copy\n",
      "  data_c['Total Instagram Usage'] = data_c['Total Instagram Usage'].map(convert_to_num)\n",
      "<ipython-input-13-8e9378446d86>:4: SettingWithCopyWarning: \n",
      "A value is trying to be set on a copy of a slice from a DataFrame.\n",
      "Try using .loc[row_indexer,col_indexer] = value instead\n",
      "\n",
      "See the caveats in the documentation: https://pandas.pydata.org/pandas-docs/stable/user_guide/indexing.html#returning-a-view-versus-a-copy\n",
      "  data_c['Total Social Media Usage'] = data_c['Total Social Media Usage'].map(convert_to_num)\n"
     ]
    },
    {
     "data": {
      "text/plain": [
       "{'bodies': [<matplotlib.collections.PolyCollection at 0x271883af790>,\n",
       "  <matplotlib.collections.PolyCollection at 0x271883afac0>,\n",
       "  <matplotlib.collections.PolyCollection at 0x271883afdf0>],\n",
       " 'cmeans': <matplotlib.collections.LineCollection at 0x271883af5b0>,\n",
       " 'cmaxes': <matplotlib.collections.LineCollection at 0x271883c63a0>,\n",
       " 'cmins': <matplotlib.collections.LineCollection at 0x271883c6730>,\n",
       " 'cbars': <matplotlib.collections.LineCollection at 0x271883c6ac0>}"
      ]
     },
     "execution_count": 13,
     "metadata": {},
     "output_type": "execute_result"
    },
    {
     "data": {
      "image/png": "[encoded data removed]",
      "text/plain": [
       "<Figure size 432x288 with 1 Axes>"
      ]
     },
     "metadata": {
      "needs_background": "light"
     },
     "output_type": "display_data"
    }
   ],
   "source": [
    "data_c = data[['Total Facebook Usage', 'Total Instagram Usage', 'Total Social Media Usage']]\n",
    "data_c['Total Facebook Usage'] = data_c['Total Facebook Usage'].map(convert_to_num)\n",
    "data_c['Total Instagram Usage'] = data_c['Total Instagram Usage'].map(convert_to_num)\n",
    "data_c['Total Social Media Usage'] = data_c['Total Social Media Usage'].map(convert_to_num)\n",
    "plt.violinplot(data_c, showmeans=True)"
   ]
  },
  {
   "cell_type": "markdown",
   "id": "4329d6b3",
   "metadata": {},
   "source": [
    "#### Looks like there are more users of Instagram than Facebook. To be more sure let us get rid of the Non Facebook and Instagram users, i.e. users who have 0 usage for Facebook or Instagram."
   ]
  },
  {
   "cell_type": "code",
   "execution_count": 14,
   "id": "f8818a27",
   "metadata": {},
   "outputs": [
    {
     "data": {
      "text/plain": [
       "(1628, 3)"
      ]
     },
     "execution_count": 14,
     "metadata": {},
     "output_type": "execute_result"
    }
   ],
   "source": [
    "data_c.shape"
   ]
  },
  {
   "cell_type": "code",
   "execution_count": 15,
   "id": "0e7f067e",
   "metadata": {},
   "outputs": [
    {
     "data": {
      "text/plain": [
       "(1147, 3)"
      ]
     },
     "execution_count": 15,
     "metadata": {},
     "output_type": "execute_result"
    }
   ],
   "source": [
    "data_c = data_c[(data_c['Total Facebook Usage']>0)&(data_c['Total Instagram Usage']>0)]\n",
    "data_c.shape"
   ]
  },
  {
   "cell_type": "code",
   "execution_count": 16,
   "id": "b9d1b745",
   "metadata": {},
   "outputs": [
    {
     "data": {
      "text/plain": [
       "{'whiskers': [<matplotlib.lines.Line2D at 0x27188581eb0>,\n",
       "  <matplotlib.lines.Line2D at 0x2718858f070>,\n",
       "  <matplotlib.lines.Line2D at 0x27188598a30>,\n",
       "  <matplotlib.lines.Line2D at 0x27188598dc0>,\n",
       "  <matplotlib.lines.Line2D at 0x271885b0730>,\n",
       "  <matplotlib.lines.Line2D at 0x271885b0ac0>],\n",
       " 'caps': [<matplotlib.lines.Line2D at 0x2718858f430>,\n",
       "  <matplotlib.lines.Line2D at 0x2718858f7f0>,\n",
       "  <matplotlib.lines.Line2D at 0x271885a5190>,\n",
       "  <matplotlib.lines.Line2D at 0x271885a5520>,\n",
       "  <matplotlib.lines.Line2D at 0x271885b0e50>,\n",
       "  <matplotlib.lines.Line2D at 0x271885bc220>],\n",
       " 'boxes': [<matplotlib.lines.Line2D at 0x27188581a60>,\n",
       "  <matplotlib.lines.Line2D at 0x271885986a0>,\n",
       "  <matplotlib.lines.Line2D at 0x271885b03a0>],\n",
       " 'medians': [<matplotlib.lines.Line2D at 0x2718858fb80>,\n",
       "  <matplotlib.lines.Line2D at 0x271885a58b0>,\n",
       "  <matplotlib.lines.Line2D at 0x271885bc5b0>],\n",
       " 'fliers': [<matplotlib.lines.Line2D at 0x271885982e0>,\n",
       "  <matplotlib.lines.Line2D at 0x271885a5fd0>,\n",
       "  <matplotlib.lines.Line2D at 0x271885bccd0>],\n",
       " 'means': [<matplotlib.lines.Line2D at 0x2718858ff10>,\n",
       "  <matplotlib.lines.Line2D at 0x271885a5c40>,\n",
       "  <matplotlib.lines.Line2D at 0x271885bc940>]}"
      ]
     },
     "execution_count": 16,
     "metadata": {},
     "output_type": "execute_result"
    },
    {
     "data": {
      "image/png": "[encoded data removed]",
      "text/plain": [
       "<Figure size 432x288 with 1 Axes>"
      ]
     },
     "metadata": {
      "needs_background": "light"
     },
     "output_type": "display_data"
    }
   ],
   "source": [
    "plt.boxplot(data_c, showmeans=True)"
   ]
  },
  {
   "cell_type": "markdown",
   "id": "7f25f48e",
   "metadata": {},
   "source": [
    "# Conclusion\n",
    "#### Looking at both the Box Plot and Violin Plot, we can now be sure that people are indeed shifting to Instagram from facebook. Now let us have a analysis amongst Facebook Users, Instagram Users and if and how they relate to the number of Instagram Followers."
   ]
  },
  {
   "cell_type": "code",
   "execution_count": 17,
   "id": "68af74e2",
   "metadata": {},
   "outputs": [
    {
     "name": "stderr",
     "output_type": "stream",
     "text": [
      "<ipython-input-17-0a6307156042>:5: SettingWithCopyWarning: \n",
      "A value is trying to be set on a copy of a slice from a DataFrame.\n",
      "Try using .loc[row_indexer,col_indexer] = value instead\n",
      "\n",
      "See the caveats in the documentation: https://pandas.pydata.org/pandas-docs/stable/user_guide/indexing.html#returning-a-view-versus-a-copy\n",
      "  data_c['Total Facebook Usage'] = data_c['Total Facebook Usage'].map(convert_to_num)\n",
      "<ipython-input-17-0a6307156042>:6: SettingWithCopyWarning: \n",
      "A value is trying to be set on a copy of a slice from a DataFrame.\n",
      "Try using .loc[row_indexer,col_indexer] = value instead\n",
      "\n",
      "See the caveats in the documentation: https://pandas.pydata.org/pandas-docs/stable/user_guide/indexing.html#returning-a-view-versus-a-copy\n",
      "  data_c['Total Instagram Usage'] = data_c['Total Instagram Usage'].map(convert_to_num)\n",
      "<ipython-input-17-0a6307156042>:7: SettingWithCopyWarning: \n",
      "A value is trying to be set on a copy of a slice from a DataFrame.\n",
      "Try using .loc[row_indexer,col_indexer] = value instead\n",
      "\n",
      "See the caveats in the documentation: https://pandas.pydata.org/pandas-docs/stable/user_guide/indexing.html#returning-a-view-versus-a-copy\n",
      "  data_c['Instagram Followers'] = data_c['Instagram Followers'].map(convert_to_num)\n",
      "<ipython-input-17-0a6307156042>:8: SettingWithCopyWarning: \n",
      "A value is trying to be set on a copy of a slice from a DataFrame.\n",
      "Try using .loc[row_indexer,col_indexer] = value instead\n",
      "\n",
      "See the caveats in the documentation: https://pandas.pydata.org/pandas-docs/stable/user_guide/indexing.html#returning-a-view-versus-a-copy\n",
      "  data_c['Total Social Media Usage'] = data_c['Total Social Media Usage'].map(convert_to_num)\n"
     ]
    },
    {
     "data": {
      "text/html": [
       "<div>\n",
       "<style scoped>\n",
       "    .dataframe tbody tr th:only-of-type {\n",
       "        vertical-align: middle;\n",
       "    }\n",
       "\n",
       "    .dataframe tbody tr th {\n",
       "        vertical-align: top;\n",
       "    }\n",
       "\n",
       "    .dataframe thead th {\n",
       "        text-align: right;\n",
       "    }\n",
       "</style>\n",
       "<table border=\"1\" class=\"dataframe\">\n",
       "  <thead>\n",
       "    <tr style=\"text-align: right;\">\n",
       "      <th></th>\n",
       "      <th>Age</th>\n",
       "      <th>City</th>\n",
       "      <th>Current Status</th>\n",
       "      <th>Do you own multiple profiles on Instagram?</th>\n",
       "      <th>Gender</th>\n",
       "      <th>Highest Education</th>\n",
       "      <th>Location (City Airport Code)</th>\n",
       "      <th>Phone OS</th>\n",
       "      <th>State</th>\n",
       "      <th>Zone</th>\n",
       "      <th>Instagram Followers</th>\n",
       "      <th>Total Facebook Usage</th>\n",
       "      <th>Total Instagram Usage</th>\n",
       "      <th>Total Social Media Usage</th>\n",
       "    </tr>\n",
       "  </thead>\n",
       "  <tbody>\n",
       "    <tr>\n",
       "      <th>0</th>\n",
       "      <td>24</td>\n",
       "      <td>Delhi</td>\n",
       "      <td>Working professional</td>\n",
       "      <td>No</td>\n",
       "      <td>Female</td>\n",
       "      <td>Graduation</td>\n",
       "      <td>DEL</td>\n",
       "      <td>iOs</td>\n",
       "      <td>Delhi</td>\n",
       "      <td>Northern</td>\n",
       "      <td>456</td>\n",
       "      <td>0</td>\n",
       "      <td>1170</td>\n",
       "      <td>2190.0</td>\n",
       "    </tr>\n",
       "    <tr>\n",
       "      <th>1</th>\n",
       "      <td>39</td>\n",
       "      <td>Delhi</td>\n",
       "      <td>Working professional</td>\n",
       "      <td>No</td>\n",
       "      <td>Female</td>\n",
       "      <td>Post graduation</td>\n",
       "      <td>DEL</td>\n",
       "      <td>iOs</td>\n",
       "      <td>Delhi</td>\n",
       "      <td>Northern</td>\n",
       "      <td>0</td>\n",
       "      <td>8160</td>\n",
       "      <td>0</td>\n",
       "      <td>15160.0</td>\n",
       "    </tr>\n",
       "    <tr>\n",
       "      <th>2</th>\n",
       "      <td>22</td>\n",
       "      <td>Mumbai</td>\n",
       "      <td>Working professional</td>\n",
       "      <td>No</td>\n",
       "      <td>Male</td>\n",
       "      <td>Graduation</td>\n",
       "      <td>BOM</td>\n",
       "      <td>Android</td>\n",
       "      <td>Maharashtra</td>\n",
       "      <td>Western</td>\n",
       "      <td>400</td>\n",
       "      <td>2500</td>\n",
       "      <td>2000</td>\n",
       "      <td>13500.0</td>\n",
       "    </tr>\n",
       "    <tr>\n",
       "      <th>3</th>\n",
       "      <td>26</td>\n",
       "      <td>Bengaluru</td>\n",
       "      <td>Sabbatical</td>\n",
       "      <td>Yes</td>\n",
       "      <td>Female</td>\n",
       "      <td>Graduation</td>\n",
       "      <td>BLR</td>\n",
       "      <td>Android</td>\n",
       "      <td>Karnataka</td>\n",
       "      <td>Southern</td>\n",
       "      <td>485</td>\n",
       "      <td>3000</td>\n",
       "      <td>4000</td>\n",
       "      <td>10360.0</td>\n",
       "    </tr>\n",
       "    <tr>\n",
       "      <th>4</th>\n",
       "      <td>50</td>\n",
       "      <td>Delhi</td>\n",
       "      <td>Working professional</td>\n",
       "      <td>No</td>\n",
       "      <td>Male</td>\n",
       "      <td>Graduation</td>\n",
       "      <td>DEL</td>\n",
       "      <td>iOs</td>\n",
       "      <td>Delhi</td>\n",
       "      <td>Northern</td>\n",
       "      <td>0</td>\n",
       "      <td>3000</td>\n",
       "      <td>0</td>\n",
       "      <td>6700.0</td>\n",
       "    </tr>\n",
       "  </tbody>\n",
       "</table>\n",
       "</div>"
      ],
      "text/plain": [
       "   Age       City        Current Status  \\\n",
       "0   24      Delhi  Working professional   \n",
       "1   39      Delhi  Working professional   \n",
       "2   22     Mumbai  Working professional   \n",
       "3   26  Bengaluru            Sabbatical   \n",
       "4   50      Delhi  Working professional   \n",
       "\n",
       "  Do you own multiple profiles on Instagram?  Gender Highest Education  \\\n",
       "0                                         No  Female        Graduation   \n",
       "1                                         No  Female   Post graduation   \n",
       "2                                         No    Male        Graduation   \n",
       "3                                        Yes  Female        Graduation   \n",
       "4                                         No    Male        Graduation   \n",
       "\n",
       "  Location (City Airport Code) Phone OS        State      Zone  \\\n",
       "0                          DEL      iOs        Delhi  Northern   \n",
       "1                          DEL      iOs        Delhi  Northern   \n",
       "2                          BOM  Android  Maharashtra   Western   \n",
       "3                          BLR  Android    Karnataka  Southern   \n",
       "4                          DEL      iOs        Delhi  Northern   \n",
       "\n",
       "   Instagram Followers  Total Facebook Usage  Total Instagram Usage  \\\n",
       "0                  456                     0                   1170   \n",
       "1                    0                  8160                      0   \n",
       "2                  400                  2500                   2000   \n",
       "3                  485                  3000                   4000   \n",
       "4                    0                  3000                      0   \n",
       "\n",
       "   Total Social Media Usage  \n",
       "0                    2190.0  \n",
       "1                   15160.0  \n",
       "2                   13500.0  \n",
       "3                   10360.0  \n",
       "4                    6700.0  "
      ]
     },
     "execution_count": 17,
     "metadata": {},
     "output_type": "execute_result"
    }
   ],
   "source": [
    "data_c = data[['Age', 'City', 'Current Status',\n",
    "       'Do you own multiple profiles on Instagram?', 'Gender',\n",
    "       'Highest Education', 'Location (City Airport Code)', 'Phone OS',\n",
    "       'State', 'Zone','Instagram Followers','Total Facebook Usage', 'Total Instagram Usage', 'Total Social Media Usage']]\n",
    "data_c['Total Facebook Usage'] = data_c['Total Facebook Usage'].map(convert_to_num)\n",
    "data_c['Total Instagram Usage'] = data_c['Total Instagram Usage'].map(convert_to_num)\n",
    "data_c['Instagram Followers'] = data_c['Instagram Followers'].map(convert_to_num)\n",
    "data_c['Total Social Media Usage'] = data_c['Total Social Media Usage'].map(convert_to_num)\n",
    "data_c.head()"
   ]
  },
  {
   "cell_type": "code",
   "execution_count": 18,
   "id": "56e2e4ea",
   "metadata": {},
   "outputs": [
    {
     "data": {
      "image/png": "[encoded data removed]",
      "text/plain": [
       "<Figure size 432x288 with 9 Axes>"
      ]
     },
     "metadata": {
      "needs_background": "light"
     },
     "output_type": "display_data"
    }
   ],
   "source": [
    "axes = pd.plotting.scatter_matrix(data_c[['Instagram Followers','Total Facebook Usage', 'Total Instagram Usage']])\n",
    "for ax in axes.flatten():\n",
    "    ax.xaxis.label.set_rotation(0)\n",
    "    ax.yaxis.label.set_rotation(0)\n",
    "    ax.yaxis.label.set_ha('right')"
   ]
  },
  {
   "cell_type": "code",
   "execution_count": 19,
   "id": "33ae1177",
   "metadata": {},
   "outputs": [
    {
     "data": {
      "text/html": [
       "<div>\n",
       "<style scoped>\n",
       "    .dataframe tbody tr th:only-of-type {\n",
       "        vertical-align: middle;\n",
       "    }\n",
       "\n",
       "    .dataframe tbody tr th {\n",
       "        vertical-align: top;\n",
       "    }\n",
       "\n",
       "    .dataframe thead th {\n",
       "        text-align: right;\n",
       "    }\n",
       "</style>\n",
       "<table border=\"1\" class=\"dataframe\">\n",
       "  <thead>\n",
       "    <tr style=\"text-align: right;\">\n",
       "      <th></th>\n",
       "      <th>Instagram Followers</th>\n",
       "      <th>Total Facebook Usage</th>\n",
       "      <th>Total Instagram Usage</th>\n",
       "    </tr>\n",
       "  </thead>\n",
       "  <tbody>\n",
       "    <tr>\n",
       "      <th>Instagram Followers</th>\n",
       "      <td>1.000000</td>\n",
       "      <td>-0.029036</td>\n",
       "      <td>0.055666</td>\n",
       "    </tr>\n",
       "    <tr>\n",
       "      <th>Total Facebook Usage</th>\n",
       "      <td>-0.029036</td>\n",
       "      <td>1.000000</td>\n",
       "      <td>0.162187</td>\n",
       "    </tr>\n",
       "    <tr>\n",
       "      <th>Total Instagram Usage</th>\n",
       "      <td>0.055666</td>\n",
       "      <td>0.162187</td>\n",
       "      <td>1.000000</td>\n",
       "    </tr>\n",
       "  </tbody>\n",
       "</table>\n",
       "</div>"
      ],
      "text/plain": [
       "                       Instagram Followers  Total Facebook Usage  \\\n",
       "Instagram Followers               1.000000             -0.029036   \n",
       "Total Facebook Usage             -0.029036              1.000000   \n",
       "Total Instagram Usage             0.055666              0.162187   \n",
       "\n",
       "                       Total Instagram Usage  \n",
       "Instagram Followers                 0.055666  \n",
       "Total Facebook Usage                0.162187  \n",
       "Total Instagram Usage               1.000000  "
      ]
     },
     "execution_count": 19,
     "metadata": {},
     "output_type": "execute_result"
    }
   ],
   "source": [
    "data_c[['Instagram Followers','Total Facebook Usage', 'Total Instagram Usage']].corr()"
   ]
  },
  {
   "cell_type": "markdown",
   "id": "ee2ffd66",
   "metadata": {},
   "source": [
    "#### Although the Scatter Matrix did not tell us much, we can see from the Correlation Matrix that number of Instagram Followers are negatively correlated with Facebook Usage. Hence, we can say that, more the number of Instagram Followers people get, the less they visit Facebook!\n",
    "\n",
    "#### It is also intuitive and validated from the Correlation Matrix that more Instagram Followers leads to more Instagram Usage and vice-versa. We see that parents scold their kids when they visit Social Media very often and ask them to concentrate on studies as Social Media might distract them. Let us validate their claims!\n",
    "\n",
    "# My Hypothesis - People with more degrees tend to have less Total Social Network Usage"
   ]
  },
  {
   "cell_type": "code",
   "execution_count": 20,
   "id": "40cca370",
   "metadata": {},
   "outputs": [
    {
     "data": {
      "text/plain": [
       "<BarContainer object of 1628 artists>"
      ]
     },
     "execution_count": 20,
     "metadata": {},
     "output_type": "execute_result"
    },
    {
     "data": {
      "image/png": "[encoded data removed]",
      "text/plain": [
       "<Figure size 432x288 with 1 Axes>"
      ]
     },
     "metadata": {
      "needs_background": "light"
     },
     "output_type": "display_data"
    }
   ],
   "source": [
    "plt.bar(data_c['Highest Education'],data_c['Total Social Media Usage'])"
   ]
  },
  {
   "cell_type": "markdown",
   "id": "ef1a59bd",
   "metadata": {},
   "source": [
    "# Conclusion\n",
    "#### Now we have a conclusive proof that our asumption might not be correct! We see that poeple with Post Graduate degrees tend to use social media more than people having Graduation degrees only. Can this be due to the fact that people with Graduation tend to get into industrial jobs than people with Post Graduation degrees as people with PG degrees tend to get into academics and go for further studies?! Let's verify this.\n",
    "\n",
    "# Hypothesis\n",
    "#### People in Working Profession tend to visit Social Media less than others"
   ]
  },
  {
   "cell_type": "code",
   "execution_count": 21,
   "id": "8a5642bc",
   "metadata": {},
   "outputs": [
    {
     "data": {
      "text/plain": [
       "([0, 1, 2, 3],\n",
       " [Text(0, 0, ''), Text(0, 0, ''), Text(0, 0, ''), Text(0, 0, '')])"
      ]
     },
     "execution_count": 21,
     "metadata": {},
     "output_type": "execute_result"
    },
    {
     "data": {
      "image/png": "[encoded data removed]",
      "text/plain": [
       "<Figure size 432x288 with 1 Axes>"
      ]
     },
     "metadata": {
      "needs_background": "light"
     },
     "output_type": "display_data"
    }
   ],
   "source": [
    "plt.bar(data_c['Current Status'],data_c['Total Social Media Usage'])\n",
    "plt.xticks(rotation=20)"
   ]
  },
  {
   "cell_type": "markdown",
   "id": "cc99651d",
   "metadata": {},
   "source": [
    "# Conclusion\n",
    "#### We see from the bar chart that although Working Professionals visit social media less than Students (Intuitve!), but it is not always true that Working Professionals tend to visit Social Media less than other people. We can see that people who have taken Sabbatical visit social media less than Students and Working Professionals. People who are Self Employed are lesser. We can interpret and infer various reasons for this! Let us go back to our Instagram Analogy. We saw the rise and shift of Instagram from Facebook. Can we also say that Working Professional are shifting to Instagram lesser than others.\n",
    "\n",
    "# Hypothesis\n",
    "#### Working Professionals are not shifting to Instagram as much as others."
   ]
  },
  {
   "cell_type": "code",
   "execution_count": 22,
   "id": "d759cbe7",
   "metadata": {},
   "outputs": [
    {
     "name": "stderr",
     "output_type": "stream",
     "text": [
      "<ipython-input-22-3a61f18a6317>:1: SettingWithCopyWarning: \n",
      "A value is trying to be set on a copy of a slice from a DataFrame.\n",
      "Try using .loc[row_indexer,col_indexer] = value instead\n",
      "\n",
      "See the caveats in the documentation: https://pandas.pydata.org/pandas-docs/stable/user_guide/indexing.html#returning-a-view-versus-a-copy\n",
      "  data_c['Insta-FB'] = data_c['Total Instagram Usage'] - data_c['Total Facebook Usage']\n"
     ]
    }
   ],
   "source": [
    "data_c['Insta-FB'] = data_c['Total Instagram Usage'] - data_c['Total Facebook Usage']"
   ]
  },
  {
   "cell_type": "code",
   "execution_count": 23,
   "id": "4e5d5d93",
   "metadata": {},
   "outputs": [
    {
     "data": {
      "text/plain": [
       "([0, 1, 2, 3],\n",
       " [Text(0, 0, ''), Text(0, 0, ''), Text(0, 0, ''), Text(0, 0, '')])"
      ]
     },
     "execution_count": 23,
     "metadata": {},
     "output_type": "execute_result"
    },
    {
     "data": {
      "image/png": "[encoded data removed]",
      "text/plain": [
       "<Figure size 432x288 with 1 Axes>"
      ]
     },
     "metadata": {
      "needs_background": "light"
     },
     "output_type": "display_data"
    }
   ],
   "source": [
    "plt.bar(data_c['Current Status'], data_c['Insta-FB'])\n",
    "plt.xticks(rotation = 20)"
   ]
  },
  {
   "cell_type": "markdown",
   "id": "11106427",
   "metadata": {},
   "source": [
    "# Conclusion\n",
    "#### We can see from the bar chart that Working Professionals are using as much Facebook as they are using Instagram. This is also almost true for people with Sabbatical. But we see a clear shift to Instagram for Students. The new generation seems to love Instagram! Now let us talk about Instagram in more detail. How can one get huge number of followers? Can we say that people tend to follow celebraties and so people living in Metropolitan Cities than Non-Metropolitan Cities? (A bit Stereotypical!) Let's check this out!"
   ]
  },
  {
   "cell_type": "code",
   "execution_count": 24,
   "id": "ddaaba2d",
   "metadata": {},
   "outputs": [
    {
     "data": {
      "text/plain": [
       "{'Agra',\n",
       " 'Ahmedabad',\n",
       " 'Allahabad',\n",
       " 'Amritsar',\n",
       " 'Aurangabad',\n",
       " 'Bagdogra',\n",
       " 'Baroda',\n",
       " 'Belgaum',\n",
       " 'Bengaluru',\n",
       " 'Bhavnagar',\n",
       " 'Bhopal',\n",
       " 'Bhubaneshwar',\n",
       " 'Bhuj',\n",
       " 'Chandigarh',\n",
       " 'Chennai',\n",
       " 'Coimbatore',\n",
       " 'Cooch-behar',\n",
       " 'DehraDun',\n",
       " 'Delhi',\n",
       " 'Dibrugarh',\n",
       " 'Durgapur',\n",
       " 'Goa',\n",
       " 'Guwahati',\n",
       " 'Gwalior',\n",
       " 'Hyderabad',\n",
       " 'Indore',\n",
       " 'Jaipur',\n",
       " 'Jammu',\n",
       " 'Jorhat',\n",
       " 'Kandla',\n",
       " 'Kanpur',\n",
       " 'Kochi',\n",
       " 'Kolkata',\n",
       " 'Kulu',\n",
       " 'Lucknow',\n",
       " 'Ludhiana',\n",
       " 'Madurai',\n",
       " 'Mangalore',\n",
       " 'Mumbai',\n",
       " 'Nagpur',\n",
       " 'Nainital',\n",
       " 'Pathankot',\n",
       " 'Patna',\n",
       " 'Pune',\n",
       " 'Raipur',\n",
       " 'Rajkot',\n",
       " 'Ranchi',\n",
       " 'Surat',\n",
       " 'Thiruvananthapuram',\n",
       " 'Tiruchirappalli',\n",
       " 'Udaipur',\n",
       " 'Varanasi',\n",
       " 'Vishakhapatnam'}"
      ]
     },
     "execution_count": 24,
     "metadata": {},
     "output_type": "execute_result"
    }
   ],
   "source": [
    "set(data_c['City'])"
   ]
  },
  {
   "cell_type": "code",
   "execution_count": 25,
   "id": "ed3a012b",
   "metadata": {},
   "outputs": [
    {
     "name": "stderr",
     "output_type": "stream",
     "text": [
      "<ipython-input-25-5fe7d49e5fc5>:55: SettingWithCopyWarning: \n",
      "A value is trying to be set on a copy of a slice from a DataFrame.\n",
      "Try using .loc[row_indexer,col_indexer] = value instead\n",
      "\n",
      "See the caveats in the documentation: https://pandas.pydata.org/pandas-docs/stable/user_guide/indexing.html#returning-a-view-versus-a-copy\n",
      "  data_c['Metropolitan'] = data['City'].map(metro_city_dict)\n"
     ]
    },
    {
     "data": {
      "text/plain": [
       "0       1\n",
       "1       1\n",
       "2       1\n",
       "3       1\n",
       "4       1\n",
       "       ..\n",
       "1623    1\n",
       "1624    1\n",
       "1625    0\n",
       "1626    1\n",
       "1627    1\n",
       "Name: Metropolitan, Length: 1628, dtype: int64"
      ]
     },
     "execution_count": 25,
     "metadata": {},
     "output_type": "execute_result"
    }
   ],
   "source": [
    "metro_city_dict = {'Agra':0,\n",
    " 'Ahmedabad':1,\n",
    " 'Allahabad':0,\n",
    " 'Amritsar':0,\n",
    " 'Aurangabad':0,\n",
    " 'Bagdogra':0,\n",
    " 'Baroda':0,\n",
    " 'Belgaum':0,\n",
    " 'Bengaluru':1,\n",
    " 'Bhavnagar':0,\n",
    " 'Bhopal':0,\n",
    " 'Bhubaneshwar':0,\n",
    " 'Bhuj':0,\n",
    " 'Chandigarh':0,\n",
    " 'Chennai':1,\n",
    " 'Coimbatore':0,\n",
    " 'Cooch-behar':0,\n",
    " 'DehraDun':0,\n",
    " 'Delhi':1,\n",
    " 'Dibrugarh':0,\n",
    " 'Durgapur':0,\n",
    " 'Goa':0,\n",
    " 'Guwahati':0,\n",
    " 'Gwalior':0,\n",
    " 'Hyderabad':1,\n",
    " 'Indore':0,\n",
    " 'Jaipur':1,\n",
    " 'Jammu':0,\n",
    " 'Jorhat':0,\n",
    " 'Kandla':0,\n",
    " 'Kanpur':1,\n",
    " 'Kochi':0,\n",
    " 'Kolkata':1,\n",
    " 'Kulu':0,\n",
    " 'Lucknow':0,\n",
    " 'Ludhiana':0,\n",
    " 'Madurai':1,\n",
    " 'Mangalore':0,\n",
    " 'Mumbai':1,\n",
    " 'Nagpur':1,\n",
    " 'Nainital':0,\n",
    " 'Pathankot':0,\n",
    " 'Patna':1,\n",
    " 'Pune':1,\n",
    " 'Raipur':0,\n",
    " 'Rajkot':0,\n",
    " 'Ranchi':0,\n",
    " 'Surat':1,\n",
    " 'Thiruvananthapuram':0,\n",
    " 'Tiruchirappalli':0,\n",
    " 'Udaipur':0,\n",
    " 'Varanasi':0,\n",
    " 'Vishakhapatnam':1}\n",
    "# Based on https://en.wikipedia.org/wiki/List_of_metropolitan_areas_in_India\n",
    "data_c['Metropolitan'] = data['City'].map(metro_city_dict)\n",
    "data_c['Metropolitan']"
   ]
  },
  {
   "cell_type": "code",
   "execution_count": 26,
   "id": "1c003422",
   "metadata": {},
   "outputs": [
    {
     "name": "stderr",
     "output_type": "stream",
     "text": [
      "<ipython-input-26-0a6307156042>:5: SettingWithCopyWarning: \n",
      "A value is trying to be set on a copy of a slice from a DataFrame.\n",
      "Try using .loc[row_indexer,col_indexer] = value instead\n",
      "\n",
      "See the caveats in the documentation: https://pandas.pydata.org/pandas-docs/stable/user_guide/indexing.html#returning-a-view-versus-a-copy\n",
      "  data_c['Total Facebook Usage'] = data_c['Total Facebook Usage'].map(convert_to_num)\n",
      "<ipython-input-26-0a6307156042>:6: SettingWithCopyWarning: \n",
      "A value is trying to be set on a copy of a slice from a DataFrame.\n",
      "Try using .loc[row_indexer,col_indexer] = value instead\n",
      "\n",
      "See the caveats in the documentation: https://pandas.pydata.org/pandas-docs/stable/user_guide/indexing.html#returning-a-view-versus-a-copy\n",
      "  data_c['Total Instagram Usage'] = data_c['Total Instagram Usage'].map(convert_to_num)\n",
      "<ipython-input-26-0a6307156042>:7: SettingWithCopyWarning: \n",
      "A value is trying to be set on a copy of a slice from a DataFrame.\n",
      "Try using .loc[row_indexer,col_indexer] = value instead\n",
      "\n",
      "See the caveats in the documentation: https://pandas.pydata.org/pandas-docs/stable/user_guide/indexing.html#returning-a-view-versus-a-copy\n",
      "  data_c['Instagram Followers'] = data_c['Instagram Followers'].map(convert_to_num)\n",
      "<ipython-input-26-0a6307156042>:8: SettingWithCopyWarning: \n",
      "A value is trying to be set on a copy of a slice from a DataFrame.\n",
      "Try using .loc[row_indexer,col_indexer] = value instead\n",
      "\n",
      "See the caveats in the documentation: https://pandas.pydata.org/pandas-docs/stable/user_guide/indexing.html#returning-a-view-versus-a-copy\n",
      "  data_c['Total Social Media Usage'] = data_c['Total Social Media Usage'].map(convert_to_num)\n"
     ]
    },
    {
     "data": {
      "text/html": [
       "<div>\n",
       "<style scoped>\n",
       "    .dataframe tbody tr th:only-of-type {\n",
       "        vertical-align: middle;\n",
       "    }\n",
       "\n",
       "    .dataframe tbody tr th {\n",
       "        vertical-align: top;\n",
       "    }\n",
       "\n",
       "    .dataframe thead th {\n",
       "        text-align: right;\n",
       "    }\n",
       "</style>\n",
       "<table border=\"1\" class=\"dataframe\">\n",
       "  <thead>\n",
       "    <tr style=\"text-align: right;\">\n",
       "      <th></th>\n",
       "      <th>Age</th>\n",
       "      <th>City</th>\n",
       "      <th>Current Status</th>\n",
       "      <th>Do you own multiple profiles on Instagram?</th>\n",
       "      <th>Gender</th>\n",
       "      <th>Highest Education</th>\n",
       "      <th>Location (City Airport Code)</th>\n",
       "      <th>Phone OS</th>\n",
       "      <th>State</th>\n",
       "      <th>Zone</th>\n",
       "      <th>Instagram Followers</th>\n",
       "      <th>Total Facebook Usage</th>\n",
       "      <th>Total Instagram Usage</th>\n",
       "      <th>Total Social Media Usage</th>\n",
       "    </tr>\n",
       "  </thead>\n",
       "  <tbody>\n",
       "    <tr>\n",
       "      <th>0</th>\n",
       "      <td>24</td>\n",
       "      <td>Delhi</td>\n",
       "      <td>Working professional</td>\n",
       "      <td>No</td>\n",
       "      <td>Female</td>\n",
       "      <td>Graduation</td>\n",
       "      <td>DEL</td>\n",
       "      <td>iOs</td>\n",
       "      <td>Delhi</td>\n",
       "      <td>Northern</td>\n",
       "      <td>456</td>\n",
       "      <td>0</td>\n",
       "      <td>1170</td>\n",
       "      <td>2190.0</td>\n",
       "    </tr>\n",
       "    <tr>\n",
       "      <th>1</th>\n",
       "      <td>39</td>\n",
       "      <td>Delhi</td>\n",
       "      <td>Working professional</td>\n",
       "      <td>No</td>\n",
       "      <td>Female</td>\n",
       "      <td>Post graduation</td>\n",
       "      <td>DEL</td>\n",
       "      <td>iOs</td>\n",
       "      <td>Delhi</td>\n",
       "      <td>Northern</td>\n",
       "      <td>0</td>\n",
       "      <td>8160</td>\n",
       "      <td>0</td>\n",
       "      <td>15160.0</td>\n",
       "    </tr>\n",
       "    <tr>\n",
       "      <th>2</th>\n",
       "      <td>22</td>\n",
       "      <td>Mumbai</td>\n",
       "      <td>Working professional</td>\n",
       "      <td>No</td>\n",
       "      <td>Male</td>\n",
       "      <td>Graduation</td>\n",
       "      <td>BOM</td>\n",
       "      <td>Android</td>\n",
       "      <td>Maharashtra</td>\n",
       "      <td>Western</td>\n",
       "      <td>400</td>\n",
       "      <td>2500</td>\n",
       "      <td>2000</td>\n",
       "      <td>13500.0</td>\n",
       "    </tr>\n",
       "    <tr>\n",
       "      <th>3</th>\n",
       "      <td>26</td>\n",
       "      <td>Bengaluru</td>\n",
       "      <td>Sabbatical</td>\n",
       "      <td>Yes</td>\n",
       "      <td>Female</td>\n",
       "      <td>Graduation</td>\n",
       "      <td>BLR</td>\n",
       "      <td>Android</td>\n",
       "      <td>Karnataka</td>\n",
       "      <td>Southern</td>\n",
       "      <td>485</td>\n",
       "      <td>3000</td>\n",
       "      <td>4000</td>\n",
       "      <td>10360.0</td>\n",
       "    </tr>\n",
       "    <tr>\n",
       "      <th>4</th>\n",
       "      <td>50</td>\n",
       "      <td>Delhi</td>\n",
       "      <td>Working professional</td>\n",
       "      <td>No</td>\n",
       "      <td>Male</td>\n",
       "      <td>Graduation</td>\n",
       "      <td>DEL</td>\n",
       "      <td>iOs</td>\n",
       "      <td>Delhi</td>\n",
       "      <td>Northern</td>\n",
       "      <td>0</td>\n",
       "      <td>3000</td>\n",
       "      <td>0</td>\n",
       "      <td>6700.0</td>\n",
       "    </tr>\n",
       "  </tbody>\n",
       "</table>\n",
       "</div>"
      ],
      "text/plain": [
       "   Age       City        Current Status  \\\n",
       "0   24      Delhi  Working professional   \n",
       "1   39      Delhi  Working professional   \n",
       "2   22     Mumbai  Working professional   \n",
       "3   26  Bengaluru            Sabbatical   \n",
       "4   50      Delhi  Working professional   \n",
       "\n",
       "  Do you own multiple profiles on Instagram?  Gender Highest Education  \\\n",
       "0                                         No  Female        Graduation   \n",
       "1                                         No  Female   Post graduation   \n",
       "2                                         No    Male        Graduation   \n",
       "3                                        Yes  Female        Graduation   \n",
       "4                                         No    Male        Graduation   \n",
       "\n",
       "  Location (City Airport Code) Phone OS        State      Zone  \\\n",
       "0                          DEL      iOs        Delhi  Northern   \n",
       "1                          DEL      iOs        Delhi  Northern   \n",
       "2                          BOM  Android  Maharashtra   Western   \n",
       "3                          BLR  Android    Karnataka  Southern   \n",
       "4                          DEL      iOs        Delhi  Northern   \n",
       "\n",
       "   Instagram Followers  Total Facebook Usage  Total Instagram Usage  \\\n",
       "0                  456                     0                   1170   \n",
       "1                    0                  8160                      0   \n",
       "2                  400                  2500                   2000   \n",
       "3                  485                  3000                   4000   \n",
       "4                    0                  3000                      0   \n",
       "\n",
       "   Total Social Media Usage  \n",
       "0                    2190.0  \n",
       "1                   15160.0  \n",
       "2                   13500.0  \n",
       "3                   10360.0  \n",
       "4                    6700.0  "
      ]
     },
     "execution_count": 26,
     "metadata": {},
     "output_type": "execute_result"
    }
   ],
   "source": [
    "data_c = data[['Age', 'City', 'Current Status',\n",
    "       'Do you own multiple profiles on Instagram?', 'Gender',\n",
    "       'Highest Education', 'Location (City Airport Code)', 'Phone OS',\n",
    "       'State', 'Zone','Instagram Followers','Total Facebook Usage', 'Total Instagram Usage', 'Total Social Media Usage']]\n",
    "data_c['Total Facebook Usage'] = data_c['Total Facebook Usage'].map(convert_to_num)\n",
    "data_c['Total Instagram Usage'] = data_c['Total Instagram Usage'].map(convert_to_num)\n",
    "data_c['Instagram Followers'] = data_c['Instagram Followers'].map(convert_to_num)\n",
    "data_c['Total Social Media Usage'] = data_c['Total Social Media Usage'].map(convert_to_num)\n",
    "data_c.head()"
   ]
  },
  {
   "cell_type": "code",
   "execution_count": 27,
   "id": "425caa07",
   "metadata": {},
   "outputs": [
    {
     "name": "stderr",
     "output_type": "stream",
     "text": [
      "<ipython-input-27-12c33ba5e0b6>:1: SettingWithCopyWarning: \n",
      "A value is trying to be set on a copy of a slice from a DataFrame.\n",
      "Try using .loc[row_indexer,col_indexer] = value instead\n",
      "\n",
      "See the caveats in the documentation: https://pandas.pydata.org/pandas-docs/stable/user_guide/indexing.html#returning-a-view-versus-a-copy\n",
      "  data_c['Metropolitan'] = data['City'].map(metro_city_dict)\n"
     ]
    }
   ],
   "source": [
    "data_c['Metropolitan'] = data['City'].map(metro_city_dict)"
   ]
  },
  {
   "cell_type": "code",
   "execution_count": 28,
   "id": "3690a5a2",
   "metadata": {},
   "outputs": [
    {
     "data": {
      "text/plain": [
       "City\n",
       "Agra                    446.333333\n",
       "Ahmedabad               670.412844\n",
       "Allahabad               936.000000\n",
       "Amritsar                542.800000\n",
       "Aurangabad              834.000000\n",
       "Bagdogra                261.105263\n",
       "Baroda                  462.043478\n",
       "Belgaum                1117.000000\n",
       "Bengaluru               675.057471\n",
       "Bhavnagar               150.000000\n",
       "Bhopal                 1051.000000\n",
       "Bhubaneshwar          12627.000000\n",
       "Bhuj                    692.000000\n",
       "Chandigarh             1515.064516\n",
       "Chennai                 743.161290\n",
       "Coimbatore              180.000000\n",
       "Cooch-behar              56.000000\n",
       "DehraDun                485.291667\n",
       "Delhi                   690.104839\n",
       "Dibrugarh               259.000000\n",
       "Durgapur                675.000000\n",
       "Goa                     977.000000\n",
       "Guwahati                243.125000\n",
       "Gwalior                 373.250000\n",
       "Hyderabad               393.244444\n",
       "Indore                  390.193548\n",
       "Jaipur                  485.333333\n",
       "Jammu                   231.000000\n",
       "Jorhat                  128.000000\n",
       "Kandla                  545.000000\n",
       "Kanpur                  511.666667\n",
       "Kochi                   642.600000\n",
       "Kolkata                 917.419192\n",
       "Kulu                    930.000000\n",
       "Lucknow                 454.885714\n",
       "Ludhiana                827.000000\n",
       "Madurai                 560.000000\n",
       "Mangalore               430.500000\n",
       "Mumbai                  853.180000\n",
       "Nagpur                  233.000000\n",
       "Nainital                565.285714\n",
       "Pathankot                 0.000000\n",
       "Patna                   301.714286\n",
       "Pune                    530.196078\n",
       "Raipur                  331.000000\n",
       "Rajkot                  411.500000\n",
       "Ranchi                  781.181818\n",
       "Surat                  3812.388889\n",
       "Thiruvananthapuram      501.000000\n",
       "Tiruchirappalli         356.000000\n",
       "Udaipur                 307.533333\n",
       "Varanasi                479.750000\n",
       "Vishakhapatnam          693.681818\n",
       "Name: Instagram Followers, dtype: float64"
      ]
     },
     "execution_count": 28,
     "metadata": {},
     "output_type": "execute_result"
    }
   ],
   "source": [
    "followersByCity = data_c.groupby('City')['Instagram Followers'].mean()\n",
    "followersByCity"
   ]
  },
  {
   "cell_type": "code",
   "execution_count": 29,
   "id": "62eab22b",
   "metadata": {},
   "outputs": [
    {
     "data": {
      "text/html": [
       "<div>\n",
       "<style scoped>\n",
       "    .dataframe tbody tr th:only-of-type {\n",
       "        vertical-align: middle;\n",
       "    }\n",
       "\n",
       "    .dataframe tbody tr th {\n",
       "        vertical-align: top;\n",
       "    }\n",
       "\n",
       "    .dataframe thead th {\n",
       "        text-align: right;\n",
       "    }\n",
       "</style>\n",
       "<table border=\"1\" class=\"dataframe\">\n",
       "  <thead>\n",
       "    <tr style=\"text-align: right;\">\n",
       "      <th></th>\n",
       "      <th>Instagram Followers</th>\n",
       "    </tr>\n",
       "    <tr>\n",
       "      <th>City</th>\n",
       "      <th></th>\n",
       "    </tr>\n",
       "  </thead>\n",
       "  <tbody>\n",
       "    <tr>\n",
       "      <th>Agra</th>\n",
       "      <td>446.333333</td>\n",
       "    </tr>\n",
       "    <tr>\n",
       "      <th>Ahmedabad</th>\n",
       "      <td>670.412844</td>\n",
       "    </tr>\n",
       "    <tr>\n",
       "      <th>Allahabad</th>\n",
       "      <td>936.000000</td>\n",
       "    </tr>\n",
       "    <tr>\n",
       "      <th>Amritsar</th>\n",
       "      <td>542.800000</td>\n",
       "    </tr>\n",
       "    <tr>\n",
       "      <th>Aurangabad</th>\n",
       "      <td>834.000000</td>\n",
       "    </tr>\n",
       "    <tr>\n",
       "      <th>Bagdogra</th>\n",
       "      <td>261.105263</td>\n",
       "    </tr>\n",
       "    <tr>\n",
       "      <th>Baroda</th>\n",
       "      <td>462.043478</td>\n",
       "    </tr>\n",
       "    <tr>\n",
       "      <th>Belgaum</th>\n",
       "      <td>1117.000000</td>\n",
       "    </tr>\n",
       "    <tr>\n",
       "      <th>Bengaluru</th>\n",
       "      <td>675.057471</td>\n",
       "    </tr>\n",
       "    <tr>\n",
       "      <th>Bhavnagar</th>\n",
       "      <td>150.000000</td>\n",
       "    </tr>\n",
       "    <tr>\n",
       "      <th>Bhopal</th>\n",
       "      <td>1051.000000</td>\n",
       "    </tr>\n",
       "    <tr>\n",
       "      <th>Bhubaneshwar</th>\n",
       "      <td>12627.000000</td>\n",
       "    </tr>\n",
       "    <tr>\n",
       "      <th>Bhuj</th>\n",
       "      <td>692.000000</td>\n",
       "    </tr>\n",
       "    <tr>\n",
       "      <th>Chandigarh</th>\n",
       "      <td>1515.064516</td>\n",
       "    </tr>\n",
       "    <tr>\n",
       "      <th>Chennai</th>\n",
       "      <td>743.161290</td>\n",
       "    </tr>\n",
       "    <tr>\n",
       "      <th>Coimbatore</th>\n",
       "      <td>180.000000</td>\n",
       "    </tr>\n",
       "    <tr>\n",
       "      <th>Cooch-behar</th>\n",
       "      <td>56.000000</td>\n",
       "    </tr>\n",
       "    <tr>\n",
       "      <th>DehraDun</th>\n",
       "      <td>485.291667</td>\n",
       "    </tr>\n",
       "    <tr>\n",
       "      <th>Delhi</th>\n",
       "      <td>690.104839</td>\n",
       "    </tr>\n",
       "    <tr>\n",
       "      <th>Dibrugarh</th>\n",
       "      <td>259.000000</td>\n",
       "    </tr>\n",
       "    <tr>\n",
       "      <th>Durgapur</th>\n",
       "      <td>675.000000</td>\n",
       "    </tr>\n",
       "    <tr>\n",
       "      <th>Goa</th>\n",
       "      <td>977.000000</td>\n",
       "    </tr>\n",
       "    <tr>\n",
       "      <th>Guwahati</th>\n",
       "      <td>243.125000</td>\n",
       "    </tr>\n",
       "    <tr>\n",
       "      <th>Gwalior</th>\n",
       "      <td>373.250000</td>\n",
       "    </tr>\n",
       "    <tr>\n",
       "      <th>Hyderabad</th>\n",
       "      <td>393.244444</td>\n",
       "    </tr>\n",
       "    <tr>\n",
       "      <th>Indore</th>\n",
       "      <td>390.193548</td>\n",
       "    </tr>\n",
       "    <tr>\n",
       "      <th>Jaipur</th>\n",
       "      <td>485.333333</td>\n",
       "    </tr>\n",
       "    <tr>\n",
       "      <th>Jammu</th>\n",
       "      <td>231.000000</td>\n",
       "    </tr>\n",
       "    <tr>\n",
       "      <th>Jorhat</th>\n",
       "      <td>128.000000</td>\n",
       "    </tr>\n",
       "    <tr>\n",
       "      <th>Kandla</th>\n",
       "      <td>545.000000</td>\n",
       "    </tr>\n",
       "    <tr>\n",
       "      <th>Kanpur</th>\n",
       "      <td>511.666667</td>\n",
       "    </tr>\n",
       "    <tr>\n",
       "      <th>Kochi</th>\n",
       "      <td>642.600000</td>\n",
       "    </tr>\n",
       "    <tr>\n",
       "      <th>Kolkata</th>\n",
       "      <td>917.419192</td>\n",
       "    </tr>\n",
       "    <tr>\n",
       "      <th>Kulu</th>\n",
       "      <td>930.000000</td>\n",
       "    </tr>\n",
       "    <tr>\n",
       "      <th>Lucknow</th>\n",
       "      <td>454.885714</td>\n",
       "    </tr>\n",
       "    <tr>\n",
       "      <th>Ludhiana</th>\n",
       "      <td>827.000000</td>\n",
       "    </tr>\n",
       "    <tr>\n",
       "      <th>Madurai</th>\n",
       "      <td>560.000000</td>\n",
       "    </tr>\n",
       "    <tr>\n",
       "      <th>Mangalore</th>\n",
       "      <td>430.500000</td>\n",
       "    </tr>\n",
       "    <tr>\n",
       "      <th>Mumbai</th>\n",
       "      <td>853.180000</td>\n",
       "    </tr>\n",
       "    <tr>\n",
       "      <th>Nagpur</th>\n",
       "      <td>233.000000</td>\n",
       "    </tr>\n",
       "    <tr>\n",
       "      <th>Nainital</th>\n",
       "      <td>565.285714</td>\n",
       "    </tr>\n",
       "    <tr>\n",
       "      <th>Pathankot</th>\n",
       "      <td>0.000000</td>\n",
       "    </tr>\n",
       "    <tr>\n",
       "      <th>Patna</th>\n",
       "      <td>301.714286</td>\n",
       "    </tr>\n",
       "    <tr>\n",
       "      <th>Pune</th>\n",
       "      <td>530.196078</td>\n",
       "    </tr>\n",
       "    <tr>\n",
       "      <th>Raipur</th>\n",
       "      <td>331.000000</td>\n",
       "    </tr>\n",
       "    <tr>\n",
       "      <th>Rajkot</th>\n",
       "      <td>411.500000</td>\n",
       "    </tr>\n",
       "    <tr>\n",
       "      <th>Ranchi</th>\n",
       "      <td>781.181818</td>\n",
       "    </tr>\n",
       "    <tr>\n",
       "      <th>Surat</th>\n",
       "      <td>3812.388889</td>\n",
       "    </tr>\n",
       "    <tr>\n",
       "      <th>Thiruvananthapuram</th>\n",
       "      <td>501.000000</td>\n",
       "    </tr>\n",
       "    <tr>\n",
       "      <th>Tiruchirappalli</th>\n",
       "      <td>356.000000</td>\n",
       "    </tr>\n",
       "    <tr>\n",
       "      <th>Udaipur</th>\n",
       "      <td>307.533333</td>\n",
       "    </tr>\n",
       "    <tr>\n",
       "      <th>Varanasi</th>\n",
       "      <td>479.750000</td>\n",
       "    </tr>\n",
       "    <tr>\n",
       "      <th>Vishakhapatnam</th>\n",
       "      <td>693.681818</td>\n",
       "    </tr>\n",
       "  </tbody>\n",
       "</table>\n",
       "</div>"
      ],
      "text/plain": [
       "                    Instagram Followers\n",
       "City                                   \n",
       "Agra                         446.333333\n",
       "Ahmedabad                    670.412844\n",
       "Allahabad                    936.000000\n",
       "Amritsar                     542.800000\n",
       "Aurangabad                   834.000000\n",
       "Bagdogra                     261.105263\n",
       "Baroda                       462.043478\n",
       "Belgaum                     1117.000000\n",
       "Bengaluru                    675.057471\n",
       "Bhavnagar                    150.000000\n",
       "Bhopal                      1051.000000\n",
       "Bhubaneshwar               12627.000000\n",
       "Bhuj                         692.000000\n",
       "Chandigarh                  1515.064516\n",
       "Chennai                      743.161290\n",
       "Coimbatore                   180.000000\n",
       "Cooch-behar                   56.000000\n",
       "DehraDun                     485.291667\n",
       "Delhi                        690.104839\n",
       "Dibrugarh                    259.000000\n",
       "Durgapur                     675.000000\n",
       "Goa                          977.000000\n",
       "Guwahati                     243.125000\n",
       "Gwalior                      373.250000\n",
       "Hyderabad                    393.244444\n",
       "Indore                       390.193548\n",
       "Jaipur                       485.333333\n",
       "Jammu                        231.000000\n",
       "Jorhat                       128.000000\n",
       "Kandla                       545.000000\n",
       "Kanpur                       511.666667\n",
       "Kochi                        642.600000\n",
       "Kolkata                      917.419192\n",
       "Kulu                         930.000000\n",
       "Lucknow                      454.885714\n",
       "Ludhiana                     827.000000\n",
       "Madurai                      560.000000\n",
       "Mangalore                    430.500000\n",
       "Mumbai                       853.180000\n",
       "Nagpur                       233.000000\n",
       "Nainital                     565.285714\n",
       "Pathankot                      0.000000\n",
       "Patna                        301.714286\n",
       "Pune                         530.196078\n",
       "Raipur                       331.000000\n",
       "Rajkot                       411.500000\n",
       "Ranchi                       781.181818\n",
       "Surat                       3812.388889\n",
       "Thiruvananthapuram           501.000000\n",
       "Tiruchirappalli              356.000000\n",
       "Udaipur                      307.533333\n",
       "Varanasi                     479.750000\n",
       "Vishakhapatnam               693.681818"
      ]
     },
     "execution_count": 29,
     "metadata": {},
     "output_type": "execute_result"
    }
   ],
   "source": [
    "followersByCityDf = pd.DataFrame(followersByCity)\n",
    "followersByCityDf"
   ]
  },
  {
   "cell_type": "code",
   "execution_count": 30,
   "id": "8a964719",
   "metadata": {},
   "outputs": [
    {
     "data": {
      "text/html": [
       "<div>\n",
       "<style scoped>\n",
       "    .dataframe tbody tr th:only-of-type {\n",
       "        vertical-align: middle;\n",
       "    }\n",
       "\n",
       "    .dataframe tbody tr th {\n",
       "        vertical-align: top;\n",
       "    }\n",
       "\n",
       "    .dataframe thead th {\n",
       "        text-align: right;\n",
       "    }\n",
       "</style>\n",
       "<table border=\"1\" class=\"dataframe\">\n",
       "  <thead>\n",
       "    <tr style=\"text-align: right;\">\n",
       "      <th></th>\n",
       "      <th>Instagram Followers</th>\n",
       "      <th>Metropolitan</th>\n",
       "    </tr>\n",
       "    <tr>\n",
       "      <th>City</th>\n",
       "      <th></th>\n",
       "      <th></th>\n",
       "    </tr>\n",
       "  </thead>\n",
       "  <tbody>\n",
       "    <tr>\n",
       "      <th>Agra</th>\n",
       "      <td>446.333333</td>\n",
       "      <td>0</td>\n",
       "    </tr>\n",
       "    <tr>\n",
       "      <th>Ahmedabad</th>\n",
       "      <td>670.412844</td>\n",
       "      <td>1</td>\n",
       "    </tr>\n",
       "    <tr>\n",
       "      <th>Allahabad</th>\n",
       "      <td>936.000000</td>\n",
       "      <td>0</td>\n",
       "    </tr>\n",
       "    <tr>\n",
       "      <th>Amritsar</th>\n",
       "      <td>542.800000</td>\n",
       "      <td>0</td>\n",
       "    </tr>\n",
       "    <tr>\n",
       "      <th>Aurangabad</th>\n",
       "      <td>834.000000</td>\n",
       "      <td>0</td>\n",
       "    </tr>\n",
       "    <tr>\n",
       "      <th>Bagdogra</th>\n",
       "      <td>261.105263</td>\n",
       "      <td>0</td>\n",
       "    </tr>\n",
       "    <tr>\n",
       "      <th>Baroda</th>\n",
       "      <td>462.043478</td>\n",
       "      <td>0</td>\n",
       "    </tr>\n",
       "    <tr>\n",
       "      <th>Belgaum</th>\n",
       "      <td>1117.000000</td>\n",
       "      <td>0</td>\n",
       "    </tr>\n",
       "    <tr>\n",
       "      <th>Bengaluru</th>\n",
       "      <td>675.057471</td>\n",
       "      <td>1</td>\n",
       "    </tr>\n",
       "    <tr>\n",
       "      <th>Bhavnagar</th>\n",
       "      <td>150.000000</td>\n",
       "      <td>0</td>\n",
       "    </tr>\n",
       "    <tr>\n",
       "      <th>Bhopal</th>\n",
       "      <td>1051.000000</td>\n",
       "      <td>0</td>\n",
       "    </tr>\n",
       "    <tr>\n",
       "      <th>Bhubaneshwar</th>\n",
       "      <td>12627.000000</td>\n",
       "      <td>0</td>\n",
       "    </tr>\n",
       "    <tr>\n",
       "      <th>Bhuj</th>\n",
       "      <td>692.000000</td>\n",
       "      <td>0</td>\n",
       "    </tr>\n",
       "    <tr>\n",
       "      <th>Chandigarh</th>\n",
       "      <td>1515.064516</td>\n",
       "      <td>0</td>\n",
       "    </tr>\n",
       "    <tr>\n",
       "      <th>Chennai</th>\n",
       "      <td>743.161290</td>\n",
       "      <td>1</td>\n",
       "    </tr>\n",
       "    <tr>\n",
       "      <th>Coimbatore</th>\n",
       "      <td>180.000000</td>\n",
       "      <td>0</td>\n",
       "    </tr>\n",
       "    <tr>\n",
       "      <th>Cooch-behar</th>\n",
       "      <td>56.000000</td>\n",
       "      <td>0</td>\n",
       "    </tr>\n",
       "    <tr>\n",
       "      <th>DehraDun</th>\n",
       "      <td>485.291667</td>\n",
       "      <td>0</td>\n",
       "    </tr>\n",
       "    <tr>\n",
       "      <th>Delhi</th>\n",
       "      <td>690.104839</td>\n",
       "      <td>1</td>\n",
       "    </tr>\n",
       "    <tr>\n",
       "      <th>Dibrugarh</th>\n",
       "      <td>259.000000</td>\n",
       "      <td>0</td>\n",
       "    </tr>\n",
       "    <tr>\n",
       "      <th>Durgapur</th>\n",
       "      <td>675.000000</td>\n",
       "      <td>0</td>\n",
       "    </tr>\n",
       "    <tr>\n",
       "      <th>Goa</th>\n",
       "      <td>977.000000</td>\n",
       "      <td>0</td>\n",
       "    </tr>\n",
       "    <tr>\n",
       "      <th>Guwahati</th>\n",
       "      <td>243.125000</td>\n",
       "      <td>0</td>\n",
       "    </tr>\n",
       "    <tr>\n",
       "      <th>Gwalior</th>\n",
       "      <td>373.250000</td>\n",
       "      <td>0</td>\n",
       "    </tr>\n",
       "    <tr>\n",
       "      <th>Hyderabad</th>\n",
       "      <td>393.244444</td>\n",
       "      <td>1</td>\n",
       "    </tr>\n",
       "    <tr>\n",
       "      <th>Indore</th>\n",
       "      <td>390.193548</td>\n",
       "      <td>0</td>\n",
       "    </tr>\n",
       "    <tr>\n",
       "      <th>Jaipur</th>\n",
       "      <td>485.333333</td>\n",
       "      <td>1</td>\n",
       "    </tr>\n",
       "    <tr>\n",
       "      <th>Jammu</th>\n",
       "      <td>231.000000</td>\n",
       "      <td>0</td>\n",
       "    </tr>\n",
       "    <tr>\n",
       "      <th>Jorhat</th>\n",
       "      <td>128.000000</td>\n",
       "      <td>0</td>\n",
       "    </tr>\n",
       "    <tr>\n",
       "      <th>Kandla</th>\n",
       "      <td>545.000000</td>\n",
       "      <td>0</td>\n",
       "    </tr>\n",
       "    <tr>\n",
       "      <th>Kanpur</th>\n",
       "      <td>511.666667</td>\n",
       "      <td>1</td>\n",
       "    </tr>\n",
       "    <tr>\n",
       "      <th>Kochi</th>\n",
       "      <td>642.600000</td>\n",
       "      <td>0</td>\n",
       "    </tr>\n",
       "    <tr>\n",
       "      <th>Kolkata</th>\n",
       "      <td>917.419192</td>\n",
       "      <td>1</td>\n",
       "    </tr>\n",
       "    <tr>\n",
       "      <th>Kulu</th>\n",
       "      <td>930.000000</td>\n",
       "      <td>0</td>\n",
       "    </tr>\n",
       "    <tr>\n",
       "      <th>Lucknow</th>\n",
       "      <td>454.885714</td>\n",
       "      <td>0</td>\n",
       "    </tr>\n",
       "    <tr>\n",
       "      <th>Ludhiana</th>\n",
       "      <td>827.000000</td>\n",
       "      <td>0</td>\n",
       "    </tr>\n",
       "    <tr>\n",
       "      <th>Madurai</th>\n",
       "      <td>560.000000</td>\n",
       "      <td>1</td>\n",
       "    </tr>\n",
       "    <tr>\n",
       "      <th>Mangalore</th>\n",
       "      <td>430.500000</td>\n",
       "      <td>0</td>\n",
       "    </tr>\n",
       "    <tr>\n",
       "      <th>Mumbai</th>\n",
       "      <td>853.180000</td>\n",
       "      <td>1</td>\n",
       "    </tr>\n",
       "    <tr>\n",
       "      <th>Nagpur</th>\n",
       "      <td>233.000000</td>\n",
       "      <td>1</td>\n",
       "    </tr>\n",
       "    <tr>\n",
       "      <th>Nainital</th>\n",
       "      <td>565.285714</td>\n",
       "      <td>0</td>\n",
       "    </tr>\n",
       "    <tr>\n",
       "      <th>Pathankot</th>\n",
       "      <td>0.000000</td>\n",
       "      <td>0</td>\n",
       "    </tr>\n",
       "    <tr>\n",
       "      <th>Patna</th>\n",
       "      <td>301.714286</td>\n",
       "      <td>1</td>\n",
       "    </tr>\n",
       "    <tr>\n",
       "      <th>Pune</th>\n",
       "      <td>530.196078</td>\n",
       "      <td>1</td>\n",
       "    </tr>\n",
       "    <tr>\n",
       "      <th>Raipur</th>\n",
       "      <td>331.000000</td>\n",
       "      <td>0</td>\n",
       "    </tr>\n",
       "    <tr>\n",
       "      <th>Rajkot</th>\n",
       "      <td>411.500000</td>\n",
       "      <td>0</td>\n",
       "    </tr>\n",
       "    <tr>\n",
       "      <th>Ranchi</th>\n",
       "      <td>781.181818</td>\n",
       "      <td>0</td>\n",
       "    </tr>\n",
       "    <tr>\n",
       "      <th>Surat</th>\n",
       "      <td>3812.388889</td>\n",
       "      <td>1</td>\n",
       "    </tr>\n",
       "    <tr>\n",
       "      <th>Thiruvananthapuram</th>\n",
       "      <td>501.000000</td>\n",
       "      <td>0</td>\n",
       "    </tr>\n",
       "    <tr>\n",
       "      <th>Tiruchirappalli</th>\n",
       "      <td>356.000000</td>\n",
       "      <td>0</td>\n",
       "    </tr>\n",
       "    <tr>\n",
       "      <th>Udaipur</th>\n",
       "      <td>307.533333</td>\n",
       "      <td>0</td>\n",
       "    </tr>\n",
       "    <tr>\n",
       "      <th>Varanasi</th>\n",
       "      <td>479.750000</td>\n",
       "      <td>0</td>\n",
       "    </tr>\n",
       "    <tr>\n",
       "      <th>Vishakhapatnam</th>\n",
       "      <td>693.681818</td>\n",
       "      <td>1</td>\n",
       "    </tr>\n",
       "  </tbody>\n",
       "</table>\n",
       "</div>"
      ],
      "text/plain": [
       "                    Instagram Followers  Metropolitan\n",
       "City                                                 \n",
       "Agra                         446.333333             0\n",
       "Ahmedabad                    670.412844             1\n",
       "Allahabad                    936.000000             0\n",
       "Amritsar                     542.800000             0\n",
       "Aurangabad                   834.000000             0\n",
       "Bagdogra                     261.105263             0\n",
       "Baroda                       462.043478             0\n",
       "Belgaum                     1117.000000             0\n",
       "Bengaluru                    675.057471             1\n",
       "Bhavnagar                    150.000000             0\n",
       "Bhopal                      1051.000000             0\n",
       "Bhubaneshwar               12627.000000             0\n",
       "Bhuj                         692.000000             0\n",
       "Chandigarh                  1515.064516             0\n",
       "Chennai                      743.161290             1\n",
       "Coimbatore                   180.000000             0\n",
       "Cooch-behar                   56.000000             0\n",
       "DehraDun                     485.291667             0\n",
       "Delhi                        690.104839             1\n",
       "Dibrugarh                    259.000000             0\n",
       "Durgapur                     675.000000             0\n",
       "Goa                          977.000000             0\n",
       "Guwahati                     243.125000             0\n",
       "Gwalior                      373.250000             0\n",
       "Hyderabad                    393.244444             1\n",
       "Indore                       390.193548             0\n",
       "Jaipur                       485.333333             1\n",
       "Jammu                        231.000000             0\n",
       "Jorhat                       128.000000             0\n",
       "Kandla                       545.000000             0\n",
       "Kanpur                       511.666667             1\n",
       "Kochi                        642.600000             0\n",
       "Kolkata                      917.419192             1\n",
       "Kulu                         930.000000             0\n",
       "Lucknow                      454.885714             0\n",
       "Ludhiana                     827.000000             0\n",
       "Madurai                      560.000000             1\n",
       "Mangalore                    430.500000             0\n",
       "Mumbai                       853.180000             1\n",
       "Nagpur                       233.000000             1\n",
       "Nainital                     565.285714             0\n",
       "Pathankot                      0.000000             0\n",
       "Patna                        301.714286             1\n",
       "Pune                         530.196078             1\n",
       "Raipur                       331.000000             0\n",
       "Rajkot                       411.500000             0\n",
       "Ranchi                       781.181818             0\n",
       "Surat                       3812.388889             1\n",
       "Thiruvananthapuram           501.000000             0\n",
       "Tiruchirappalli              356.000000             0\n",
       "Udaipur                      307.533333             0\n",
       "Varanasi                     479.750000             0\n",
       "Vishakhapatnam               693.681818             1"
      ]
     },
     "execution_count": 30,
     "metadata": {},
     "output_type": "execute_result"
    }
   ],
   "source": [
    "followersByCityDf['Metropolitan'] = followersByCityDf.index.map(metro_city_dict)\n",
    "followersByCityDf"
   ]
  },
  {
   "cell_type": "code",
   "execution_count": 31,
   "id": "5fe6cc91",
   "metadata": {},
   "outputs": [
    {
     "data": {
      "text/plain": [
       "Metropolitan\n",
       "0    847.248510\n",
       "1    804.704077\n",
       "Name: Instagram Followers, dtype: float64"
      ]
     },
     "execution_count": 31,
     "metadata": {},
     "output_type": "execute_result"
    }
   ],
   "source": [
    "followersByCityDf.groupby('Metropolitan')['Instagram Followers'].mean()"
   ]
  },
  {
   "cell_type": "markdown",
   "id": "7a35ebab",
   "metadata": {},
   "source": [
    "# Conclusion\n",
    "#### We see that our stereotypical claim is not true. Everyone can gather followers by talent irrespective of where they belong. Let us check the same with respect to Standard Deviation. It is up to you to think that less spread can infer more surity on gathering followers. You can analyze more on this!"
   ]
  },
  {
   "cell_type": "code",
   "execution_count": 32,
   "id": "9d887660",
   "metadata": {},
   "outputs": [
    {
     "data": {
      "text/plain": [
       "Metropolitan\n",
       "0    1989.096765\n",
       "1     853.461774\n",
       "Name: Instagram Followers, dtype: float64"
      ]
     },
     "execution_count": 32,
     "metadata": {},
     "output_type": "execute_result"
    }
   ],
   "source": [
    "followersByCityDf.groupby('Metropolitan')['Instagram Followers'].std()"
   ]
  },
  {
   "cell_type": "markdown",
   "id": "bb62790f",
   "metadata": {},
   "source": [
    "# Conclusion\n",
    "#### It seems that there is less spread in Metropolitan Cities for Instagram Followers Count Let's check the same for top 10 cities with respect to mean and standard deviation to check for average followers and spread of followers respectvely.\n",
    "\n",
    "# Top 10 Cities based on Mean of Instagram Followers"
   ]
  },
  {
   "cell_type": "code",
   "execution_count": 33,
   "id": "fe676819",
   "metadata": {},
   "outputs": [
    {
     "data": {
      "text/plain": [
       "City\n",
       "Bhubaneshwar    12627.000000\n",
       "Surat            3812.388889\n",
       "Chandigarh       1515.064516\n",
       "Belgaum          1117.000000\n",
       "Bhopal           1051.000000\n",
       "Goa               977.000000\n",
       "Allahabad         936.000000\n",
       "Kulu              930.000000\n",
       "Kolkata           917.419192\n",
       "Mumbai            853.180000\n",
       "Name: Instagram Followers, dtype: float64"
      ]
     },
     "execution_count": 33,
     "metadata": {},
     "output_type": "execute_result"
    }
   ],
   "source": [
    "followersByCitySTD = data_c.groupby('City')['Instagram Followers'].mean()\n",
    "followersByCitySTD = followersByCitySTD.sort_values(ascending=False)\n",
    "followersByCitySTD[:10]"
   ]
  },
  {
   "cell_type": "markdown",
   "id": "0f440a19",
   "metadata": {},
   "source": [
    "# Top 10 Cities based on Standard Deviation of Instagram Followers"
   ]
  },
  {
   "cell_type": "code",
   "execution_count": 34,
   "id": "eef38351",
   "metadata": {},
   "outputs": [
    {
     "data": {
      "text/plain": [
       "City\n",
       "Bhavnagar      0.000000\n",
       "Ludhiana      50.911688\n",
       "Kandla       148.492424\n",
       "Bagdogra     200.144918\n",
       "Nagpur       204.644407\n",
       "Varanasi     214.108033\n",
       "Amritsar     215.491763\n",
       "Gwalior      223.010410\n",
       "Guwahati     239.581443\n",
       "Kanpur       250.257201\n",
       "Name: Instagram Followers, dtype: float64"
      ]
     },
     "execution_count": 34,
     "metadata": {},
     "output_type": "execute_result"
    }
   ],
   "source": [
    "followersByCitySTD = data_c.groupby('City')['Instagram Followers'].std()\n",
    "followersByCitySTD = followersByCitySTD.sort_values()\n",
    "followersByCitySTD[:10]"
   ]
  },
  {
   "cell_type": "markdown",
   "id": "78e650cf",
   "metadata": {},
   "source": [
    "# Finally Let's see if number of Instagram Followers has anything to do with Gender"
   ]
  },
  {
   "cell_type": "code",
   "execution_count": 35,
   "id": "fc8ac36e",
   "metadata": {},
   "outputs": [
    {
     "data": {
      "text/plain": [
       "Gender\n",
       "Female        1059.966790\n",
       "Male           662.606396\n",
       "Non Binary    6446.000000\n",
       "Name: Instagram Followers, dtype: float64"
      ]
     },
     "execution_count": 35,
     "metadata": {},
     "output_type": "execute_result"
    }
   ],
   "source": [
    "followersByGender = data_c.groupby('Gender')['Instagram Followers'].mean()\n",
    "followersByGender"
   ]
  },
  {
   "cell_type": "markdown",
   "id": "3e7297a6",
   "metadata": {},
   "source": [
    "# It is very clear that Female has far more average number of followers than Male"
   ]
  }
 ],
 "metadata": {
  "kernelspec": {
   "display_name": "Python 3",
   "language": "python",
   "name": "python3"
  },
  "language_info": {
   "codemirror_mode": {
    "name": "ipython",
    "version": 3
   },
   "file_extension": ".py",
   "mimetype": "text/x-python",
   "name": "python",
   "nbconvert_exporter": "python",
   "pygments_lexer": "ipython3",
   "version": "3.8.0"
  }
 },
 "nbformat": 4,
 "nbformat_minor": 5
}
