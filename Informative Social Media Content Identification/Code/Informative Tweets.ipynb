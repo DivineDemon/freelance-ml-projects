{
 "cells": [
  {
   "cell_type": "code",
   "execution_count": 1,
   "id": "5a529a2e",
   "metadata": {},
   "outputs": [
    {
     "name": "stdout",
     "output_type": "stream",
     "text": [
      "./Informative Tweets.ipynb\n",
      "./Taranpreet Report.docx\n",
      "./test.csv\n",
      "./train.csv\n",
      "./.ipynb_checkpoints\\Informative Tweets-checkpoint.ipynb\n"
     ]
    }
   ],
   "source": [
    "# Importing Libraries\n",
    "\n",
    "import numpy as np # For Handling Arrays in Python\n",
    "import pandas as pd # For Data Importing and Handling\n",
    "\n",
    "# For Graphing\n",
    "import matplotlib.pyplot as plt\n",
    "import seaborn as sns\n",
    "\n",
    "import os # For tracking files and folders\n",
    "\n",
    "# scikit-learn imports\n",
    "from sklearn.pipeline import Pipeline # For running tasks simultaneously\n",
    "\n",
    "# For Cross Validation\n",
    "from sklearn.model_selection import train_test_split\n",
    "from sklearn.model_selection import cross_val_score\n",
    "\n",
    "from sklearn.feature_extraction.text import CountVectorizer, TfidfTransformer # For Feature Extraction from Text\n",
    "\n",
    "# Machine Learning Algorithms\n",
    "from sklearn.naive_bayes import BernoulliNB\n",
    "from sklearn import tree\n",
    "from sklearn.svm import SVC\n",
    "\n",
    "from sklearn.preprocessing import LabelEncoder # For Encoding Text Data\n",
    "from sklearn.metrics import accuracy_score, confusion_matrix, classification_report, roc_curve, roc_auc_score # Performance Metrics for the Algorithm\n",
    "\n",
    "# Walking through thr directory\n",
    "for dirname, _, filenames in os.walk('./'):\n",
    "    for filename in filenames:\n",
    "        print(os.path.join(dirname, filename))"
   ]
  },
  {
   "cell_type": "code",
   "execution_count": 2,
   "id": "4992fc5f",
   "metadata": {},
   "outputs": [],
   "source": [
    "# Importing the dataset\n",
    "data = pd.read_csv('train.csv').drop(columns = 'Id')"
   ]
  },
  {
   "cell_type": "code",
   "execution_count": 3,
   "id": "1bec0e8a",
   "metadata": {},
   "outputs": [
    {
     "data": {
      "text/html": [
       "<div>\n",
       "<style scoped>\n",
       "    .dataframe tbody tr th:only-of-type {\n",
       "        vertical-align: middle;\n",
       "    }\n",
       "\n",
       "    .dataframe tbody tr th {\n",
       "        vertical-align: top;\n",
       "    }\n",
       "\n",
       "    .dataframe thead th {\n",
       "        text-align: right;\n",
       "    }\n",
       "</style>\n",
       "<table border=\"1\" class=\"dataframe\">\n",
       "  <thead>\n",
       "    <tr style=\"text-align: right;\">\n",
       "      <th></th>\n",
       "      <th>Text</th>\n",
       "      <th>Label</th>\n",
       "    </tr>\n",
       "  </thead>\n",
       "  <tbody>\n",
       "    <tr>\n",
       "      <th>0</th>\n",
       "      <td>Official death toll from #covid19 in the Unite...</td>\n",
       "      <td>INFORMATIVE</td>\n",
       "    </tr>\n",
       "    <tr>\n",
       "      <th>1</th>\n",
       "      <td>Dearest Mr. President @USER 1,169 coronavirus ...</td>\n",
       "      <td>INFORMATIVE</td>\n",
       "    </tr>\n",
       "    <tr>\n",
       "      <th>2</th>\n",
       "      <td>Latest Updates March 20 ⚠️5274 new cases and 3...</td>\n",
       "      <td>INFORMATIVE</td>\n",
       "    </tr>\n",
       "    <tr>\n",
       "      <th>3</th>\n",
       "      <td>真把公主不当干部 BREAKING: 21 people on Grand Princess...</td>\n",
       "      <td>INFORMATIVE</td>\n",
       "    </tr>\n",
       "    <tr>\n",
       "      <th>4</th>\n",
       "      <td>OKLAHOMA CITY — The State Department of Educat...</td>\n",
       "      <td>UNINFORMATIVE</td>\n",
       "    </tr>\n",
       "  </tbody>\n",
       "</table>\n",
       "</div>"
      ],
      "text/plain": [
       "                                                Text          Label\n",
       "0  Official death toll from #covid19 in the Unite...    INFORMATIVE\n",
       "1  Dearest Mr. President @USER 1,169 coronavirus ...    INFORMATIVE\n",
       "2  Latest Updates March 20 ⚠️5274 new cases and 3...    INFORMATIVE\n",
       "3  真把公主不当干部 BREAKING: 21 people on Grand Princess...    INFORMATIVE\n",
       "4  OKLAHOMA CITY — The State Department of Educat...  UNINFORMATIVE"
      ]
     },
     "execution_count": 3,
     "metadata": {},
     "output_type": "execute_result"
    }
   ],
   "source": [
    "# Viewing the dataset for an idea for the features and appearance\n",
    "data.head(5)"
   ]
  },
  {
   "cell_type": "code",
   "execution_count": 4,
   "id": "abbb6e03",
   "metadata": {},
   "outputs": [
    {
     "data": {
      "text/plain": [
       "(6936, 2)"
      ]
     },
     "execution_count": 4,
     "metadata": {},
     "output_type": "execute_result"
    }
   ],
   "source": [
    "# Checking the dataset shape for number of rows and columns i.e., instances and features\n",
    "data.shape"
   ]
  },
  {
   "cell_type": "code",
   "execution_count": 5,
   "id": "c0803e37",
   "metadata": {},
   "outputs": [],
   "source": [
    "# Dropping duplicate data instances from the dataset to increase data quality\n",
    "data.drop_duplicates(inplace = True)"
   ]
  },
  {
   "cell_type": "code",
   "execution_count": 6,
   "id": "145d21f1",
   "metadata": {},
   "outputs": [
    {
     "data": {
      "text/plain": [
       "Text     0\n",
       "Label    0\n",
       "dtype: int64"
      ]
     },
     "execution_count": 6,
     "metadata": {},
     "output_type": "execute_result"
    }
   ],
   "source": [
    "# Checking for any null data instances in the dataset\n",
    "data.isnull().sum()"
   ]
  },
  {
   "cell_type": "code",
   "execution_count": 7,
   "id": "5daa7e94",
   "metadata": {},
   "outputs": [
    {
     "data": {
      "text/html": [
       "<div>\n",
       "<style scoped>\n",
       "    .dataframe tbody tr th:only-of-type {\n",
       "        vertical-align: middle;\n",
       "    }\n",
       "\n",
       "    .dataframe tbody tr th {\n",
       "        vertical-align: top;\n",
       "    }\n",
       "\n",
       "    .dataframe thead th {\n",
       "        text-align: right;\n",
       "    }\n",
       "</style>\n",
       "<table border=\"1\" class=\"dataframe\">\n",
       "  <thead>\n",
       "    <tr style=\"text-align: right;\">\n",
       "      <th></th>\n",
       "      <th>Text</th>\n",
       "      <th>Label</th>\n",
       "    </tr>\n",
       "  </thead>\n",
       "  <tbody>\n",
       "    <tr>\n",
       "      <th>0</th>\n",
       "      <td>Official death toll from #covid19 in the Unite...</td>\n",
       "      <td>INFORMATIVE</td>\n",
       "    </tr>\n",
       "    <tr>\n",
       "      <th>1</th>\n",
       "      <td>Dearest Mr. President @USER 1,169 coronavirus ...</td>\n",
       "      <td>INFORMATIVE</td>\n",
       "    </tr>\n",
       "    <tr>\n",
       "      <th>2</th>\n",
       "      <td>Latest Updates March 20 ⚠️5274 new cases and 3...</td>\n",
       "      <td>INFORMATIVE</td>\n",
       "    </tr>\n",
       "    <tr>\n",
       "      <th>3</th>\n",
       "      <td>真把公主不当干部 BREAKING: 21 people on Grand Princess...</td>\n",
       "      <td>INFORMATIVE</td>\n",
       "    </tr>\n",
       "    <tr>\n",
       "      <th>4</th>\n",
       "      <td>OKLAHOMA CITY — The State Department of Educat...</td>\n",
       "      <td>UNINFORMATIVE</td>\n",
       "    </tr>\n",
       "  </tbody>\n",
       "</table>\n",
       "</div>"
      ],
      "text/plain": [
       "                                                Text          Label\n",
       "0  Official death toll from #covid19 in the Unite...    INFORMATIVE\n",
       "1  Dearest Mr. President @USER 1,169 coronavirus ...    INFORMATIVE\n",
       "2  Latest Updates March 20 ⚠️5274 new cases and 3...    INFORMATIVE\n",
       "3  真把公主不当干部 BREAKING: 21 people on Grand Princess...    INFORMATIVE\n",
       "4  OKLAHOMA CITY — The State Department of Educat...  UNINFORMATIVE"
      ]
     },
     "execution_count": 7,
     "metadata": {},
     "output_type": "execute_result"
    }
   ],
   "source": [
    "# Viewing the dataset for an idea for the features and appearance\n",
    "# Monitoring the changes\n",
    "data.head(5)"
   ]
  },
  {
   "cell_type": "code",
   "execution_count": 8,
   "id": "e64c7781",
   "metadata": {},
   "outputs": [
    {
     "data": {
      "text/plain": [
       "(6929, 2)"
      ]
     },
     "execution_count": 8,
     "metadata": {},
     "output_type": "execute_result"
    }
   ],
   "source": [
    "# Monitoring the changes\n",
    "data.shape"
   ]
  },
  {
   "cell_type": "code",
   "execution_count": 9,
   "id": "e079399b",
   "metadata": {},
   "outputs": [
    {
     "data": {
      "text/html": [
       "<div>\n",
       "<style scoped>\n",
       "    .dataframe tbody tr th:only-of-type {\n",
       "        vertical-align: middle;\n",
       "    }\n",
       "\n",
       "    .dataframe tbody tr th {\n",
       "        vertical-align: top;\n",
       "    }\n",
       "\n",
       "    .dataframe thead th {\n",
       "        text-align: right;\n",
       "    }\n",
       "</style>\n",
       "<table border=\"1\" class=\"dataframe\">\n",
       "  <thead>\n",
       "    <tr style=\"text-align: right;\">\n",
       "      <th></th>\n",
       "      <th>Text</th>\n",
       "      <th>Label</th>\n",
       "    </tr>\n",
       "  </thead>\n",
       "  <tbody>\n",
       "    <tr>\n",
       "      <th>count</th>\n",
       "      <td>6929</td>\n",
       "      <td>6929</td>\n",
       "    </tr>\n",
       "    <tr>\n",
       "      <th>unique</th>\n",
       "      <td>6929</td>\n",
       "      <td>2</td>\n",
       "    </tr>\n",
       "    <tr>\n",
       "      <th>top</th>\n",
       "      <td>Why there’s still no single, accurate coronavi...</td>\n",
       "      <td>UNINFORMATIVE</td>\n",
       "    </tr>\n",
       "    <tr>\n",
       "      <th>freq</th>\n",
       "      <td>1</td>\n",
       "      <td>3659</td>\n",
       "    </tr>\n",
       "  </tbody>\n",
       "</table>\n",
       "</div>"
      ],
      "text/plain": [
       "                                                     Text          Label\n",
       "count                                                6929           6929\n",
       "unique                                               6929              2\n",
       "top     Why there’s still no single, accurate coronavi...  UNINFORMATIVE\n",
       "freq                                                    1           3659"
      ]
     },
     "execution_count": 9,
     "metadata": {},
     "output_type": "execute_result"
    }
   ],
   "source": [
    "# Statistically analysing the dataset's features\n",
    "data.describe()"
   ]
  },
  {
   "cell_type": "code",
   "execution_count": 10,
   "id": "71c17d1c",
   "metadata": {},
   "outputs": [
    {
     "name": "stdout",
     "output_type": "stream",
     "text": [
      "<class 'pandas.core.frame.DataFrame'>\n",
      "Int64Index: 6929 entries, 0 to 6935\n",
      "Data columns (total 2 columns):\n",
      " #   Column  Non-Null Count  Dtype \n",
      "---  ------  --------------  ----- \n",
      " 0   Text    6929 non-null   object\n",
      " 1   Label   6929 non-null   object\n",
      "dtypes: object(2)\n",
      "memory usage: 162.4+ KB\n"
     ]
    }
   ],
   "source": [
    "# The metadata for the dataset\n",
    "data.info()"
   ]
  },
  {
   "cell_type": "code",
   "execution_count": 11,
   "id": "249df23d",
   "metadata": {},
   "outputs": [],
   "source": [
    "# Splitting the dataset's features and outputs\n",
    "X = data.drop('Label', axis = 1)\n",
    "y = data['Label']"
   ]
  },
  {
   "cell_type": "code",
   "execution_count": 12,
   "id": "8c26dfa0",
   "metadata": {},
   "outputs": [
    {
     "data": {
      "text/html": [
       "<div>\n",
       "<style scoped>\n",
       "    .dataframe tbody tr th:only-of-type {\n",
       "        vertical-align: middle;\n",
       "    }\n",
       "\n",
       "    .dataframe tbody tr th {\n",
       "        vertical-align: top;\n",
       "    }\n",
       "\n",
       "    .dataframe thead th {\n",
       "        text-align: right;\n",
       "    }\n",
       "</style>\n",
       "<table border=\"1\" class=\"dataframe\">\n",
       "  <thead>\n",
       "    <tr style=\"text-align: right;\">\n",
       "      <th></th>\n",
       "      <th>Text</th>\n",
       "    </tr>\n",
       "  </thead>\n",
       "  <tbody>\n",
       "    <tr>\n",
       "      <th>0</th>\n",
       "      <td>Official death toll from #covid19 in the Unite...</td>\n",
       "    </tr>\n",
       "    <tr>\n",
       "      <th>1</th>\n",
       "      <td>Dearest Mr. President @USER 1,169 coronavirus ...</td>\n",
       "    </tr>\n",
       "    <tr>\n",
       "      <th>2</th>\n",
       "      <td>Latest Updates March 20 ⚠️5274 new cases and 3...</td>\n",
       "    </tr>\n",
       "    <tr>\n",
       "      <th>3</th>\n",
       "      <td>真把公主不当干部 BREAKING: 21 people on Grand Princess...</td>\n",
       "    </tr>\n",
       "    <tr>\n",
       "      <th>4</th>\n",
       "      <td>OKLAHOMA CITY — The State Department of Educat...</td>\n",
       "    </tr>\n",
       "  </tbody>\n",
       "</table>\n",
       "</div>"
      ],
      "text/plain": [
       "                                                Text\n",
       "0  Official death toll from #covid19 in the Unite...\n",
       "1  Dearest Mr. President @USER 1,169 coronavirus ...\n",
       "2  Latest Updates March 20 ⚠️5274 new cases and 3...\n",
       "3  真把公主不当干部 BREAKING: 21 people on Grand Princess...\n",
       "4  OKLAHOMA CITY — The State Department of Educat..."
      ]
     },
     "execution_count": 12,
     "metadata": {},
     "output_type": "execute_result"
    }
   ],
   "source": [
    "X.head(5)"
   ]
  },
  {
   "cell_type": "code",
   "execution_count": 13,
   "id": "2b76e252",
   "metadata": {},
   "outputs": [
    {
     "data": {
      "text/plain": [
       "0      INFORMATIVE\n",
       "1      INFORMATIVE\n",
       "2      INFORMATIVE\n",
       "3      INFORMATIVE\n",
       "4    UNINFORMATIVE\n",
       "Name: Label, dtype: object"
      ]
     },
     "execution_count": 13,
     "metadata": {},
     "output_type": "execute_result"
    }
   ],
   "source": [
    "y.head(5)"
   ]
  },
  {
   "cell_type": "code",
   "execution_count": 14,
   "id": "727ebc7c",
   "metadata": {},
   "outputs": [],
   "source": [
    "# Splitting the dataset into Training and testing datasets for cross validation\n",
    "X_train, X_test, y_train, y_test = train_test_split(X, y, test_size = 0.30, random_state = 42)"
   ]
  },
  {
   "cell_type": "code",
   "execution_count": 15,
   "id": "ec35845d",
   "metadata": {},
   "outputs": [
    {
     "data": {
      "text/plain": [
       "(4850, 16921)"
      ]
     },
     "execution_count": 15,
     "metadata": {},
     "output_type": "execute_result"
    }
   ],
   "source": [
    "# Extracting features from the text in the dataset\n",
    "count_vect = CountVectorizer()\n",
    "X_train_counts = count_vect.fit_transform(X_train['Text'])\n",
    "X_train_counts.shape"
   ]
  },
  {
   "cell_type": "code",
   "execution_count": 16,
   "id": "059a3957",
   "metadata": {},
   "outputs": [
    {
     "data": {
      "text/plain": [
       "(4850, 16921)"
      ]
     },
     "execution_count": 16,
     "metadata": {},
     "output_type": "execute_result"
    }
   ],
   "source": [
    "# Converting the extracted features into a matrix of TF-IDF features\n",
    "tfidf_transformer = TfidfTransformer()\n",
    "X_train_tfidf = tfidf_transformer.fit_transform(X_train_counts)\n",
    "X_train_tfidf.shape"
   ]
  },
  {
   "cell_type": "markdown",
   "id": "b593362e",
   "metadata": {},
   "source": [
    "# Bernoulli Naive Bayes Algorithm"
   ]
  },
  {
   "cell_type": "code",
   "execution_count": 17,
   "id": "af7b08fb",
   "metadata": {},
   "outputs": [],
   "source": [
    "# Initializing a Pipeline for Simultaneous Execution\n",
    "bnb = Pipeline([('vect', CountVectorizer()), ('tfidf', TfidfTransformer()), ('clf', BernoulliNB())])\n",
    "bnb = bnb.fit(X_train['Text'], y_train)"
   ]
  },
  {
   "cell_type": "code",
   "execution_count": 18,
   "id": "40431c7c",
   "metadata": {},
   "outputs": [],
   "source": [
    "# Prediction from the Machine Learning algorithm\n",
    "bnb_pred = bnb.predict(X_test['Text']) # Returns the predicted output\n",
    "bnb_pred_proba = bnb.predict_proba(X_test['Text'])[:, 1] # Returns the probability estimates for the features in the test set"
   ]
  },
  {
   "cell_type": "markdown",
   "id": "70ee36c5",
   "metadata": {},
   "source": [
    "# Support Vector Machine Algorithm"
   ]
  },
  {
   "cell_type": "code",
   "execution_count": 19,
   "id": "64d6d962",
   "metadata": {},
   "outputs": [],
   "source": [
    "svm = Pipeline([('vect', CountVectorizer()), ('tfidf', TfidfTransformer()), ('svm', SVC(probability=True))])\n",
    "svm = svm.fit(X_train['Text'], y_train)"
   ]
  },
  {
   "cell_type": "code",
   "execution_count": 20,
   "id": "13f41cef",
   "metadata": {},
   "outputs": [],
   "source": [
    "svm_pred = svm.predict(X_test['Text']) # Returns the predicted output\n",
    "svm_pred_proba = svm.predict_proba(X_test['Text'])[:, 1] # Returns the probability estimates for the features in the test set"
   ]
  },
  {
   "cell_type": "markdown",
   "id": "47cca5fd",
   "metadata": {},
   "source": [
    "# Decision Tree Algorithm"
   ]
  },
  {
   "cell_type": "code",
   "execution_count": 21,
   "id": "c5a2c699",
   "metadata": {},
   "outputs": [],
   "source": [
    "dt = Pipeline([('vect', CountVectorizer()), ('tfidf', TfidfTransformer()), ('dt', tree.DecisionTreeClassifier())])\n",
    "dt = dt.fit(X_train['Text'], y_train)"
   ]
  },
  {
   "cell_type": "code",
   "execution_count": 22,
   "id": "d36e5352",
   "metadata": {},
   "outputs": [],
   "source": [
    "dt_pred = dt.predict(X_test['Text']) # Returns the predicted output\n",
    "dt_pred_proba = dt.predict_proba(X_test['Text'])[:, 1] # Returns the probability estimates for the features in the test set"
   ]
  },
  {
   "cell_type": "markdown",
   "id": "f3b9a0ad",
   "metadata": {},
   "source": [
    "# Performance Metrics"
   ]
  },
  {
   "cell_type": "code",
   "execution_count": 23,
   "id": "e4ad4b83",
   "metadata": {},
   "outputs": [
    {
     "name": "stdout",
     "output_type": "stream",
     "text": [
      "For Bernoulli NB:  0.8167388167388168\n",
      "For SVC:  0.8508898508898509\n",
      "For Decision Tree:  0.7195767195767195\n"
     ]
    }
   ],
   "source": [
    "print(\"For Bernoulli NB: \", accuracy_score(y_test, bnb_pred))\n",
    "print(\"For SVC: \", accuracy_score(y_test, svm_pred))\n",
    "print(\"For Decision Tree: \", accuracy_score(y_test, dt_pred))"
   ]
  },
  {
   "cell_type": "code",
   "execution_count": 24,
   "id": "304f517f",
   "metadata": {},
   "outputs": [],
   "source": [
    "bnb_cm = confusion_matrix(y_test, bnb_pred)\n",
    "svm_cm = confusion_matrix(y_test, svm_pred)\n",
    "dt_cm = confusion_matrix(y_test, dt_pred)"
   ]
  },
  {
   "cell_type": "code",
   "execution_count": 25,
   "id": "3a5c1678",
   "metadata": {},
   "outputs": [
    {
     "data": {
      "text/plain": [
       "<AxesSubplot:>"
      ]
     },
     "execution_count": 25,
     "metadata": {},
     "output_type": "execute_result"
    },
    {
     "data": {
      "image/png": "[encoded data removed]",
      "text/plain": [
       "<Figure size 432x288 with 2 Axes>"
      ]
     },
     "metadata": {
      "needs_background": "light"
     },
     "output_type": "display_data"
    }
   ],
   "source": [
    "# Confusion Matrix for Bernoulli NB\n",
    "sns.heatmap(bnb_cm, annot=True)"
   ]
  },
  {
   "cell_type": "code",
   "execution_count": 26,
   "id": "4d6310b8",
   "metadata": {},
   "outputs": [
    {
     "data": {
      "text/plain": [
       "<AxesSubplot:>"
      ]
     },
     "execution_count": 26,
     "metadata": {},
     "output_type": "execute_result"
    },
    {
     "data": {
      "image/png": "[encoded data removed]",
      "text/plain": [
       "<Figure size 432x288 with 2 Axes>"
      ]
     },
     "metadata": {
      "needs_background": "light"
     },
     "output_type": "display_data"
    }
   ],
   "source": [
    "# Confusion Matrix for SVM\n",
    "sns.heatmap(svm_cm, annot=True)"
   ]
  },
  {
   "cell_type": "code",
   "execution_count": 27,
   "id": "87637f41",
   "metadata": {},
   "outputs": [
    {
     "data": {
      "text/plain": [
       "<AxesSubplot:>"
      ]
     },
     "execution_count": 27,
     "metadata": {},
     "output_type": "execute_result"
    },
    {
     "data": {
      "image/png": "[encoded data removed]",
      "text/plain": [
       "<Figure size 432x288 with 2 Axes>"
      ]
     },
     "metadata": {
      "needs_background": "light"
     },
     "output_type": "display_data"
    }
   ],
   "source": [
    "# Confusion Matrix for Decision Tree\n",
    "sns.heatmap(dt_cm, annot=True)"
   ]
  },
  {
   "cell_type": "code",
   "execution_count": 28,
   "id": "14a55efa",
   "metadata": {},
   "outputs": [
    {
     "name": "stdout",
     "output_type": "stream",
     "text": [
      "For Bernoulli NB:                 precision    recall  f1-score   support\n",
      "\n",
      "  INFORMATIVE       0.79      0.82      0.81       964\n",
      "UNINFORMATIVE       0.84      0.81      0.83      1115\n",
      "\n",
      "     accuracy                           0.82      2079\n",
      "    macro avg       0.82      0.82      0.82      2079\n",
      " weighted avg       0.82      0.82      0.82      2079\n",
      "\n",
      "For SVM:                 precision    recall  f1-score   support\n",
      "\n",
      "  INFORMATIVE       0.85      0.82      0.84       964\n",
      "UNINFORMATIVE       0.85      0.88      0.86      1115\n",
      "\n",
      "     accuracy                           0.85      2079\n",
      "    macro avg       0.85      0.85      0.85      2079\n",
      " weighted avg       0.85      0.85      0.85      2079\n",
      "\n",
      "For Decision Tree:                 precision    recall  f1-score   support\n",
      "\n",
      "  INFORMATIVE       0.68      0.75      0.71       964\n",
      "UNINFORMATIVE       0.76      0.70      0.73      1115\n",
      "\n",
      "     accuracy                           0.72      2079\n",
      "    macro avg       0.72      0.72      0.72      2079\n",
      " weighted avg       0.72      0.72      0.72      2079\n",
      "\n"
     ]
    }
   ],
   "source": [
    "print(\"For Bernoulli NB: \", classification_report(y_test, bnb_pred))\n",
    "print(\"For SVM: \", classification_report(y_test, svm_pred))\n",
    "print(\"For Decision Tree: \", classification_report(y_test, dt_pred))"
   ]
  },
  {
   "cell_type": "code",
   "execution_count": 29,
   "id": "3df49c65",
   "metadata": {},
   "outputs": [],
   "source": [
    "le = LabelEncoder()\n",
    "y_test = le.fit_transform(y_test)"
   ]
  },
  {
   "cell_type": "code",
   "execution_count": 30,
   "id": "ee3531d4",
   "metadata": {},
   "outputs": [],
   "source": [
    "bnb_fpr, bnb_tpr, bnb_thresholds = roc_curve(y_test, bnb_pred_proba)\n",
    "svm_fpr, svm_tpr, svm_thresholds = roc_curve(y_test, svm_pred_proba)\n",
    "dt_fpr, dt_tpr, dt_thresholds = roc_curve(y_test, dt_pred_proba)"
   ]
  },
  {
   "cell_type": "code",
   "execution_count": 31,
   "id": "ff9ed451",
   "metadata": {},
   "outputs": [
    {
     "data": {
      "image/png": "[encoded data removed]",
      "text/plain": [
       "<Figure size 432x288 with 1 Axes>"
      ]
     },
     "metadata": {
      "needs_background": "light"
     },
     "output_type": "display_data"
    }
   ],
   "source": [
    "plt.plot(bnb_fpr, bnb_tpr, label='ROC curve for Bernoulli NB')\n",
    "plt.plot(svm_fpr, svm_tpr, label='ROC curve for SVM')\n",
    "plt.plot(dt_fpr, dt_tpr, label='ROC curve for Decision Tree')\n",
    "plt.plot([0, 1], [0, 1], 'k--', label='Random guess')\n",
    "_ = plt.xlabel('False Positive Rate')\n",
    "_ = plt.ylabel('True Positive Rate')\n",
    "_ = plt.title('ROC Curve')\n",
    "_ = plt.xlim([-0.02, 1])\n",
    "_ = plt.ylim([0, 1.02])\n",
    "_ = plt.legend(loc=\"lower right\")"
   ]
  },
  {
   "cell_type": "code",
   "execution_count": 32,
   "id": "6dd42a94",
   "metadata": {},
   "outputs": [
    {
     "name": "stdout",
     "output_type": "stream",
     "text": [
      "For Bernoulli NB:  0.9070502204938318\n",
      "For SVM:  0.9263504084252833\n",
      "For Decision Tree:  0.7213558044768621\n"
     ]
    }
   ],
   "source": [
    "print(\"For Bernoulli NB: \", roc_auc_score(y_test, bnb_pred_proba))\n",
    "print(\"For SVM: \", roc_auc_score(y_test, svm_pred_proba))\n",
    "print(\"For Decision Tree: \", roc_auc_score(y_test, dt_pred_proba))"
   ]
  },
  {
   "cell_type": "code",
   "execution_count": 33,
   "id": "5f6d7b77",
   "metadata": {},
   "outputs": [],
   "source": [
    "# 10-fold Cross-validation for the Algorithms\n",
    "\n",
    "bnb_scores = cross_val_score(bnb, X_train.values.reshape(4850), y_train.values.reshape(4850), cv=10)\n",
    "svm_scores = cross_val_score(svm, X_train.values.reshape(4850), y_train.values.reshape(4850), cv=10)\n",
    "dt_scores = cross_val_score(dt, X_train.values.reshape(4850), y_train.values.reshape(4850), cv=10)"
   ]
  },
  {
   "cell_type": "code",
   "execution_count": 34,
   "id": "1759ffb3",
   "metadata": {},
   "outputs": [
    {
     "name": "stdout",
     "output_type": "stream",
     "text": [
      "For Bernoulli NB:  [0.79381443 0.82268041 0.81443299 0.81649485 0.82061856 0.82268041\n",
      " 0.82061856 0.82061856 0.8371134  0.81649485]\n",
      "For SVM:  [0.83092784 0.84329897 0.84536082 0.84329897 0.84536082 0.82474227\n",
      " 0.8371134  0.83917526 0.84742268 0.81443299]\n",
      "For Decision Tree:  [0.75257732 0.73814433 0.71340206 0.73608247 0.7443299  0.76701031\n",
      " 0.67835052 0.75876289 0.76082474 0.76494845]\n"
     ]
    }
   ],
   "source": [
    "# Five outputs in a list for each algorithm since cv=5 for cross_val_score\n",
    "\n",
    "print(\"For Bernoulli NB: \", bnb_scores)\n",
    "print(\"For SVM: \", svm_scores)\n",
    "print(\"For Decision Tree: \", dt_scores)"
   ]
  }
 ],
 "metadata": {
  "kernelspec": {
   "display_name": "Python 3",
   "language": "python",
   "name": "python3"
  },
  "language_info": {
   "codemirror_mode": {
    "name": "ipython",
    "version": 3
   },
   "file_extension": ".py",
   "mimetype": "text/x-python",
   "name": "python",
   "nbconvert_exporter": "python",
   "pygments_lexer": "ipython3",
   "version": "3.8.0"
  }
 },
 "nbformat": 4,
 "nbformat_minor": 5
}
