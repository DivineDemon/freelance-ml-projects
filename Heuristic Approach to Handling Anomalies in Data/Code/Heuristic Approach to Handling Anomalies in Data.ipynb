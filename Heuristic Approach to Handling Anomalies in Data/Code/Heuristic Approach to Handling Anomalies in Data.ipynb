{
 "cells": [
  {
   "cell_type": "code",
   "execution_count": 1,
   "id": "3745e34f",
   "metadata": {},
   "outputs": [],
   "source": [
    "import numpy as np, pandas as pd\n",
    "from IPython.display import Image\n",
    "import matplotlib.pyplot as plt, seaborn as sns\n",
    "import scipy\n",
    "import warnings\n",
    "import plotly.express as px\n",
    "from itertools import product\n",
    "import statsmodels.api as sm\n",
    "import datetime\n",
    "from tqdm import tqdm\n",
    "warnings.filterwarnings('ignore')"
   ]
  },
  {
   "cell_type": "code",
   "execution_count": 2,
   "id": "2975f4b1",
   "metadata": {},
   "outputs": [
    {
     "data": {
      "text/html": [
       "<div>\n",
       "<style scoped>\n",
       "    .dataframe tbody tr th:only-of-type {\n",
       "        vertical-align: middle;\n",
       "    }\n",
       "\n",
       "    .dataframe tbody tr th {\n",
       "        vertical-align: top;\n",
       "    }\n",
       "\n",
       "    .dataframe thead th {\n",
       "        text-align: right;\n",
       "    }\n",
       "</style>\n",
       "<table border=\"1\" class=\"dataframe\">\n",
       "  <thead>\n",
       "    <tr style=\"text-align: right;\">\n",
       "      <th></th>\n",
       "      <th>country</th>\n",
       "      <th>iso_code</th>\n",
       "      <th>date</th>\n",
       "      <th>total_vaccinations</th>\n",
       "      <th>people_vaccinated</th>\n",
       "      <th>people_fully_vaccinated</th>\n",
       "      <th>daily_vaccinations_raw</th>\n",
       "      <th>daily_vaccinations</th>\n",
       "      <th>total_vaccinations_per_hundred</th>\n",
       "      <th>people_vaccinated_per_hundred</th>\n",
       "      <th>people_fully_vaccinated_per_hundred</th>\n",
       "      <th>daily_vaccinations_per_million</th>\n",
       "      <th>vaccines</th>\n",
       "      <th>source_name</th>\n",
       "      <th>source_website</th>\n",
       "    </tr>\n",
       "  </thead>\n",
       "  <tbody>\n",
       "    <tr>\n",
       "      <th>0</th>\n",
       "      <td>Afghanistan</td>\n",
       "      <td>AFG</td>\n",
       "      <td>2021-02-22</td>\n",
       "      <td>0.0</td>\n",
       "      <td>0.0</td>\n",
       "      <td>NaN</td>\n",
       "      <td>NaN</td>\n",
       "      <td>NaN</td>\n",
       "      <td>0.0</td>\n",
       "      <td>0.0</td>\n",
       "      <td>NaN</td>\n",
       "      <td>NaN</td>\n",
       "      <td>Oxford/AstraZeneca</td>\n",
       "      <td>Government of Afghanistan</td>\n",
       "      <td>https://reliefweb.int/report/afghanistan/afgha...</td>\n",
       "    </tr>\n",
       "    <tr>\n",
       "      <th>1</th>\n",
       "      <td>Afghanistan</td>\n",
       "      <td>AFG</td>\n",
       "      <td>2021-02-23</td>\n",
       "      <td>NaN</td>\n",
       "      <td>NaN</td>\n",
       "      <td>NaN</td>\n",
       "      <td>NaN</td>\n",
       "      <td>1367.0</td>\n",
       "      <td>NaN</td>\n",
       "      <td>NaN</td>\n",
       "      <td>NaN</td>\n",
       "      <td>35.0</td>\n",
       "      <td>Oxford/AstraZeneca</td>\n",
       "      <td>Government of Afghanistan</td>\n",
       "      <td>https://reliefweb.int/report/afghanistan/afgha...</td>\n",
       "    </tr>\n",
       "    <tr>\n",
       "      <th>2</th>\n",
       "      <td>Afghanistan</td>\n",
       "      <td>AFG</td>\n",
       "      <td>2021-02-24</td>\n",
       "      <td>NaN</td>\n",
       "      <td>NaN</td>\n",
       "      <td>NaN</td>\n",
       "      <td>NaN</td>\n",
       "      <td>1367.0</td>\n",
       "      <td>NaN</td>\n",
       "      <td>NaN</td>\n",
       "      <td>NaN</td>\n",
       "      <td>35.0</td>\n",
       "      <td>Oxford/AstraZeneca</td>\n",
       "      <td>Government of Afghanistan</td>\n",
       "      <td>https://reliefweb.int/report/afghanistan/afgha...</td>\n",
       "    </tr>\n",
       "    <tr>\n",
       "      <th>3</th>\n",
       "      <td>Afghanistan</td>\n",
       "      <td>AFG</td>\n",
       "      <td>2021-02-25</td>\n",
       "      <td>NaN</td>\n",
       "      <td>NaN</td>\n",
       "      <td>NaN</td>\n",
       "      <td>NaN</td>\n",
       "      <td>1367.0</td>\n",
       "      <td>NaN</td>\n",
       "      <td>NaN</td>\n",
       "      <td>NaN</td>\n",
       "      <td>35.0</td>\n",
       "      <td>Oxford/AstraZeneca</td>\n",
       "      <td>Government of Afghanistan</td>\n",
       "      <td>https://reliefweb.int/report/afghanistan/afgha...</td>\n",
       "    </tr>\n",
       "    <tr>\n",
       "      <th>4</th>\n",
       "      <td>Afghanistan</td>\n",
       "      <td>AFG</td>\n",
       "      <td>2021-02-26</td>\n",
       "      <td>NaN</td>\n",
       "      <td>NaN</td>\n",
       "      <td>NaN</td>\n",
       "      <td>NaN</td>\n",
       "      <td>1367.0</td>\n",
       "      <td>NaN</td>\n",
       "      <td>NaN</td>\n",
       "      <td>NaN</td>\n",
       "      <td>35.0</td>\n",
       "      <td>Oxford/AstraZeneca</td>\n",
       "      <td>Government of Afghanistan</td>\n",
       "      <td>https://reliefweb.int/report/afghanistan/afgha...</td>\n",
       "    </tr>\n",
       "  </tbody>\n",
       "</table>\n",
       "</div>"
      ],
      "text/plain": [
       "       country iso_code        date  total_vaccinations  people_vaccinated  \\\n",
       "0  Afghanistan      AFG  2021-02-22                 0.0                0.0   \n",
       "1  Afghanistan      AFG  2021-02-23                 NaN                NaN   \n",
       "2  Afghanistan      AFG  2021-02-24                 NaN                NaN   \n",
       "3  Afghanistan      AFG  2021-02-25                 NaN                NaN   \n",
       "4  Afghanistan      AFG  2021-02-26                 NaN                NaN   \n",
       "\n",
       "   people_fully_vaccinated  daily_vaccinations_raw  daily_vaccinations  \\\n",
       "0                      NaN                     NaN                 NaN   \n",
       "1                      NaN                     NaN              1367.0   \n",
       "2                      NaN                     NaN              1367.0   \n",
       "3                      NaN                     NaN              1367.0   \n",
       "4                      NaN                     NaN              1367.0   \n",
       "\n",
       "   total_vaccinations_per_hundred  people_vaccinated_per_hundred  \\\n",
       "0                             0.0                            0.0   \n",
       "1                             NaN                            NaN   \n",
       "2                             NaN                            NaN   \n",
       "3                             NaN                            NaN   \n",
       "4                             NaN                            NaN   \n",
       "\n",
       "   people_fully_vaccinated_per_hundred  daily_vaccinations_per_million  \\\n",
       "0                                  NaN                             NaN   \n",
       "1                                  NaN                            35.0   \n",
       "2                                  NaN                            35.0   \n",
       "3                                  NaN                            35.0   \n",
       "4                                  NaN                            35.0   \n",
       "\n",
       "             vaccines                source_name  \\\n",
       "0  Oxford/AstraZeneca  Government of Afghanistan   \n",
       "1  Oxford/AstraZeneca  Government of Afghanistan   \n",
       "2  Oxford/AstraZeneca  Government of Afghanistan   \n",
       "3  Oxford/AstraZeneca  Government of Afghanistan   \n",
       "4  Oxford/AstraZeneca  Government of Afghanistan   \n",
       "\n",
       "                                      source_website  \n",
       "0  https://reliefweb.int/report/afghanistan/afgha...  \n",
       "1  https://reliefweb.int/report/afghanistan/afgha...  \n",
       "2  https://reliefweb.int/report/afghanistan/afgha...  \n",
       "3  https://reliefweb.int/report/afghanistan/afgha...  \n",
       "4  https://reliefweb.int/report/afghanistan/afgha...  "
      ]
     },
     "execution_count": 2,
     "metadata": {},
     "output_type": "execute_result"
    }
   ],
   "source": [
    "data = pd.read_csv('country_vaccinations.csv')\n",
    "data.head(5)"
   ]
  },
  {
   "cell_type": "code",
   "execution_count": 3,
   "id": "9c6f30e9",
   "metadata": {},
   "outputs": [
    {
     "data": {
      "text/plain": [
       "(14663, 15)"
      ]
     },
     "execution_count": 3,
     "metadata": {},
     "output_type": "execute_result"
    }
   ],
   "source": [
    "data.shape"
   ]
  },
  {
   "cell_type": "code",
   "execution_count": 4,
   "id": "8b440d55",
   "metadata": {},
   "outputs": [
    {
     "data": {
      "text/plain": [
       "country                                   0\n",
       "iso_code                                  0\n",
       "date                                      0\n",
       "total_vaccinations                     5906\n",
       "people_vaccinated                      6528\n",
       "people_fully_vaccinated                8708\n",
       "daily_vaccinations_raw                 7313\n",
       "daily_vaccinations                      197\n",
       "total_vaccinations_per_hundred         5906\n",
       "people_vaccinated_per_hundred          6528\n",
       "people_fully_vaccinated_per_hundred    8708\n",
       "daily_vaccinations_per_million          197\n",
       "vaccines                                  0\n",
       "source_name                               0\n",
       "source_website                            0\n",
       "dtype: int64"
      ]
     },
     "execution_count": 4,
     "metadata": {},
     "output_type": "execute_result"
    }
   ],
   "source": [
    "data.isna().sum()"
   ]
  },
  {
   "cell_type": "code",
   "execution_count": 5,
   "id": "15da2343",
   "metadata": {},
   "outputs": [
    {
     "data": {
      "text/plain": [
       "country                                   0\n",
       "iso_code                                  0\n",
       "date                                      0\n",
       "total_vaccinations                        0\n",
       "people_vaccinated                       698\n",
       "people_fully_vaccinated                2803\n",
       "daily_vaccinations_raw                 1407\n",
       "daily_vaccinations                      194\n",
       "total_vaccinations_per_hundred            0\n",
       "people_vaccinated_per_hundred           698\n",
       "people_fully_vaccinated_per_hundred    2803\n",
       "daily_vaccinations_per_million          194\n",
       "vaccines                                  0\n",
       "source_name                               0\n",
       "source_website                            0\n",
       "dtype: int64"
      ]
     },
     "execution_count": 5,
     "metadata": {},
     "output_type": "execute_result"
    }
   ],
   "source": [
    "data = data.drop(data[data.total_vaccinations.isna()].index)\n",
    "data.isna().sum()"
   ]
  },
  {
   "cell_type": "code",
   "execution_count": 6,
   "id": "abf508eb",
   "metadata": {},
   "outputs": [
    {
     "data": {
      "text/html": [
       "<div>\n",
       "<style scoped>\n",
       "    .dataframe tbody tr th:only-of-type {\n",
       "        vertical-align: middle;\n",
       "    }\n",
       "\n",
       "    .dataframe tbody tr th {\n",
       "        vertical-align: top;\n",
       "    }\n",
       "\n",
       "    .dataframe thead th {\n",
       "        text-align: right;\n",
       "    }\n",
       "</style>\n",
       "<table border=\"1\" class=\"dataframe\">\n",
       "  <thead>\n",
       "    <tr style=\"text-align: right;\">\n",
       "      <th></th>\n",
       "      <th>country</th>\n",
       "      <th>iso_code</th>\n",
       "      <th>date</th>\n",
       "      <th>total_vaccinations</th>\n",
       "      <th>people_vaccinated</th>\n",
       "      <th>people_fully_vaccinated</th>\n",
       "      <th>daily_vaccinations_raw</th>\n",
       "      <th>daily_vaccinations</th>\n",
       "      <th>total_vaccinations_per_hundred</th>\n",
       "      <th>people_vaccinated_per_hundred</th>\n",
       "      <th>people_fully_vaccinated_per_hundred</th>\n",
       "      <th>daily_vaccinations_per_million</th>\n",
       "      <th>vaccines</th>\n",
       "      <th>source_name</th>\n",
       "      <th>source_website</th>\n",
       "    </tr>\n",
       "  </thead>\n",
       "  <tbody>\n",
       "    <tr>\n",
       "      <th>0</th>\n",
       "      <td>Afghanistan</td>\n",
       "      <td>AFG</td>\n",
       "      <td>2021-02-22</td>\n",
       "      <td>0.0</td>\n",
       "      <td>0.0</td>\n",
       "      <td>NaN</td>\n",
       "      <td>NaN</td>\n",
       "      <td>NaN</td>\n",
       "      <td>0.00</td>\n",
       "      <td>0.00</td>\n",
       "      <td>NaN</td>\n",
       "      <td>NaN</td>\n",
       "      <td>Oxford/AstraZeneca</td>\n",
       "      <td>Government of Afghanistan</td>\n",
       "      <td>https://reliefweb.int/report/afghanistan/afgha...</td>\n",
       "    </tr>\n",
       "    <tr>\n",
       "      <th>6</th>\n",
       "      <td>Afghanistan</td>\n",
       "      <td>AFG</td>\n",
       "      <td>2021-02-28</td>\n",
       "      <td>8200.0</td>\n",
       "      <td>8200.0</td>\n",
       "      <td>NaN</td>\n",
       "      <td>NaN</td>\n",
       "      <td>1367.0</td>\n",
       "      <td>0.02</td>\n",
       "      <td>0.02</td>\n",
       "      <td>NaN</td>\n",
       "      <td>35.0</td>\n",
       "      <td>Oxford/AstraZeneca</td>\n",
       "      <td>Government of Afghanistan</td>\n",
       "      <td>https://reliefweb.int/report/afghanistan/afgha...</td>\n",
       "    </tr>\n",
       "    <tr>\n",
       "      <th>22</th>\n",
       "      <td>Afghanistan</td>\n",
       "      <td>AFG</td>\n",
       "      <td>2021-03-16</td>\n",
       "      <td>54000.0</td>\n",
       "      <td>54000.0</td>\n",
       "      <td>NaN</td>\n",
       "      <td>NaN</td>\n",
       "      <td>2862.0</td>\n",
       "      <td>0.14</td>\n",
       "      <td>0.14</td>\n",
       "      <td>NaN</td>\n",
       "      <td>74.0</td>\n",
       "      <td>Oxford/AstraZeneca</td>\n",
       "      <td>Government of Afghanistan</td>\n",
       "      <td>https://reliefweb.int/report/afghanistan/afgha...</td>\n",
       "    </tr>\n",
       "    <tr>\n",
       "      <th>44</th>\n",
       "      <td>Afghanistan</td>\n",
       "      <td>AFG</td>\n",
       "      <td>2021-04-07</td>\n",
       "      <td>120000.0</td>\n",
       "      <td>120000.0</td>\n",
       "      <td>NaN</td>\n",
       "      <td>NaN</td>\n",
       "      <td>3000.0</td>\n",
       "      <td>0.31</td>\n",
       "      <td>0.31</td>\n",
       "      <td>NaN</td>\n",
       "      <td>77.0</td>\n",
       "      <td>Oxford/AstraZeneca</td>\n",
       "      <td>Government of Afghanistan</td>\n",
       "      <td>https://reliefweb.int/report/afghanistan/afgha...</td>\n",
       "    </tr>\n",
       "    <tr>\n",
       "      <th>59</th>\n",
       "      <td>Afghanistan</td>\n",
       "      <td>AFG</td>\n",
       "      <td>2021-04-22</td>\n",
       "      <td>240000.0</td>\n",
       "      <td>240000.0</td>\n",
       "      <td>NaN</td>\n",
       "      <td>NaN</td>\n",
       "      <td>8000.0</td>\n",
       "      <td>0.62</td>\n",
       "      <td>0.62</td>\n",
       "      <td>NaN</td>\n",
       "      <td>206.0</td>\n",
       "      <td>Oxford/AstraZeneca</td>\n",
       "      <td>Government of Afghanistan</td>\n",
       "      <td>https://reliefweb.int/report/afghanistan/afgha...</td>\n",
       "    </tr>\n",
       "  </tbody>\n",
       "</table>\n",
       "</div>"
      ],
      "text/plain": [
       "        country iso_code        date  total_vaccinations  people_vaccinated  \\\n",
       "0   Afghanistan      AFG  2021-02-22                 0.0                0.0   \n",
       "6   Afghanistan      AFG  2021-02-28              8200.0             8200.0   \n",
       "22  Afghanistan      AFG  2021-03-16             54000.0            54000.0   \n",
       "44  Afghanistan      AFG  2021-04-07            120000.0           120000.0   \n",
       "59  Afghanistan      AFG  2021-04-22            240000.0           240000.0   \n",
       "\n",
       "    people_fully_vaccinated  daily_vaccinations_raw  daily_vaccinations  \\\n",
       "0                       NaN                     NaN                 NaN   \n",
       "6                       NaN                     NaN              1367.0   \n",
       "22                      NaN                     NaN              2862.0   \n",
       "44                      NaN                     NaN              3000.0   \n",
       "59                      NaN                     NaN              8000.0   \n",
       "\n",
       "    total_vaccinations_per_hundred  people_vaccinated_per_hundred  \\\n",
       "0                             0.00                           0.00   \n",
       "6                             0.02                           0.02   \n",
       "22                            0.14                           0.14   \n",
       "44                            0.31                           0.31   \n",
       "59                            0.62                           0.62   \n",
       "\n",
       "    people_fully_vaccinated_per_hundred  daily_vaccinations_per_million  \\\n",
       "0                                   NaN                             NaN   \n",
       "6                                   NaN                            35.0   \n",
       "22                                  NaN                            74.0   \n",
       "44                                  NaN                            77.0   \n",
       "59                                  NaN                           206.0   \n",
       "\n",
       "              vaccines                source_name  \\\n",
       "0   Oxford/AstraZeneca  Government of Afghanistan   \n",
       "6   Oxford/AstraZeneca  Government of Afghanistan   \n",
       "22  Oxford/AstraZeneca  Government of Afghanistan   \n",
       "44  Oxford/AstraZeneca  Government of Afghanistan   \n",
       "59  Oxford/AstraZeneca  Government of Afghanistan   \n",
       "\n",
       "                                       source_website  \n",
       "0   https://reliefweb.int/report/afghanistan/afgha...  \n",
       "6   https://reliefweb.int/report/afghanistan/afgha...  \n",
       "22  https://reliefweb.int/report/afghanistan/afgha...  \n",
       "44  https://reliefweb.int/report/afghanistan/afgha...  \n",
       "59  https://reliefweb.int/report/afghanistan/afgha...  "
      ]
     },
     "execution_count": 6,
     "metadata": {},
     "output_type": "execute_result"
    }
   ],
   "source": [
    "check_data = data.drop(data[data.people_vaccinated.isna()].index)\n",
    "check_data.head()"
   ]
  },
  {
   "cell_type": "code",
   "execution_count": 7,
   "id": "dd3e6331",
   "metadata": {},
   "outputs": [
    {
     "data": {
      "image/png": "[encoded data removed]",
      "text/plain": [
       "<Figure size 576x576 with 2 Axes>"
      ]
     },
     "metadata": {
      "needs_background": "light"
     },
     "output_type": "display_data"
    }
   ],
   "source": [
    "plt.subplots(figsize=(8, 8))\n",
    "sns.heatmap(check_data.corr(), annot=True, square=True)\n",
    "plt.show()"
   ]
  },
  {
   "cell_type": "code",
   "execution_count": 8,
   "id": "ed448f80",
   "metadata": {},
   "outputs": [
    {
     "data": {
      "text/plain": [
       "MannwhitneyuResult(statistic=34088496.0, pvalue=4.577620616600867e-08)"
      ]
     },
     "execution_count": 8,
     "metadata": {},
     "output_type": "execute_result"
    }
   ],
   "source": [
    "scipy.stats.mannwhitneyu(check_data.total_vaccinations, check_data.people_vaccinated, alternative='two-sided')"
   ]
  },
  {
   "cell_type": "code",
   "execution_count": 9,
   "id": "0bd00ccd",
   "metadata": {},
   "outputs": [
    {
     "data": {
      "text/plain": [
       "MannwhitneyuResult(statistic=34929587.0, pvalue=9.202028896398536e-17)"
      ]
     },
     "execution_count": 9,
     "metadata": {},
     "output_type": "execute_result"
    }
   ],
   "source": [
    "scipy.stats.mannwhitneyu(check_data.total_vaccinations_per_hundred, check_data.people_vaccinated_per_hundred, alternative='two-sided')"
   ]
  },
  {
   "cell_type": "code",
   "execution_count": 10,
   "id": "fe4d8ac1",
   "metadata": {},
   "outputs": [],
   "source": [
    "diff = check_data.total_vaccinations.mean() - check_data.people_vaccinated.mean()\n",
    "diff_per_hundred = check_data.total_vaccinations_per_hundred.mean() - check_data.people_vaccinated_per_hundred.mean()\n",
    "\n",
    "data.people_vaccinated = data.people_vaccinated.fillna(data.total_vaccinations - diff)\n",
    "data.people_vaccinated_per_hundred = data.people_vaccinated_per_hundred.fillna(data.total_vaccinations_per_hundred - diff_per_hundred)"
   ]
  },
  {
   "cell_type": "code",
   "execution_count": 11,
   "id": "d657b2c3",
   "metadata": {},
   "outputs": [
    {
     "data": {
      "text/plain": [
       "country                                   0\n",
       "iso_code                                  0\n",
       "date                                      0\n",
       "total_vaccinations                        0\n",
       "people_vaccinated                         0\n",
       "people_fully_vaccinated                2803\n",
       "daily_vaccinations_raw                 1407\n",
       "daily_vaccinations                      194\n",
       "total_vaccinations_per_hundred            0\n",
       "people_vaccinated_per_hundred             0\n",
       "people_fully_vaccinated_per_hundred    2803\n",
       "daily_vaccinations_per_million          194\n",
       "vaccines                                  0\n",
       "source_name                               0\n",
       "source_website                            0\n",
       "dtype: int64"
      ]
     },
     "execution_count": 11,
     "metadata": {},
     "output_type": "execute_result"
    }
   ],
   "source": [
    "data.isna().sum()"
   ]
  },
  {
   "cell_type": "code",
   "execution_count": 12,
   "id": "c3717dd3",
   "metadata": {},
   "outputs": [
    {
     "data": {
      "text/plain": [
       "MannwhitneyuResult(statistic=12574814.5, pvalue=0.0)"
      ]
     },
     "execution_count": 12,
     "metadata": {},
     "output_type": "execute_result"
    }
   ],
   "source": [
    "scipy.stats.mannwhitneyu(check_data.people_vaccinated, check_data.daily_vaccinations)"
   ]
  },
  {
   "cell_type": "code",
   "execution_count": 13,
   "id": "26a61d2e",
   "metadata": {},
   "outputs": [
    {
     "data": {
      "text/plain": [
       "MannwhitneyuResult(statistic=754863.0, pvalue=0.0)"
      ]
     },
     "execution_count": 13,
     "metadata": {},
     "output_type": "execute_result"
    }
   ],
   "source": [
    "scipy.stats.mannwhitneyu(check_data.people_vaccinated_per_hundred, check_data.daily_vaccinations_per_million)"
   ]
  },
  {
   "cell_type": "code",
   "execution_count": 14,
   "id": "ac476044",
   "metadata": {},
   "outputs": [],
   "source": [
    "data.daily_vaccinations = data.daily_vaccinations.fillna(0)\n",
    "data.daily_vaccinations_per_million = data.daily_vaccinations_per_million.fillna(0)"
   ]
  },
  {
   "cell_type": "code",
   "execution_count": 15,
   "id": "157ff998",
   "metadata": {},
   "outputs": [
    {
     "data": {
      "text/plain": [
       "country                                   0\n",
       "iso_code                                  0\n",
       "date                                      0\n",
       "total_vaccinations                        0\n",
       "people_vaccinated                         0\n",
       "people_fully_vaccinated                2803\n",
       "daily_vaccinations_raw                 1407\n",
       "daily_vaccinations                        0\n",
       "total_vaccinations_per_hundred            0\n",
       "people_vaccinated_per_hundred             0\n",
       "people_fully_vaccinated_per_hundred    2803\n",
       "daily_vaccinations_per_million            0\n",
       "vaccines                                  0\n",
       "source_name                               0\n",
       "source_website                            0\n",
       "dtype: int64"
      ]
     },
     "execution_count": 15,
     "metadata": {},
     "output_type": "execute_result"
    }
   ],
   "source": [
    "data.isna().sum()"
   ]
  },
  {
   "cell_type": "code",
   "execution_count": 16,
   "id": "78a97eb1",
   "metadata": {},
   "outputs": [
    {
     "data": {
      "text/plain": [
       "MannwhitneyuResult(statistic=28978014.5, pvalue=1.2827290938007367e-32)"
      ]
     },
     "execution_count": 16,
     "metadata": {},
     "output_type": "execute_result"
    }
   ],
   "source": [
    "scipy.stats.mannwhitneyu(check_data.people_fully_vaccinated, check_data.total_vaccinations)"
   ]
  },
  {
   "cell_type": "code",
   "execution_count": 17,
   "id": "59544b87",
   "metadata": {},
   "outputs": [
    {
     "data": {
      "text/plain": [
       "MannwhitneyuResult(statistic=31299760.0, pvalue=3.52345522620814e-05)"
      ]
     },
     "execution_count": 17,
     "metadata": {},
     "output_type": "execute_result"
    }
   ],
   "source": [
    "scipy.stats.mannwhitneyu(check_data.people_fully_vaccinated_per_hundred, check_data.total_vaccinations_per_hundred)"
   ]
  },
  {
   "cell_type": "code",
   "execution_count": 18,
   "id": "bcbfb1a7",
   "metadata": {},
   "outputs": [],
   "source": [
    "data.people_fully_vaccinated = data.people_fully_vaccinated.fillna(0)\n",
    "data.people_fully_vaccinated_per_hundred = data.people_fully_vaccinated_per_hundred.fillna(0)"
   ]
  },
  {
   "cell_type": "code",
   "execution_count": 19,
   "id": "92217fe3",
   "metadata": {},
   "outputs": [
    {
     "data": {
      "text/plain": [
       "country                                   0\n",
       "iso_code                                  0\n",
       "date                                      0\n",
       "total_vaccinations                        0\n",
       "people_vaccinated                         0\n",
       "people_fully_vaccinated                   0\n",
       "daily_vaccinations_raw                 1407\n",
       "daily_vaccinations                        0\n",
       "total_vaccinations_per_hundred            0\n",
       "people_vaccinated_per_hundred             0\n",
       "people_fully_vaccinated_per_hundred       0\n",
       "daily_vaccinations_per_million            0\n",
       "vaccines                                  0\n",
       "source_name                               0\n",
       "source_website                            0\n",
       "dtype: int64"
      ]
     },
     "execution_count": 19,
     "metadata": {},
     "output_type": "execute_result"
    }
   ],
   "source": [
    "data.isna().sum()"
   ]
  },
  {
   "cell_type": "code",
   "execution_count": 20,
   "id": "77ef1de5",
   "metadata": {},
   "outputs": [
    {
     "data": {
      "text/plain": [
       "MannwhitneyuResult(statistic=27220526.5, pvalue=4.578638380335053e-71)"
      ]
     },
     "execution_count": 20,
     "metadata": {},
     "output_type": "execute_result"
    }
   ],
   "source": [
    "scipy.stats.mannwhitneyu(check_data.daily_vaccinations_raw, check_data.daily_vaccinations)"
   ]
  },
  {
   "cell_type": "code",
   "execution_count": 21,
   "id": "b40e8d97",
   "metadata": {},
   "outputs": [],
   "source": [
    "data.daily_vaccinations_raw = data.daily_vaccinations_raw.fillna(0)"
   ]
  },
  {
   "cell_type": "code",
   "execution_count": 22,
   "id": "eaf41eec",
   "metadata": {},
   "outputs": [
    {
     "data": {
      "text/plain": [
       "country                                0\n",
       "iso_code                               0\n",
       "date                                   0\n",
       "total_vaccinations                     0\n",
       "people_vaccinated                      0\n",
       "people_fully_vaccinated                0\n",
       "daily_vaccinations_raw                 0\n",
       "daily_vaccinations                     0\n",
       "total_vaccinations_per_hundred         0\n",
       "people_vaccinated_per_hundred          0\n",
       "people_fully_vaccinated_per_hundred    0\n",
       "daily_vaccinations_per_million         0\n",
       "vaccines                               0\n",
       "source_name                            0\n",
       "source_website                         0\n",
       "dtype: int64"
      ]
     },
     "execution_count": 22,
     "metadata": {},
     "output_type": "execute_result"
    }
   ],
   "source": [
    "data.isna().sum()"
   ]
  }
 ],
 "metadata": {
  "kernelspec": {
   "display_name": "Python 3",
   "language": "python",
   "name": "python3"
  },
  "language_info": {
   "codemirror_mode": {
    "name": "ipython",
    "version": 3
   },
   "file_extension": ".py",
   "mimetype": "text/x-python",
   "name": "python",
   "nbconvert_exporter": "python",
   "pygments_lexer": "ipython3",
   "version": "3.8.0"
  }
 },
 "nbformat": 4,
 "nbformat_minor": 5
}
