{
 "cells": [
  {
   "cell_type": "code",
   "execution_count": 1,
   "id": "cc876a09",
   "metadata": {},
   "outputs": [],
   "source": [
    "import pandas as pd\n",
    "import numpy as np\n",
    "import matplotlib.pyplot as plt\n",
    "import seaborn as sns\n",
    "import missingno as mno\n",
    "from sklearn import linear_model\n",
    "from sklearn.preprocessing import LabelEncoder\n",
    "import warnings\n",
    "\n",
    "warnings.simplefilter(\"ignore\")\n",
    "%matplotlib inline"
   ]
  },
  {
   "cell_type": "code",
   "execution_count": 2,
   "id": "89c53cc7",
   "metadata": {},
   "outputs": [],
   "source": [
    "df = pd.read_csv('city_temperature.csv', low_memory = False).drop(columns = ['State', 'Region', 'City'])"
   ]
  },
  {
   "cell_type": "code",
   "execution_count": 3,
   "id": "54aa54cb",
   "metadata": {},
   "outputs": [],
   "source": [
    "le = LabelEncoder()"
   ]
  },
  {
   "cell_type": "code",
   "execution_count": 4,
   "id": "74ba1cf1",
   "metadata": {},
   "outputs": [],
   "source": [
    "df['Country'] = le.fit_transform(df['Country'])"
   ]
  },
  {
   "cell_type": "code",
   "execution_count": 5,
   "id": "6c4c562b",
   "metadata": {},
   "outputs": [
    {
     "data": {
      "text/html": [
       "<div>\n",
       "<style scoped>\n",
       "    .dataframe tbody tr th:only-of-type {\n",
       "        vertical-align: middle;\n",
       "    }\n",
       "\n",
       "    .dataframe tbody tr th {\n",
       "        vertical-align: top;\n",
       "    }\n",
       "\n",
       "    .dataframe thead th {\n",
       "        text-align: right;\n",
       "    }\n",
       "</style>\n",
       "<table border=\"1\" class=\"dataframe\">\n",
       "  <thead>\n",
       "    <tr style=\"text-align: right;\">\n",
       "      <th></th>\n",
       "      <th>Country</th>\n",
       "      <th>Month</th>\n",
       "      <th>Day</th>\n",
       "      <th>Year</th>\n",
       "      <th>AvgTemperature</th>\n",
       "    </tr>\n",
       "  </thead>\n",
       "  <tbody>\n",
       "    <tr>\n",
       "      <th>0</th>\n",
       "      <td>1</td>\n",
       "      <td>1</td>\n",
       "      <td>1</td>\n",
       "      <td>1995</td>\n",
       "      <td>64.2</td>\n",
       "    </tr>\n",
       "    <tr>\n",
       "      <th>1</th>\n",
       "      <td>1</td>\n",
       "      <td>1</td>\n",
       "      <td>2</td>\n",
       "      <td>1995</td>\n",
       "      <td>49.4</td>\n",
       "    </tr>\n",
       "    <tr>\n",
       "      <th>2</th>\n",
       "      <td>1</td>\n",
       "      <td>1</td>\n",
       "      <td>3</td>\n",
       "      <td>1995</td>\n",
       "      <td>48.8</td>\n",
       "    </tr>\n",
       "    <tr>\n",
       "      <th>3</th>\n",
       "      <td>1</td>\n",
       "      <td>1</td>\n",
       "      <td>4</td>\n",
       "      <td>1995</td>\n",
       "      <td>46.4</td>\n",
       "    </tr>\n",
       "    <tr>\n",
       "      <th>4</th>\n",
       "      <td>1</td>\n",
       "      <td>1</td>\n",
       "      <td>5</td>\n",
       "      <td>1995</td>\n",
       "      <td>47.9</td>\n",
       "    </tr>\n",
       "  </tbody>\n",
       "</table>\n",
       "</div>"
      ],
      "text/plain": [
       "   Country  Month  Day  Year  AvgTemperature\n",
       "0        1      1    1  1995            64.2\n",
       "1        1      1    2  1995            49.4\n",
       "2        1      1    3  1995            48.8\n",
       "3        1      1    4  1995            46.4\n",
       "4        1      1    5  1995            47.9"
      ]
     },
     "execution_count": 5,
     "metadata": {},
     "output_type": "execute_result"
    }
   ],
   "source": [
    "df.head()"
   ]
  },
  {
   "cell_type": "code",
   "execution_count": 6,
   "id": "5d9248db",
   "metadata": {},
   "outputs": [
    {
     "name": "stdout",
     "output_type": "stream",
     "text": [
      "<class 'pandas.core.frame.DataFrame'>\n",
      "RangeIndex: 2906327 entries, 0 to 2906326\n",
      "Data columns (total 5 columns):\n",
      " #   Column          Dtype  \n",
      "---  ------          -----  \n",
      " 0   Country         int32  \n",
      " 1   Month           int64  \n",
      " 2   Day             int64  \n",
      " 3   Year            int64  \n",
      " 4   AvgTemperature  float64\n",
      "dtypes: float64(1), int32(1), int64(3)\n",
      "memory usage: 99.8 MB\n"
     ]
    }
   ],
   "source": [
    "df.info()"
   ]
  },
  {
   "cell_type": "code",
   "execution_count": 7,
   "id": "26a69a2a",
   "metadata": {},
   "outputs": [
    {
     "data": {
      "text/html": [
       "<div>\n",
       "<style scoped>\n",
       "    .dataframe tbody tr th:only-of-type {\n",
       "        vertical-align: middle;\n",
       "    }\n",
       "\n",
       "    .dataframe tbody tr th {\n",
       "        vertical-align: top;\n",
       "    }\n",
       "\n",
       "    .dataframe thead th {\n",
       "        text-align: right;\n",
       "    }\n",
       "</style>\n",
       "<table border=\"1\" class=\"dataframe\">\n",
       "  <thead>\n",
       "    <tr style=\"text-align: right;\">\n",
       "      <th></th>\n",
       "      <th>Country</th>\n",
       "      <th>Month</th>\n",
       "      <th>Day</th>\n",
       "      <th>Year</th>\n",
       "      <th>AvgTemperature</th>\n",
       "    </tr>\n",
       "  </thead>\n",
       "  <tbody>\n",
       "    <tr>\n",
       "      <th>count</th>\n",
       "      <td>2.906327e+06</td>\n",
       "      <td>2.906327e+06</td>\n",
       "      <td>2.906327e+06</td>\n",
       "      <td>2.906327e+06</td>\n",
       "      <td>2.906327e+06</td>\n",
       "    </tr>\n",
       "    <tr>\n",
       "      <th>mean</th>\n",
       "      <td>8.625216e+01</td>\n",
       "      <td>6.469163e+00</td>\n",
       "      <td>1.571682e+01</td>\n",
       "      <td>2.006624e+03</td>\n",
       "      <td>5.600492e+01</td>\n",
       "    </tr>\n",
       "    <tr>\n",
       "      <th>std</th>\n",
       "      <td>3.795075e+01</td>\n",
       "      <td>3.456489e+00</td>\n",
       "      <td>8.800534e+00</td>\n",
       "      <td>2.338226e+01</td>\n",
       "      <td>3.212359e+01</td>\n",
       "    </tr>\n",
       "    <tr>\n",
       "      <th>min</th>\n",
       "      <td>0.000000e+00</td>\n",
       "      <td>1.000000e+00</td>\n",
       "      <td>0.000000e+00</td>\n",
       "      <td>2.000000e+02</td>\n",
       "      <td>-9.900000e+01</td>\n",
       "    </tr>\n",
       "    <tr>\n",
       "      <th>25%</th>\n",
       "      <td>5.500000e+01</td>\n",
       "      <td>3.000000e+00</td>\n",
       "      <td>8.000000e+00</td>\n",
       "      <td>2.001000e+03</td>\n",
       "      <td>4.580000e+01</td>\n",
       "    </tr>\n",
       "    <tr>\n",
       "      <th>50%</th>\n",
       "      <td>1.140000e+02</td>\n",
       "      <td>6.000000e+00</td>\n",
       "      <td>1.600000e+01</td>\n",
       "      <td>2.007000e+03</td>\n",
       "      <td>6.250000e+01</td>\n",
       "    </tr>\n",
       "    <tr>\n",
       "      <th>75%</th>\n",
       "      <td>1.140000e+02</td>\n",
       "      <td>9.000000e+00</td>\n",
       "      <td>2.300000e+01</td>\n",
       "      <td>2.013000e+03</td>\n",
       "      <td>7.550000e+01</td>\n",
       "    </tr>\n",
       "    <tr>\n",
       "      <th>max</th>\n",
       "      <td>1.240000e+02</td>\n",
       "      <td>1.200000e+01</td>\n",
       "      <td>3.100000e+01</td>\n",
       "      <td>2.020000e+03</td>\n",
       "      <td>1.100000e+02</td>\n",
       "    </tr>\n",
       "  </tbody>\n",
       "</table>\n",
       "</div>"
      ],
      "text/plain": [
       "            Country         Month           Day          Year  AvgTemperature\n",
       "count  2.906327e+06  2.906327e+06  2.906327e+06  2.906327e+06    2.906327e+06\n",
       "mean   8.625216e+01  6.469163e+00  1.571682e+01  2.006624e+03    5.600492e+01\n",
       "std    3.795075e+01  3.456489e+00  8.800534e+00  2.338226e+01    3.212359e+01\n",
       "min    0.000000e+00  1.000000e+00  0.000000e+00  2.000000e+02   -9.900000e+01\n",
       "25%    5.500000e+01  3.000000e+00  8.000000e+00  2.001000e+03    4.580000e+01\n",
       "50%    1.140000e+02  6.000000e+00  1.600000e+01  2.007000e+03    6.250000e+01\n",
       "75%    1.140000e+02  9.000000e+00  2.300000e+01  2.013000e+03    7.550000e+01\n",
       "max    1.240000e+02  1.200000e+01  3.100000e+01  2.020000e+03    1.100000e+02"
      ]
     },
     "execution_count": 7,
     "metadata": {},
     "output_type": "execute_result"
    }
   ],
   "source": [
    "df.describe()"
   ]
  },
  {
   "cell_type": "code",
   "execution_count": 8,
   "id": "b805d52f",
   "metadata": {},
   "outputs": [
    {
     "data": {
      "text/plain": [
       "Country               0\n",
       "Month                 0\n",
       "Day                   0\n",
       "Year                  0\n",
       "AvgTemperature    79672\n",
       "dtype: int64"
      ]
     },
     "execution_count": 8,
     "metadata": {},
     "output_type": "execute_result"
    }
   ],
   "source": [
    "# Treating -99 Temperature Value as NaN for Data Imputation\n",
    "df.loc[df['AvgTemperature'] == -99, 'AvgTemperature'] = np.NAN\n",
    "df.isnull().sum()"
   ]
  },
  {
   "cell_type": "code",
   "execution_count": 9,
   "id": "75304948",
   "metadata": {},
   "outputs": [
    {
     "data": {
      "text/plain": [
       "Country           2906327\n",
       "Month             2906327\n",
       "Day               2906327\n",
       "Year              2906327\n",
       "AvgTemperature    2826655\n",
       "dtype: int64"
      ]
     },
     "execution_count": 9,
     "metadata": {},
     "output_type": "execute_result"
    }
   ],
   "source": [
    "df.notna().sum()"
   ]
  },
  {
   "cell_type": "code",
   "execution_count": 10,
   "id": "3f73792b",
   "metadata": {},
   "outputs": [
    {
     "data": {
      "text/plain": [
       "114    1455337\n",
       "18       74245\n",
       "3        46330\n",
       "20       46329\n",
       "49       37063\n",
       "        ...   \n",
       "43        5065\n",
       "52        4641\n",
       "17        4543\n",
       "37        4378\n",
       "93        3427\n",
       "Name: Country, Length: 125, dtype: int64"
      ]
     },
     "execution_count": 10,
     "metadata": {},
     "output_type": "execute_result"
    }
   ],
   "source": [
    "df['Country'].value_counts()"
   ]
  },
  {
   "cell_type": "code",
   "execution_count": 11,
   "id": "682e2315",
   "metadata": {},
   "outputs": [
    {
     "data": {
      "text/plain": [
       "<AxesSubplot:>"
      ]
     },
     "execution_count": 11,
     "metadata": {},
     "output_type": "execute_result"
    },
    {
     "data": {
      "image/png": "[encoded data removed]",
      "text/plain": [
       "<Figure size 1440x432 with 2 Axes>"
      ]
     },
     "metadata": {
      "needs_background": "light"
     },
     "output_type": "display_data"
    }
   ],
   "source": [
    "mno.matrix(df, figsize = (20, 6))"
   ]
  },
  {
   "cell_type": "markdown",
   "id": "df0b2f16",
   "metadata": {},
   "source": [
    "### Using Regression to impute missing data\n",
    "When we have multiple variables with missing values, we can't just directly use Regression Imputation to impute one of them as the predictors contain missing data themselves. But then, how can we impute one variable without imputing another?\n",
    "\n",
    "We can avoid this Catch-22 situation by initially imputing all the variables with missing values using some trivial methods like Simple Random Imputation (we impute the missing data with random observed values of the variable) which is later followed by Regression Imputation of each of the variables iteratively."
   ]
  },
  {
   "cell_type": "code",
   "execution_count": 12,
   "id": "0fce0644",
   "metadata": {},
   "outputs": [],
   "source": [
    "missing_columns = ['AvgTemperature']"
   ]
  },
  {
   "cell_type": "code",
   "execution_count": 13,
   "id": "044f9466",
   "metadata": {},
   "outputs": [],
   "source": [
    "def random_imputation(df, feature):\n",
    "\n",
    "    number_missing = df[feature].isnull().sum()\n",
    "    observed_values = df.loc[df[feature].notnull(), feature]\n",
    "    df.loc[df[feature].isnull(), feature + '_imp'] = np.random.choice(observed_values, number_missing, replace = True)\n",
    "    \n",
    "    return df"
   ]
  },
  {
   "cell_type": "code",
   "execution_count": 14,
   "id": "270aa45c",
   "metadata": {},
   "outputs": [],
   "source": [
    "for feature in missing_columns:\n",
    "    df[feature + '_imp'] = df[feature]\n",
    "    df = random_imputation(df, feature)"
   ]
  },
  {
   "cell_type": "markdown",
   "id": "663c119a",
   "metadata": {},
   "source": [
    "### Deterministic Regression Imputation\n",
    "In Deterministic Regression Imputation, we replace the missing data with the values predicted in our regression model and repeat this process for each variable."
   ]
  },
  {
   "cell_type": "code",
   "execution_count": 15,
   "id": "dbd2c583",
   "metadata": {},
   "outputs": [],
   "source": [
    "deter_data = pd.DataFrame(columns = [\"Det\" + name for name in missing_columns])\n",
    "\n",
    "for feature in missing_columns:\n",
    "        \n",
    "    deter_data[\"Det\" + feature] = df[feature + \"_imp\"]\n",
    "    parameters = list(set(df.columns) - set(missing_columns) - {feature + '_imp'})\n",
    "    \n",
    "    # Create a Linear Regression model to estimate the missing data\n",
    "    model = linear_model.LinearRegression()\n",
    "    model.fit(X = df[parameters], y = df[feature + '_imp'])\n",
    "    \n",
    "    # Observe that the index of the missing data from the original dataframe is preserved\n",
    "    deter_data.loc[df[feature].isnull(), \"Det\" + feature] = model.predict(df[parameters])[df[feature].isnull()]"
   ]
  },
  {
   "cell_type": "code",
   "execution_count": 16,
   "id": "b222d2a8",
   "metadata": {},
   "outputs": [
    {
     "data": {
      "text/plain": [
       "<AxesSubplot:>"
      ]
     },
     "execution_count": 16,
     "metadata": {},
     "output_type": "execute_result"
    },
    {
     "data": {
      "image/png": "[encoded data removed]",
      "text/plain": [
       "<Figure size 1440x360 with 2 Axes>"
      ]
     },
     "metadata": {
      "needs_background": "light"
     },
     "output_type": "display_data"
    }
   ],
   "source": [
    "mno.matrix(deter_data, figsize = (20, 5))"
   ]
  },
  {
   "cell_type": "markdown",
   "id": "03717e6b",
   "metadata": {},
   "source": [
    "A major disadvantage in this method is that we reduce the inherent variability in the imputed variable. In other words, since we substitute the missing data with regression outputs, the predicted values lie along the regression hyperplane where the variable would have actually contained some noise/bias.\n",
    "\n",
    "We can visualize the above fact in a number of ways. First one is plotting histograms for both the incomplete data and the complete data in which we can observe that the plot of the completed data is taller and narrower when compared to that of the incomplete data. In other words, the complete data has a lesser standard deviation (thus lesser variability) than the incomplete data.\n",
    "\n",
    "Another method would be plotting a boxplot in which we can observe that the IQ Range is pretty compressed for the complete data when compared to that in the incomplete data."
   ]
  },
  {
   "cell_type": "code",
   "execution_count": 17,
   "id": "339bae6f",
   "metadata": {},
   "outputs": [
    {
     "data": {
      "image/png": "[encoded data removed]",
      "text/plain": [
       "<Figure size 576x576 with 4 Axes>"
      ]
     },
     "metadata": {},
     "output_type": "display_data"
    }
   ],
   "source": [
    "sns.set()\n",
    "fig, axes = plt.subplots(nrows = 2, ncols = 2)\n",
    "fig.set_size_inches(8, 8)\n",
    "\n",
    "for index, variable in enumerate([\"AvgTemperature\"]):\n",
    "    sns.distplot(df[variable].dropna(), kde = False, ax = axes[index, 0])\n",
    "    sns.distplot(deter_data[\"Det\" + variable], kde = False, ax = axes[index, 0], color = 'red')\n",
    "    \n",
    "    sns.boxplot(data = pd.concat([df[variable], deter_data[\"Det\" + variable]], axis = 1),\n",
    "                ax = axes[index, 1])\n",
    "    \n",
    "plt.tight_layout()"
   ]
  },
  {
   "cell_type": "code",
   "execution_count": 18,
   "id": "09e4491d",
   "metadata": {},
   "outputs": [
    {
     "data": {
      "text/html": [
       "<div>\n",
       "<style scoped>\n",
       "    .dataframe tbody tr th:only-of-type {\n",
       "        vertical-align: middle;\n",
       "    }\n",
       "\n",
       "    .dataframe tbody tr th {\n",
       "        vertical-align: top;\n",
       "    }\n",
       "\n",
       "    .dataframe thead th {\n",
       "        text-align: right;\n",
       "    }\n",
       "</style>\n",
       "<table border=\"1\" class=\"dataframe\">\n",
       "  <thead>\n",
       "    <tr style=\"text-align: right;\">\n",
       "      <th></th>\n",
       "      <th>count</th>\n",
       "      <th>mean</th>\n",
       "      <th>std</th>\n",
       "      <th>min</th>\n",
       "      <th>25%</th>\n",
       "      <th>50%</th>\n",
       "      <th>75%</th>\n",
       "      <th>max</th>\n",
       "    </tr>\n",
       "  </thead>\n",
       "  <tbody>\n",
       "    <tr>\n",
       "      <th>AvgTemperature</th>\n",
       "      <td>2826655.0</td>\n",
       "      <td>60.373884</td>\n",
       "      <td>19.097440</td>\n",
       "      <td>-50.0</td>\n",
       "      <td>47.4</td>\n",
       "      <td>63.3</td>\n",
       "      <td>75.9</td>\n",
       "      <td>110.0</td>\n",
       "    </tr>\n",
       "    <tr>\n",
       "      <th>DetAvgTemperature</th>\n",
       "      <td>2906327.0</td>\n",
       "      <td>60.416086</td>\n",
       "      <td>18.843649</td>\n",
       "      <td>-50.0</td>\n",
       "      <td>47.9</td>\n",
       "      <td>63.1</td>\n",
       "      <td>75.5</td>\n",
       "      <td>110.0</td>\n",
       "    </tr>\n",
       "  </tbody>\n",
       "</table>\n",
       "</div>"
      ],
      "text/plain": [
       "                       count       mean        std   min   25%   50%   75%  \\\n",
       "AvgTemperature     2826655.0  60.373884  19.097440 -50.0  47.4  63.3  75.9   \n",
       "DetAvgTemperature  2906327.0  60.416086  18.843649 -50.0  47.9  63.1  75.5   \n",
       "\n",
       "                     max  \n",
       "AvgTemperature     110.0  \n",
       "DetAvgTemperature  110.0  "
      ]
     },
     "execution_count": 18,
     "metadata": {},
     "output_type": "execute_result"
    }
   ],
   "source": [
    "pd.concat([df[[\"AvgTemperature\"]], deter_data[[\"DetAvgTemperature\"]]], axis = 1).describe().T"
   ]
  },
  {
   "cell_type": "markdown",
   "id": "0dfa0b44",
   "metadata": {},
   "source": [
    "### Stochastic Regression Imputation\n",
    "To add uncertainty back to the imputed variable values, we can add some normally distributed noise with a mean of zero and the variance equal to the standard error of regression estimates . This method is called as Random Imputation or Stochastic Regression Imputation"
   ]
  },
  {
   "cell_type": "code",
   "execution_count": 19,
   "id": "5dd111b9",
   "metadata": {},
   "outputs": [],
   "source": [
    "random_data = pd.DataFrame(columns = [\"Ran\" + name for name in missing_columns])\n",
    "\n",
    "for feature in missing_columns:\n",
    "        \n",
    "    random_data[\"Ran\" + feature] = df[feature + '_imp']\n",
    "    parameters = list(set(df.columns) - set(missing_columns) - {feature + '_imp'})\n",
    "    \n",
    "    model = linear_model.LinearRegression()\n",
    "    model.fit(X = df[parameters], y = df[feature + '_imp'])\n",
    "    \n",
    "    # Standard Error of the regression estimates is equal to std() of the errors of each estimates\n",
    "    predict = model.predict(df[parameters])\n",
    "    std_error = (predict[df[feature].notnull()] - df.loc[df[feature].notnull(), feature + '_imp']).std()\n",
    "    \n",
    "    # Observe that the index of the missing data from the original dataframe is preserved\n",
    "    random_predict = np.random.normal(size = df[feature].shape[0], \n",
    "                                      loc = predict, \n",
    "                                      scale = std_error)\n",
    "    random_data.loc[(df[feature].isnull()) & (random_predict > 0), \"Ran\" + feature] = random_predict[(df[feature].isnull()) & \n",
    "                                                                            (random_predict > 0)]"
   ]
  },
  {
   "cell_type": "markdown",
   "id": "83f62559",
   "metadata": {},
   "source": [
    "When we introduce this Gaussian noise we may end up imputing some negative values for the missing data due to the spread of the distibution for a particular pair of mean and standard deviation. But, as per our discussion earlier, there might be some variable whose values can never be zero. For example, a negative value for Insulin concentrations would be meaningless.\n",
    "\n",
    "We can avoid this situation by retaining the values introduced by simple random imputation which is discussed above. This apparently reduces the variability that we introduce, but it's something we have to deal with, especially in case of these variables whose values are restricted to ceratin parts of the real number line."
   ]
  },
  {
   "cell_type": "code",
   "execution_count": 20,
   "id": "3672c630",
   "metadata": {},
   "outputs": [
    {
     "data": {
      "image/png": "[encoded data removed]",
      "text/plain": [
       "<Figure size 576x576 with 4 Axes>"
      ]
     },
     "metadata": {},
     "output_type": "display_data"
    }
   ],
   "source": [
    "sns.set()\n",
    "fig, axes = plt.subplots(nrows = 2, ncols = 2)\n",
    "fig.set_size_inches(8, 8)\n",
    "\n",
    "for index, variable in enumerate([\"AvgTemperature\"]):\n",
    "    sns.distplot(df[variable].dropna(), kde = False, ax = axes[index, 0])\n",
    "    sns.distplot(random_data[\"Ran\" + variable], kde = False, ax = axes[index, 0], color = 'red')\n",
    "    axes[index, 0].set(xlabel = variable + \" / \" + variable + '_imp')\n",
    "    \n",
    "    sns.boxplot(data = pd.concat([df[variable], random_data[\"Ran\" + variable]], axis = 1),\n",
    "                ax = axes[index, 1])\n",
    "    \n",
    "    plt.tight_layout()"
   ]
  },
  {
   "cell_type": "markdown",
   "id": "ec9d8b18",
   "metadata": {},
   "source": [
    "We can observe from the plots above that we have introduced some degree of variability into the variables and retained the native distribution as well."
   ]
  },
  {
   "cell_type": "code",
   "execution_count": 21,
   "id": "a9dbbc92",
   "metadata": {},
   "outputs": [
    {
     "data": {
      "text/html": [
       "<div>\n",
       "<style scoped>\n",
       "    .dataframe tbody tr th:only-of-type {\n",
       "        vertical-align: middle;\n",
       "    }\n",
       "\n",
       "    .dataframe tbody tr th {\n",
       "        vertical-align: top;\n",
       "    }\n",
       "\n",
       "    .dataframe thead th {\n",
       "        text-align: right;\n",
       "    }\n",
       "</style>\n",
       "<table border=\"1\" class=\"dataframe\">\n",
       "  <thead>\n",
       "    <tr style=\"text-align: right;\">\n",
       "      <th></th>\n",
       "      <th>count</th>\n",
       "      <th>mean</th>\n",
       "      <th>std</th>\n",
       "      <th>min</th>\n",
       "      <th>25%</th>\n",
       "      <th>50%</th>\n",
       "      <th>75%</th>\n",
       "      <th>max</th>\n",
       "    </tr>\n",
       "  </thead>\n",
       "  <tbody>\n",
       "    <tr>\n",
       "      <th>AvgTemperature</th>\n",
       "      <td>2826655.0</td>\n",
       "      <td>60.373884</td>\n",
       "      <td>19.097440</td>\n",
       "      <td>-50.0</td>\n",
       "      <td>47.4</td>\n",
       "      <td>63.3</td>\n",
       "      <td>75.9</td>\n",
       "      <td>110.000000</td>\n",
       "    </tr>\n",
       "    <tr>\n",
       "      <th>RanAvgTemperature</th>\n",
       "      <td>2906327.0</td>\n",
       "      <td>60.419461</td>\n",
       "      <td>19.095217</td>\n",
       "      <td>-50.0</td>\n",
       "      <td>47.4</td>\n",
       "      <td>63.2</td>\n",
       "      <td>75.9</td>\n",
       "      <td>146.684685</td>\n",
       "    </tr>\n",
       "  </tbody>\n",
       "</table>\n",
       "</div>"
      ],
      "text/plain": [
       "                       count       mean        std   min   25%   50%   75%  \\\n",
       "AvgTemperature     2826655.0  60.373884  19.097440 -50.0  47.4  63.3  75.9   \n",
       "RanAvgTemperature  2906327.0  60.419461  19.095217 -50.0  47.4  63.2  75.9   \n",
       "\n",
       "                          max  \n",
       "AvgTemperature     110.000000  \n",
       "RanAvgTemperature  146.684685  "
      ]
     },
     "execution_count": 21,
     "metadata": {},
     "output_type": "execute_result"
    }
   ],
   "source": [
    "pd.concat([df[[\"AvgTemperature\"]], random_data[[\"RanAvgTemperature\"]]], axis = 1).describe().T"
   ]
  },
  {
   "cell_type": "markdown",
   "id": "c90ed9b6",
   "metadata": {},
   "source": [
    "An issue of concern about is that, Regression Imputation might not serve as the best method when a variable is missing majority of it's data, as in case of insulin. In these cases we have to use more powerful approaches as Maximum Likelihood Imputation and Multple Imputaton"
   ]
  },
  {
   "cell_type": "markdown",
   "id": "030772cc",
   "metadata": {},
   "source": [
    "Regression Imputation assumes that the data is Missing At Random.\n",
    "\n",
    "For a better Regression model, we might have to follow different Data Transformation methods depending on our data.\n",
    "\n",
    "Do observe that we have included Outcome as one of our predictors eventhough it is caused by the other variables under scrutiny.\n",
    "\n",
    "This notebook does not describe the best method for many cases, rather it justs the demonstrates Regression Imputation as one of the methods."
   ]
  }
 ],
 "metadata": {
  "kernelspec": {
   "display_name": "Python 3",
   "language": "python",
   "name": "python3"
  },
  "language_info": {
   "codemirror_mode": {
    "name": "ipython",
    "version": 3
   },
   "file_extension": ".py",
   "mimetype": "text/x-python",
   "name": "python",
   "nbconvert_exporter": "python",
   "pygments_lexer": "ipython3",
   "version": "3.8.0"
  }
 },
 "nbformat": 4,
 "nbformat_minor": 5
}
