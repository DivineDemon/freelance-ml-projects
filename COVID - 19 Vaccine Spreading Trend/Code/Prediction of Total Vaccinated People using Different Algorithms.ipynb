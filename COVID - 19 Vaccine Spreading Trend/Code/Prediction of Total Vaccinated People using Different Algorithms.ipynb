{
 "cells": [
  {
   "cell_type": "code",
   "execution_count": 1,
   "id": "1b0164ed",
   "metadata": {},
   "outputs": [],
   "source": [
    "import numpy as np, pandas as pd\n",
    "from IPython.display import Image\n",
    "import matplotlib.pyplot as plt, seaborn as sns\n",
    "import scipy\n",
    "import warnings\n",
    "import plotly.express as px\n",
    "from itertools import product\n",
    "import statsmodels.api as sm\n",
    "import datetime\n",
    "from tqdm import tqdm\n",
    "from sklearn.linear_model import LinearRegression, BayesianRidge\n",
    "from sklearn.model_selection import train_test_split\n",
    "from sklearn.metrics import mean_squared_error, r2_score\n",
    "warnings.filterwarnings('ignore')"
   ]
  },
  {
   "cell_type": "code",
   "execution_count": 2,
   "id": "007a2776",
   "metadata": {},
   "outputs": [
    {
     "data": {
      "text/html": [
       "<div>\n",
       "<style scoped>\n",
       "    .dataframe tbody tr th:only-of-type {\n",
       "        vertical-align: middle;\n",
       "    }\n",
       "\n",
       "    .dataframe tbody tr th {\n",
       "        vertical-align: top;\n",
       "    }\n",
       "\n",
       "    .dataframe thead th {\n",
       "        text-align: right;\n",
       "    }\n",
       "</style>\n",
       "<table border=\"1\" class=\"dataframe\">\n",
       "  <thead>\n",
       "    <tr style=\"text-align: right;\">\n",
       "      <th></th>\n",
       "      <th>country</th>\n",
       "      <th>iso_code</th>\n",
       "      <th>date</th>\n",
       "      <th>total_vaccinations</th>\n",
       "      <th>people_vaccinated</th>\n",
       "      <th>people_fully_vaccinated</th>\n",
       "      <th>daily_vaccinations_raw</th>\n",
       "      <th>daily_vaccinations</th>\n",
       "      <th>total_vaccinations_per_hundred</th>\n",
       "      <th>people_vaccinated_per_hundred</th>\n",
       "      <th>people_fully_vaccinated_per_hundred</th>\n",
       "      <th>daily_vaccinations_per_million</th>\n",
       "      <th>vaccines</th>\n",
       "      <th>source_name</th>\n",
       "      <th>source_website</th>\n",
       "    </tr>\n",
       "  </thead>\n",
       "  <tbody>\n",
       "    <tr>\n",
       "      <th>0</th>\n",
       "      <td>Afghanistan</td>\n",
       "      <td>AFG</td>\n",
       "      <td>2021-02-22</td>\n",
       "      <td>0.0</td>\n",
       "      <td>0.0</td>\n",
       "      <td>NaN</td>\n",
       "      <td>NaN</td>\n",
       "      <td>NaN</td>\n",
       "      <td>0.00</td>\n",
       "      <td>0.00</td>\n",
       "      <td>NaN</td>\n",
       "      <td>NaN</td>\n",
       "      <td>Oxford/AstraZeneca</td>\n",
       "      <td>Government of Afghanistan</td>\n",
       "      <td>https://reliefweb.int/report/afghanistan/afgha...</td>\n",
       "    </tr>\n",
       "    <tr>\n",
       "      <th>6</th>\n",
       "      <td>Afghanistan</td>\n",
       "      <td>AFG</td>\n",
       "      <td>2021-02-28</td>\n",
       "      <td>8200.0</td>\n",
       "      <td>8200.0</td>\n",
       "      <td>NaN</td>\n",
       "      <td>NaN</td>\n",
       "      <td>1367.0</td>\n",
       "      <td>0.02</td>\n",
       "      <td>0.02</td>\n",
       "      <td>NaN</td>\n",
       "      <td>35.0</td>\n",
       "      <td>Oxford/AstraZeneca</td>\n",
       "      <td>Government of Afghanistan</td>\n",
       "      <td>https://reliefweb.int/report/afghanistan/afgha...</td>\n",
       "    </tr>\n",
       "    <tr>\n",
       "      <th>22</th>\n",
       "      <td>Afghanistan</td>\n",
       "      <td>AFG</td>\n",
       "      <td>2021-03-16</td>\n",
       "      <td>54000.0</td>\n",
       "      <td>54000.0</td>\n",
       "      <td>NaN</td>\n",
       "      <td>NaN</td>\n",
       "      <td>2862.0</td>\n",
       "      <td>0.14</td>\n",
       "      <td>0.14</td>\n",
       "      <td>NaN</td>\n",
       "      <td>74.0</td>\n",
       "      <td>Oxford/AstraZeneca</td>\n",
       "      <td>Government of Afghanistan</td>\n",
       "      <td>https://reliefweb.int/report/afghanistan/afgha...</td>\n",
       "    </tr>\n",
       "    <tr>\n",
       "      <th>44</th>\n",
       "      <td>Afghanistan</td>\n",
       "      <td>AFG</td>\n",
       "      <td>2021-04-07</td>\n",
       "      <td>120000.0</td>\n",
       "      <td>120000.0</td>\n",
       "      <td>NaN</td>\n",
       "      <td>NaN</td>\n",
       "      <td>3000.0</td>\n",
       "      <td>0.31</td>\n",
       "      <td>0.31</td>\n",
       "      <td>NaN</td>\n",
       "      <td>77.0</td>\n",
       "      <td>Oxford/AstraZeneca</td>\n",
       "      <td>Government of Afghanistan</td>\n",
       "      <td>https://reliefweb.int/report/afghanistan/afgha...</td>\n",
       "    </tr>\n",
       "    <tr>\n",
       "      <th>59</th>\n",
       "      <td>Afghanistan</td>\n",
       "      <td>AFG</td>\n",
       "      <td>2021-04-22</td>\n",
       "      <td>240000.0</td>\n",
       "      <td>240000.0</td>\n",
       "      <td>NaN</td>\n",
       "      <td>NaN</td>\n",
       "      <td>8000.0</td>\n",
       "      <td>0.62</td>\n",
       "      <td>0.62</td>\n",
       "      <td>NaN</td>\n",
       "      <td>206.0</td>\n",
       "      <td>Oxford/AstraZeneca</td>\n",
       "      <td>Government of Afghanistan</td>\n",
       "      <td>https://reliefweb.int/report/afghanistan/afgha...</td>\n",
       "    </tr>\n",
       "  </tbody>\n",
       "</table>\n",
       "</div>"
      ],
      "text/plain": [
       "        country iso_code        date  total_vaccinations  people_vaccinated  \\\n",
       "0   Afghanistan      AFG  2021-02-22                 0.0                0.0   \n",
       "6   Afghanistan      AFG  2021-02-28              8200.0             8200.0   \n",
       "22  Afghanistan      AFG  2021-03-16             54000.0            54000.0   \n",
       "44  Afghanistan      AFG  2021-04-07            120000.0           120000.0   \n",
       "59  Afghanistan      AFG  2021-04-22            240000.0           240000.0   \n",
       "\n",
       "    people_fully_vaccinated  daily_vaccinations_raw  daily_vaccinations  \\\n",
       "0                       NaN                     NaN                 NaN   \n",
       "6                       NaN                     NaN              1367.0   \n",
       "22                      NaN                     NaN              2862.0   \n",
       "44                      NaN                     NaN              3000.0   \n",
       "59                      NaN                     NaN              8000.0   \n",
       "\n",
       "    total_vaccinations_per_hundred  people_vaccinated_per_hundred  \\\n",
       "0                             0.00                           0.00   \n",
       "6                             0.02                           0.02   \n",
       "22                            0.14                           0.14   \n",
       "44                            0.31                           0.31   \n",
       "59                            0.62                           0.62   \n",
       "\n",
       "    people_fully_vaccinated_per_hundred  daily_vaccinations_per_million  \\\n",
       "0                                   NaN                             NaN   \n",
       "6                                   NaN                            35.0   \n",
       "22                                  NaN                            74.0   \n",
       "44                                  NaN                            77.0   \n",
       "59                                  NaN                           206.0   \n",
       "\n",
       "              vaccines                source_name  \\\n",
       "0   Oxford/AstraZeneca  Government of Afghanistan   \n",
       "6   Oxford/AstraZeneca  Government of Afghanistan   \n",
       "22  Oxford/AstraZeneca  Government of Afghanistan   \n",
       "44  Oxford/AstraZeneca  Government of Afghanistan   \n",
       "59  Oxford/AstraZeneca  Government of Afghanistan   \n",
       "\n",
       "                                       source_website  \n",
       "0   https://reliefweb.int/report/afghanistan/afgha...  \n",
       "6   https://reliefweb.int/report/afghanistan/afgha...  \n",
       "22  https://reliefweb.int/report/afghanistan/afgha...  \n",
       "44  https://reliefweb.int/report/afghanistan/afgha...  \n",
       "59  https://reliefweb.int/report/afghanistan/afgha...  "
      ]
     },
     "execution_count": 2,
     "metadata": {},
     "output_type": "execute_result"
    }
   ],
   "source": [
    "data = pd.read_csv('country_vaccinations.csv')\n",
    "data = data.drop(data[data.total_vaccinations.isna()].index)\n",
    "data.head(5)"
   ]
  },
  {
   "cell_type": "code",
   "execution_count": 3,
   "id": "305200e4",
   "metadata": {},
   "outputs": [
    {
     "name": "stdout",
     "output_type": "stream",
     "text": [
      "datetime64[ns] float64\n"
     ]
    }
   ],
   "source": [
    "data.date = pd.to_datetime(data.date)\n",
    "print(data.date.dtypes, data.total_vaccinations.dtypes)"
   ]
  },
  {
   "cell_type": "code",
   "execution_count": 4,
   "id": "07be30cf",
   "metadata": {},
   "outputs": [],
   "source": [
    "data['day'] = list(map(lambda v : v.day, data['date']))"
   ]
  },
  {
   "cell_type": "code",
   "execution_count": 5,
   "id": "b63933b5",
   "metadata": {},
   "outputs": [],
   "source": [
    "data['date'] = data['date'].map(datetime.datetime.toordinal)"
   ]
  },
  {
   "cell_type": "code",
   "execution_count": 6,
   "id": "2a8e37e7",
   "metadata": {},
   "outputs": [
    {
     "name": "stdout",
     "output_type": "stream",
     "text": [
      "int64\n"
     ]
    }
   ],
   "source": [
    "print(data.date.dtypes)"
   ]
  },
  {
   "cell_type": "code",
   "execution_count": 7,
   "id": "b07d5ffc",
   "metadata": {},
   "outputs": [
    {
     "data": {
      "text/html": [
       "<div>\n",
       "<style scoped>\n",
       "    .dataframe tbody tr th:only-of-type {\n",
       "        vertical-align: middle;\n",
       "    }\n",
       "\n",
       "    .dataframe tbody tr th {\n",
       "        vertical-align: top;\n",
       "    }\n",
       "\n",
       "    .dataframe thead th {\n",
       "        text-align: right;\n",
       "    }\n",
       "</style>\n",
       "<table border=\"1\" class=\"dataframe\">\n",
       "  <thead>\n",
       "    <tr style=\"text-align: right;\">\n",
       "      <th></th>\n",
       "      <th>country</th>\n",
       "      <th>iso_code</th>\n",
       "      <th>date</th>\n",
       "      <th>total_vaccinations</th>\n",
       "      <th>people_vaccinated</th>\n",
       "      <th>people_fully_vaccinated</th>\n",
       "      <th>daily_vaccinations_raw</th>\n",
       "      <th>daily_vaccinations</th>\n",
       "      <th>total_vaccinations_per_hundred</th>\n",
       "      <th>people_vaccinated_per_hundred</th>\n",
       "      <th>people_fully_vaccinated_per_hundred</th>\n",
       "      <th>daily_vaccinations_per_million</th>\n",
       "      <th>vaccines</th>\n",
       "      <th>source_name</th>\n",
       "      <th>source_website</th>\n",
       "      <th>day</th>\n",
       "    </tr>\n",
       "  </thead>\n",
       "  <tbody>\n",
       "    <tr>\n",
       "      <th>0</th>\n",
       "      <td>Afghanistan</td>\n",
       "      <td>AFG</td>\n",
       "      <td>737843</td>\n",
       "      <td>0.0</td>\n",
       "      <td>0.0</td>\n",
       "      <td>NaN</td>\n",
       "      <td>NaN</td>\n",
       "      <td>NaN</td>\n",
       "      <td>0.00</td>\n",
       "      <td>0.00</td>\n",
       "      <td>NaN</td>\n",
       "      <td>NaN</td>\n",
       "      <td>Oxford/AstraZeneca</td>\n",
       "      <td>Government of Afghanistan</td>\n",
       "      <td>https://reliefweb.int/report/afghanistan/afgha...</td>\n",
       "      <td>22</td>\n",
       "    </tr>\n",
       "    <tr>\n",
       "      <th>6</th>\n",
       "      <td>Afghanistan</td>\n",
       "      <td>AFG</td>\n",
       "      <td>737849</td>\n",
       "      <td>8200.0</td>\n",
       "      <td>8200.0</td>\n",
       "      <td>NaN</td>\n",
       "      <td>NaN</td>\n",
       "      <td>1367.0</td>\n",
       "      <td>0.02</td>\n",
       "      <td>0.02</td>\n",
       "      <td>NaN</td>\n",
       "      <td>35.0</td>\n",
       "      <td>Oxford/AstraZeneca</td>\n",
       "      <td>Government of Afghanistan</td>\n",
       "      <td>https://reliefweb.int/report/afghanistan/afgha...</td>\n",
       "      <td>28</td>\n",
       "    </tr>\n",
       "    <tr>\n",
       "      <th>22</th>\n",
       "      <td>Afghanistan</td>\n",
       "      <td>AFG</td>\n",
       "      <td>737865</td>\n",
       "      <td>54000.0</td>\n",
       "      <td>54000.0</td>\n",
       "      <td>NaN</td>\n",
       "      <td>NaN</td>\n",
       "      <td>2862.0</td>\n",
       "      <td>0.14</td>\n",
       "      <td>0.14</td>\n",
       "      <td>NaN</td>\n",
       "      <td>74.0</td>\n",
       "      <td>Oxford/AstraZeneca</td>\n",
       "      <td>Government of Afghanistan</td>\n",
       "      <td>https://reliefweb.int/report/afghanistan/afgha...</td>\n",
       "      <td>16</td>\n",
       "    </tr>\n",
       "    <tr>\n",
       "      <th>44</th>\n",
       "      <td>Afghanistan</td>\n",
       "      <td>AFG</td>\n",
       "      <td>737887</td>\n",
       "      <td>120000.0</td>\n",
       "      <td>120000.0</td>\n",
       "      <td>NaN</td>\n",
       "      <td>NaN</td>\n",
       "      <td>3000.0</td>\n",
       "      <td>0.31</td>\n",
       "      <td>0.31</td>\n",
       "      <td>NaN</td>\n",
       "      <td>77.0</td>\n",
       "      <td>Oxford/AstraZeneca</td>\n",
       "      <td>Government of Afghanistan</td>\n",
       "      <td>https://reliefweb.int/report/afghanistan/afgha...</td>\n",
       "      <td>7</td>\n",
       "    </tr>\n",
       "    <tr>\n",
       "      <th>59</th>\n",
       "      <td>Afghanistan</td>\n",
       "      <td>AFG</td>\n",
       "      <td>737902</td>\n",
       "      <td>240000.0</td>\n",
       "      <td>240000.0</td>\n",
       "      <td>NaN</td>\n",
       "      <td>NaN</td>\n",
       "      <td>8000.0</td>\n",
       "      <td>0.62</td>\n",
       "      <td>0.62</td>\n",
       "      <td>NaN</td>\n",
       "      <td>206.0</td>\n",
       "      <td>Oxford/AstraZeneca</td>\n",
       "      <td>Government of Afghanistan</td>\n",
       "      <td>https://reliefweb.int/report/afghanistan/afgha...</td>\n",
       "      <td>22</td>\n",
       "    </tr>\n",
       "  </tbody>\n",
       "</table>\n",
       "</div>"
      ],
      "text/plain": [
       "        country iso_code    date  total_vaccinations  people_vaccinated  \\\n",
       "0   Afghanistan      AFG  737843                 0.0                0.0   \n",
       "6   Afghanistan      AFG  737849              8200.0             8200.0   \n",
       "22  Afghanistan      AFG  737865             54000.0            54000.0   \n",
       "44  Afghanistan      AFG  737887            120000.0           120000.0   \n",
       "59  Afghanistan      AFG  737902            240000.0           240000.0   \n",
       "\n",
       "    people_fully_vaccinated  daily_vaccinations_raw  daily_vaccinations  \\\n",
       "0                       NaN                     NaN                 NaN   \n",
       "6                       NaN                     NaN              1367.0   \n",
       "22                      NaN                     NaN              2862.0   \n",
       "44                      NaN                     NaN              3000.0   \n",
       "59                      NaN                     NaN              8000.0   \n",
       "\n",
       "    total_vaccinations_per_hundred  people_vaccinated_per_hundred  \\\n",
       "0                             0.00                           0.00   \n",
       "6                             0.02                           0.02   \n",
       "22                            0.14                           0.14   \n",
       "44                            0.31                           0.31   \n",
       "59                            0.62                           0.62   \n",
       "\n",
       "    people_fully_vaccinated_per_hundred  daily_vaccinations_per_million  \\\n",
       "0                                   NaN                             NaN   \n",
       "6                                   NaN                            35.0   \n",
       "22                                  NaN                            74.0   \n",
       "44                                  NaN                            77.0   \n",
       "59                                  NaN                           206.0   \n",
       "\n",
       "              vaccines                source_name  \\\n",
       "0   Oxford/AstraZeneca  Government of Afghanistan   \n",
       "6   Oxford/AstraZeneca  Government of Afghanistan   \n",
       "22  Oxford/AstraZeneca  Government of Afghanistan   \n",
       "44  Oxford/AstraZeneca  Government of Afghanistan   \n",
       "59  Oxford/AstraZeneca  Government of Afghanistan   \n",
       "\n",
       "                                       source_website  day  \n",
       "0   https://reliefweb.int/report/afghanistan/afgha...   22  \n",
       "6   https://reliefweb.int/report/afghanistan/afgha...   28  \n",
       "22  https://reliefweb.int/report/afghanistan/afgha...   16  \n",
       "44  https://reliefweb.int/report/afghanistan/afgha...    7  \n",
       "59  https://reliefweb.int/report/afghanistan/afgha...   22  "
      ]
     },
     "execution_count": 7,
     "metadata": {},
     "output_type": "execute_result"
    }
   ],
   "source": [
    "# the first two lines of the code can be used to zoom in and out of the data by cutting out data on the x and y-axis\n",
    "\n",
    "data = data.loc[data['total_vaccinations'] < 10000000]\n",
    "# data = data.loc[data['date'] < 737860]\n",
    "X = data['date']\n",
    "y = data['total_vaccinations']\n",
    "data.head(5)"
   ]
  },
  {
   "cell_type": "code",
   "execution_count": 8,
   "id": "bc25748e",
   "metadata": {},
   "outputs": [
    {
     "data": {
      "text/plain": [
       "Text(0, 0.5, 'Total Vaccinations')"
      ]
     },
     "execution_count": 8,
     "metadata": {},
     "output_type": "execute_result"
    },
    {
     "data": {
      "image/png": "[encoded data removed]",
      "text/plain": [
       "<Figure size 432x288 with 1 Axes>"
      ]
     },
     "metadata": {
      "needs_background": "light"
     },
     "output_type": "display_data"
    }
   ],
   "source": [
    "plt.scatter(X, y, color='black')\n",
    "plt.xlabel('Date', fontsize=18)\n",
    "plt.ylabel('Total Vaccinations', fontsize=16)"
   ]
  },
  {
   "cell_type": "code",
   "execution_count": 9,
   "id": "b548637e",
   "metadata": {},
   "outputs": [
    {
     "data": {
      "text/plain": [
       "count    7.982000e+03\n",
       "mean     1.140288e+06\n",
       "std      1.957419e+06\n",
       "min      0.000000e+00\n",
       "25%      4.881975e+04\n",
       "50%      3.036210e+05\n",
       "75%      1.209351e+06\n",
       "max      9.985806e+06\n",
       "Name: total_vaccinations, dtype: float64"
      ]
     },
     "execution_count": 9,
     "metadata": {},
     "output_type": "execute_result"
    }
   ],
   "source": [
    "y.describe()"
   ]
  },
  {
   "cell_type": "code",
   "execution_count": 10,
   "id": "5b2aa0e7",
   "metadata": {},
   "outputs": [],
   "source": [
    "# It can be seen that the dataset itself is sparse but seems dense since the scale of the data is large. As we zoom in,\n",
    "# the data gets more sparse and it becomes harder to remove the outliers. The sparsity is clear when the data is viewed\n",
    "# statistically. The output of line [9] shows that there is a huge difference between the min value and the 25% mark\n",
    "# also there is a huge difference between the 25%, 50% and 75% marks also. This much difference between each statistical\n",
    "# stage shows a high level of sparsity. With this level of sparsity, it is not possible to map algorithms like linear\n",
    "# regression and bayesian ridge regression that work using linear equations."
   ]
  },
  {
   "cell_type": "code",
   "execution_count": 11,
   "id": "ac3271a5",
   "metadata": {},
   "outputs": [],
   "source": [
    "X_train, X_test, y_train, y_test = train_test_split(X, y, test_size=0.3, random_state=42)"
   ]
  },
  {
   "cell_type": "code",
   "execution_count": 12,
   "id": "6899a8a7",
   "metadata": {},
   "outputs": [],
   "source": [
    "lr = LinearRegression()\n",
    "br = BayesianRidge()"
   ]
  },
  {
   "cell_type": "code",
   "execution_count": 13,
   "id": "28cab78c",
   "metadata": {},
   "outputs": [
    {
     "data": {
      "text/plain": [
       "BayesianRidge()"
      ]
     },
     "execution_count": 13,
     "metadata": {},
     "output_type": "execute_result"
    }
   ],
   "source": [
    "lr.fit(X_train.values.reshape(-1, 1), y_train)\n",
    "br.fit(X_train.values.reshape(-1, 1), y_train)"
   ]
  },
  {
   "cell_type": "code",
   "execution_count": 14,
   "id": "fdbc2b52",
   "metadata": {},
   "outputs": [],
   "source": [
    "lr_pred = lr.predict(X_test.values.reshape(-1, 1))\n",
    "br_pred = br.predict(X_test.values.reshape(-1, 1))"
   ]
  },
  {
   "cell_type": "markdown",
   "id": "81acddb2",
   "metadata": {},
   "source": [
    "# Linear Regression Results"
   ]
  },
  {
   "cell_type": "code",
   "execution_count": 15,
   "id": "0982bffd",
   "metadata": {},
   "outputs": [
    {
     "name": "stdout",
     "output_type": "stream",
     "text": [
      "Mean squared error: 3867672478744.38\n",
      "Coefficient of determination: 0.03\n"
     ]
    }
   ],
   "source": [
    "print('Mean squared error: %.2f'\n",
    "      % mean_squared_error(y_test, lr_pred))\n",
    "# The coefficient of determination: 1 is perfect prediction\n",
    "print('Coefficient of determination: %.2f'\n",
    "      % r2_score(y_test, lr_pred))"
   ]
  },
  {
   "cell_type": "code",
   "execution_count": 16,
   "id": "a42ef907",
   "metadata": {},
   "outputs": [
    {
     "data": {
      "image/png": "[encoded data removed]",
      "text/plain": [
       "<Figure size 432x288 with 1 Axes>"
      ]
     },
     "metadata": {},
     "output_type": "display_data"
    }
   ],
   "source": [
    "plt.scatter(X_test, y_test,  color='black')\n",
    "plt.plot(X_test, lr_pred, color='blue', linewidth=3)\n",
    "plt.xlabel('Date', fontsize=18)\n",
    "plt.ylabel('Total Vaccinations', fontsize=16)\n",
    "\n",
    "plt.xticks(())\n",
    "plt.yticks(())\n",
    "\n",
    "plt.show()"
   ]
  },
  {
   "cell_type": "markdown",
   "id": "ead0788e",
   "metadata": {},
   "source": [
    "# Bayesian Ridge Regression Results"
   ]
  },
  {
   "cell_type": "code",
   "execution_count": 17,
   "id": "f059a31f",
   "metadata": {},
   "outputs": [
    {
     "name": "stdout",
     "output_type": "stream",
     "text": [
      "Mean squared error: 3868128309783.46\n",
      "Coefficient of determination: 0.03\n"
     ]
    }
   ],
   "source": [
    "print('Mean squared error: %.2f'\n",
    "      % mean_squared_error(y_test, br_pred))\n",
    "# The coefficient of determination: 1 is perfect prediction\n",
    "print('Coefficient of determination: %.2f'\n",
    "      % r2_score(y_test, br_pred))"
   ]
  },
  {
   "cell_type": "code",
   "execution_count": 18,
   "id": "8cf13972",
   "metadata": {},
   "outputs": [
    {
     "data": {
      "image/png": "[encoded data removed]",
      "text/plain": [
       "<Figure size 432x288 with 1 Axes>"
      ]
     },
     "metadata": {},
     "output_type": "display_data"
    }
   ],
   "source": [
    "plt.scatter(X_test, y_test,  color='black')\n",
    "plt.plot(X_test, br_pred, color='blue', linewidth=3)\n",
    "plt.xlabel('Date', fontsize=18)\n",
    "plt.ylabel('Total Vaccinations', fontsize=16)\n",
    "\n",
    "plt.xticks(())\n",
    "plt.yticks(())\n",
    "\n",
    "plt.show()"
   ]
  }
 ],
 "metadata": {
  "kernelspec": {
   "display_name": "Python 3",
   "language": "python",
   "name": "python3"
  },
  "language_info": {
   "codemirror_mode": {
    "name": "ipython",
    "version": 3
   },
   "file_extension": ".py",
   "mimetype": "text/x-python",
   "name": "python",
   "nbconvert_exporter": "python",
   "pygments_lexer": "ipython3",
   "version": "3.8.0"
  }
 },
 "nbformat": 4,
 "nbformat_minor": 5
}
