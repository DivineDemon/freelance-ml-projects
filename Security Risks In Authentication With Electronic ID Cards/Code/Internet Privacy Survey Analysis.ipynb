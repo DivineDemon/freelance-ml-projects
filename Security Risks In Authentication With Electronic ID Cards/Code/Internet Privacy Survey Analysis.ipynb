{
 "cells": [
  {
   "cell_type": "code",
   "execution_count": 1,
   "id": "1e33910c",
   "metadata": {},
   "outputs": [
    {
     "name": "stdout",
     "output_type": "stream",
     "text": [
      "./AnonymityPoll.csv\n",
      "./Internet Privacy Survey Analysis.ipynb\n",
      "./.ipynb_checkpoints\\Internet Privacy Survey Analysis-checkpoint.ipynb\n"
     ]
    }
   ],
   "source": [
    "import numpy as np\n",
    "import pandas as pd\n",
    "import seaborn as sns\n",
    "import matplotlib.pyplot as plt\n",
    "import os\n",
    "\n",
    "for dirname, _, filenames in os.walk('./'):\n",
    "    for filename in filenames:\n",
    "        print(os.path.join(dirname, filename))"
   ]
  },
  {
   "cell_type": "code",
   "execution_count": 2,
   "id": "e8921336",
   "metadata": {},
   "outputs": [],
   "source": [
    "data = pd.read_csv('AnonymityPoll.csv')"
   ]
  },
  {
   "cell_type": "code",
   "execution_count": 3,
   "id": "f6cb125c",
   "metadata": {},
   "outputs": [
    {
     "data": {
      "text/html": [
       "<div>\n",
       "<style scoped>\n",
       "    .dataframe tbody tr th:only-of-type {\n",
       "        vertical-align: middle;\n",
       "    }\n",
       "\n",
       "    .dataframe tbody tr th {\n",
       "        vertical-align: top;\n",
       "    }\n",
       "\n",
       "    .dataframe thead th {\n",
       "        text-align: right;\n",
       "    }\n",
       "</style>\n",
       "<table border=\"1\" class=\"dataframe\">\n",
       "  <thead>\n",
       "    <tr style=\"text-align: right;\">\n",
       "      <th></th>\n",
       "      <th>Internet.Use</th>\n",
       "      <th>Smartphone</th>\n",
       "      <th>Sex</th>\n",
       "      <th>Age</th>\n",
       "      <th>State</th>\n",
       "      <th>Region</th>\n",
       "      <th>Conservativeness</th>\n",
       "      <th>Info.On.Internet</th>\n",
       "      <th>Worry.About.Info</th>\n",
       "      <th>Privacy.Importance</th>\n",
       "      <th>Anonymity.Possible</th>\n",
       "      <th>Tried.Masking.Identity</th>\n",
       "      <th>Privacy.Laws.Effective</th>\n",
       "    </tr>\n",
       "  </thead>\n",
       "  <tbody>\n",
       "    <tr>\n",
       "      <th>0</th>\n",
       "      <td>1.0</td>\n",
       "      <td>0.0</td>\n",
       "      <td>Male</td>\n",
       "      <td>62.0</td>\n",
       "      <td>Massachusetts</td>\n",
       "      <td>Northeast</td>\n",
       "      <td>4.0</td>\n",
       "      <td>0.0</td>\n",
       "      <td>1.0</td>\n",
       "      <td>100.000000</td>\n",
       "      <td>0.0</td>\n",
       "      <td>0.0</td>\n",
       "      <td>0.0</td>\n",
       "    </tr>\n",
       "    <tr>\n",
       "      <th>1</th>\n",
       "      <td>1.0</td>\n",
       "      <td>0.0</td>\n",
       "      <td>Male</td>\n",
       "      <td>45.0</td>\n",
       "      <td>South Carolina</td>\n",
       "      <td>South</td>\n",
       "      <td>1.0</td>\n",
       "      <td>1.0</td>\n",
       "      <td>0.0</td>\n",
       "      <td>0.000000</td>\n",
       "      <td>1.0</td>\n",
       "      <td>0.0</td>\n",
       "      <td>1.0</td>\n",
       "    </tr>\n",
       "    <tr>\n",
       "      <th>2</th>\n",
       "      <td>0.0</td>\n",
       "      <td>1.0</td>\n",
       "      <td>Female</td>\n",
       "      <td>70.0</td>\n",
       "      <td>New Jersey</td>\n",
       "      <td>Northeast</td>\n",
       "      <td>4.0</td>\n",
       "      <td>0.0</td>\n",
       "      <td>0.0</td>\n",
       "      <td>NaN</td>\n",
       "      <td>0.0</td>\n",
       "      <td>0.0</td>\n",
       "      <td>NaN</td>\n",
       "    </tr>\n",
       "    <tr>\n",
       "      <th>3</th>\n",
       "      <td>1.0</td>\n",
       "      <td>0.0</td>\n",
       "      <td>Male</td>\n",
       "      <td>70.0</td>\n",
       "      <td>Georgia</td>\n",
       "      <td>South</td>\n",
       "      <td>4.0</td>\n",
       "      <td>3.0</td>\n",
       "      <td>1.0</td>\n",
       "      <td>88.888889</td>\n",
       "      <td>1.0</td>\n",
       "      <td>0.0</td>\n",
       "      <td>0.0</td>\n",
       "    </tr>\n",
       "    <tr>\n",
       "      <th>4</th>\n",
       "      <td>0.0</td>\n",
       "      <td>NaN</td>\n",
       "      <td>Female</td>\n",
       "      <td>80.0</td>\n",
       "      <td>Georgia</td>\n",
       "      <td>South</td>\n",
       "      <td>4.0</td>\n",
       "      <td>NaN</td>\n",
       "      <td>NaN</td>\n",
       "      <td>NaN</td>\n",
       "      <td>NaN</td>\n",
       "      <td>NaN</td>\n",
       "      <td>NaN</td>\n",
       "    </tr>\n",
       "  </tbody>\n",
       "</table>\n",
       "</div>"
      ],
      "text/plain": [
       "   Internet.Use  Smartphone     Sex   Age           State     Region  \\\n",
       "0           1.0         0.0    Male  62.0   Massachusetts  Northeast   \n",
       "1           1.0         0.0    Male  45.0  South Carolina      South   \n",
       "2           0.0         1.0  Female  70.0      New Jersey  Northeast   \n",
       "3           1.0         0.0    Male  70.0         Georgia      South   \n",
       "4           0.0         NaN  Female  80.0         Georgia      South   \n",
       "\n",
       "   Conservativeness  Info.On.Internet  Worry.About.Info  Privacy.Importance  \\\n",
       "0               4.0               0.0               1.0          100.000000   \n",
       "1               1.0               1.0               0.0            0.000000   \n",
       "2               4.0               0.0               0.0                 NaN   \n",
       "3               4.0               3.0               1.0           88.888889   \n",
       "4               4.0               NaN               NaN                 NaN   \n",
       "\n",
       "   Anonymity.Possible  Tried.Masking.Identity  Privacy.Laws.Effective  \n",
       "0                 0.0                     0.0                     0.0  \n",
       "1                 1.0                     0.0                     1.0  \n",
       "2                 0.0                     0.0                     NaN  \n",
       "3                 1.0                     0.0                     0.0  \n",
       "4                 NaN                     NaN                     NaN  "
      ]
     },
     "execution_count": 3,
     "metadata": {},
     "output_type": "execute_result"
    }
   ],
   "source": [
    "data.head()"
   ]
  },
  {
   "cell_type": "code",
   "execution_count": 4,
   "id": "95173a26",
   "metadata": {},
   "outputs": [
    {
     "name": "stdout",
     "output_type": "stream",
     "text": [
      "<class 'pandas.core.frame.DataFrame'>\n",
      "RangeIndex: 1002 entries, 0 to 1001\n",
      "Data columns (total 13 columns):\n",
      " #   Column                  Non-Null Count  Dtype  \n",
      "---  ------                  --------------  -----  \n",
      " 0   Internet.Use            1001 non-null   float64\n",
      " 1   Smartphone              959 non-null    float64\n",
      " 2   Sex                     1002 non-null   object \n",
      " 3   Age                     975 non-null    float64\n",
      " 4   State                   1002 non-null   object \n",
      " 5   Region                  1002 non-null   object \n",
      " 6   Conservativeness        940 non-null    float64\n",
      " 7   Info.On.Internet        792 non-null    float64\n",
      " 8   Worry.About.Info        790 non-null    float64\n",
      " 9   Privacy.Importance      787 non-null    float64\n",
      " 10  Anonymity.Possible      753 non-null    float64\n",
      " 11  Tried.Masking.Identity  784 non-null    float64\n",
      " 12  Privacy.Laws.Effective  894 non-null    float64\n",
      "dtypes: float64(10), object(3)\n",
      "memory usage: 101.9+ KB\n"
     ]
    }
   ],
   "source": [
    "data.info()"
   ]
  },
  {
   "cell_type": "markdown",
   "id": "d4bbb377",
   "metadata": {},
   "source": [
    "### Survey Count: 1002"
   ]
  },
  {
   "cell_type": "code",
   "execution_count": 5,
   "id": "a65f9af6",
   "metadata": {},
   "outputs": [
    {
     "data": {
      "text/plain": [
       "1.0    487\n",
       "0.0    472\n",
       "Name: Smartphone, dtype: int64"
      ]
     },
     "execution_count": 5,
     "metadata": {},
     "output_type": "execute_result"
    }
   ],
   "source": [
    "data.Smartphone.value_counts()"
   ]
  },
  {
   "cell_type": "code",
   "execution_count": 6,
   "id": "fd8cc89c",
   "metadata": {},
   "outputs": [
    {
     "data": {
      "text/plain": [
       "False    959\n",
       "True      43\n",
       "Name: Smartphone, dtype: int64"
      ]
     },
     "execution_count": 6,
     "metadata": {},
     "output_type": "execute_result"
    }
   ],
   "source": [
    "data.Smartphone.isnull().value_counts()"
   ]
  },
  {
   "cell_type": "markdown",
   "id": "7dd115f0",
   "metadata": {},
   "source": [
    "### People that use Smartphone: 487"
   ]
  },
  {
   "cell_type": "markdown",
   "id": "6c25f1b3",
   "metadata": {},
   "source": [
    "### People that don't use a Smartphone: 472"
   ]
  },
  {
   "cell_type": "markdown",
   "id": "9059a25f",
   "metadata": {},
   "source": [
    "### People that did not respond: 43"
   ]
  },
  {
   "cell_type": "code",
   "execution_count": 7,
   "id": "d874999c",
   "metadata": {},
   "outputs": [
    {
     "data": {
      "text/html": [
       "<div>\n",
       "<style scoped>\n",
       "    .dataframe tbody tr th:only-of-type {\n",
       "        vertical-align: middle;\n",
       "    }\n",
       "\n",
       "    .dataframe tbody tr th {\n",
       "        vertical-align: top;\n",
       "    }\n",
       "\n",
       "    .dataframe thead th {\n",
       "        text-align: right;\n",
       "    }\n",
       "</style>\n",
       "<table border=\"1\" class=\"dataframe\">\n",
       "  <thead>\n",
       "    <tr style=\"text-align: right;\">\n",
       "      <th>Region</th>\n",
       "      <th>Midwest</th>\n",
       "      <th>Northeast</th>\n",
       "      <th>South</th>\n",
       "      <th>West</th>\n",
       "    </tr>\n",
       "    <tr>\n",
       "      <th>Sex</th>\n",
       "      <th></th>\n",
       "      <th></th>\n",
       "      <th></th>\n",
       "      <th></th>\n",
       "    </tr>\n",
       "  </thead>\n",
       "  <tbody>\n",
       "    <tr>\n",
       "      <th>Female</th>\n",
       "      <td>123</td>\n",
       "      <td>90</td>\n",
       "      <td>176</td>\n",
       "      <td>116</td>\n",
       "    </tr>\n",
       "    <tr>\n",
       "      <th>Male</th>\n",
       "      <td>116</td>\n",
       "      <td>76</td>\n",
       "      <td>183</td>\n",
       "      <td>122</td>\n",
       "    </tr>\n",
       "  </tbody>\n",
       "</table>\n",
       "</div>"
      ],
      "text/plain": [
       "Region  Midwest  Northeast  South  West\n",
       "Sex                                    \n",
       "Female      123         90    176   116\n",
       "Male        116         76    183   122"
      ]
     },
     "execution_count": 7,
     "metadata": {},
     "output_type": "execute_result"
    }
   ],
   "source": [
    "pd.crosstab(data.Sex, columns = data.Region)"
   ]
  },
  {
   "cell_type": "code",
   "execution_count": 8,
   "id": "bc01b5b1",
   "metadata": {},
   "outputs": [
    {
     "data": {
      "text/html": [
       "<div>\n",
       "<style scoped>\n",
       "    .dataframe tbody tr th:only-of-type {\n",
       "        vertical-align: middle;\n",
       "    }\n",
       "\n",
       "    .dataframe tbody tr th {\n",
       "        vertical-align: top;\n",
       "    }\n",
       "\n",
       "    .dataframe thead th {\n",
       "        text-align: right;\n",
       "    }\n",
       "</style>\n",
       "<table border=\"1\" class=\"dataframe\">\n",
       "  <thead>\n",
       "    <tr style=\"text-align: right;\">\n",
       "      <th>Region</th>\n",
       "      <th>Midwest</th>\n",
       "      <th>Northeast</th>\n",
       "      <th>South</th>\n",
       "      <th>West</th>\n",
       "    </tr>\n",
       "    <tr>\n",
       "      <th>State</th>\n",
       "      <th></th>\n",
       "      <th></th>\n",
       "      <th></th>\n",
       "      <th></th>\n",
       "    </tr>\n",
       "  </thead>\n",
       "  <tbody>\n",
       "    <tr>\n",
       "      <th>Alabama</th>\n",
       "      <td>0</td>\n",
       "      <td>0</td>\n",
       "      <td>11</td>\n",
       "      <td>0</td>\n",
       "    </tr>\n",
       "    <tr>\n",
       "      <th>Arizona</th>\n",
       "      <td>0</td>\n",
       "      <td>0</td>\n",
       "      <td>0</td>\n",
       "      <td>24</td>\n",
       "    </tr>\n",
       "    <tr>\n",
       "      <th>Arkansas</th>\n",
       "      <td>0</td>\n",
       "      <td>0</td>\n",
       "      <td>10</td>\n",
       "      <td>0</td>\n",
       "    </tr>\n",
       "    <tr>\n",
       "      <th>California</th>\n",
       "      <td>0</td>\n",
       "      <td>0</td>\n",
       "      <td>0</td>\n",
       "      <td>103</td>\n",
       "    </tr>\n",
       "    <tr>\n",
       "      <th>Colorado</th>\n",
       "      <td>0</td>\n",
       "      <td>0</td>\n",
       "      <td>0</td>\n",
       "      <td>19</td>\n",
       "    </tr>\n",
       "    <tr>\n",
       "      <th>Connecticut</th>\n",
       "      <td>0</td>\n",
       "      <td>8</td>\n",
       "      <td>0</td>\n",
       "      <td>0</td>\n",
       "    </tr>\n",
       "    <tr>\n",
       "      <th>Delaware</th>\n",
       "      <td>0</td>\n",
       "      <td>0</td>\n",
       "      <td>6</td>\n",
       "      <td>0</td>\n",
       "    </tr>\n",
       "    <tr>\n",
       "      <th>District of Columbia</th>\n",
       "      <td>0</td>\n",
       "      <td>0</td>\n",
       "      <td>2</td>\n",
       "      <td>0</td>\n",
       "    </tr>\n",
       "    <tr>\n",
       "      <th>Florida</th>\n",
       "      <td>0</td>\n",
       "      <td>0</td>\n",
       "      <td>42</td>\n",
       "      <td>0</td>\n",
       "    </tr>\n",
       "    <tr>\n",
       "      <th>Georgia</th>\n",
       "      <td>0</td>\n",
       "      <td>0</td>\n",
       "      <td>34</td>\n",
       "      <td>0</td>\n",
       "    </tr>\n",
       "    <tr>\n",
       "      <th>Idaho</th>\n",
       "      <td>0</td>\n",
       "      <td>0</td>\n",
       "      <td>0</td>\n",
       "      <td>8</td>\n",
       "    </tr>\n",
       "    <tr>\n",
       "      <th>Illinois</th>\n",
       "      <td>32</td>\n",
       "      <td>0</td>\n",
       "      <td>0</td>\n",
       "      <td>0</td>\n",
       "    </tr>\n",
       "    <tr>\n",
       "      <th>Indiana</th>\n",
       "      <td>27</td>\n",
       "      <td>0</td>\n",
       "      <td>0</td>\n",
       "      <td>0</td>\n",
       "    </tr>\n",
       "    <tr>\n",
       "      <th>Iowa</th>\n",
       "      <td>14</td>\n",
       "      <td>0</td>\n",
       "      <td>0</td>\n",
       "      <td>0</td>\n",
       "    </tr>\n",
       "    <tr>\n",
       "      <th>Kansas</th>\n",
       "      <td>14</td>\n",
       "      <td>0</td>\n",
       "      <td>0</td>\n",
       "      <td>0</td>\n",
       "    </tr>\n",
       "    <tr>\n",
       "      <th>Kentucky</th>\n",
       "      <td>0</td>\n",
       "      <td>0</td>\n",
       "      <td>25</td>\n",
       "      <td>0</td>\n",
       "    </tr>\n",
       "    <tr>\n",
       "      <th>Louisiana</th>\n",
       "      <td>0</td>\n",
       "      <td>0</td>\n",
       "      <td>17</td>\n",
       "      <td>0</td>\n",
       "    </tr>\n",
       "    <tr>\n",
       "      <th>Maine</th>\n",
       "      <td>0</td>\n",
       "      <td>4</td>\n",
       "      <td>0</td>\n",
       "      <td>0</td>\n",
       "    </tr>\n",
       "    <tr>\n",
       "      <th>Maryland</th>\n",
       "      <td>0</td>\n",
       "      <td>0</td>\n",
       "      <td>18</td>\n",
       "      <td>0</td>\n",
       "    </tr>\n",
       "    <tr>\n",
       "      <th>Massachusetts</th>\n",
       "      <td>0</td>\n",
       "      <td>19</td>\n",
       "      <td>0</td>\n",
       "      <td>0</td>\n",
       "    </tr>\n",
       "    <tr>\n",
       "      <th>Michigan</th>\n",
       "      <td>31</td>\n",
       "      <td>0</td>\n",
       "      <td>0</td>\n",
       "      <td>0</td>\n",
       "    </tr>\n",
       "    <tr>\n",
       "      <th>Minnesota</th>\n",
       "      <td>15</td>\n",
       "      <td>0</td>\n",
       "      <td>0</td>\n",
       "      <td>0</td>\n",
       "    </tr>\n",
       "    <tr>\n",
       "      <th>Mississippi</th>\n",
       "      <td>0</td>\n",
       "      <td>0</td>\n",
       "      <td>11</td>\n",
       "      <td>0</td>\n",
       "    </tr>\n",
       "    <tr>\n",
       "      <th>Missouri</th>\n",
       "      <td>26</td>\n",
       "      <td>0</td>\n",
       "      <td>0</td>\n",
       "      <td>0</td>\n",
       "    </tr>\n",
       "    <tr>\n",
       "      <th>Montana</th>\n",
       "      <td>0</td>\n",
       "      <td>0</td>\n",
       "      <td>0</td>\n",
       "      <td>5</td>\n",
       "    </tr>\n",
       "    <tr>\n",
       "      <th>Nebraska</th>\n",
       "      <td>11</td>\n",
       "      <td>0</td>\n",
       "      <td>0</td>\n",
       "      <td>0</td>\n",
       "    </tr>\n",
       "    <tr>\n",
       "      <th>Nevada</th>\n",
       "      <td>0</td>\n",
       "      <td>0</td>\n",
       "      <td>0</td>\n",
       "      <td>8</td>\n",
       "    </tr>\n",
       "    <tr>\n",
       "      <th>New Hampshire</th>\n",
       "      <td>0</td>\n",
       "      <td>7</td>\n",
       "      <td>0</td>\n",
       "      <td>0</td>\n",
       "    </tr>\n",
       "    <tr>\n",
       "      <th>New Jersey</th>\n",
       "      <td>0</td>\n",
       "      <td>16</td>\n",
       "      <td>0</td>\n",
       "      <td>0</td>\n",
       "    </tr>\n",
       "    <tr>\n",
       "      <th>New Mexico</th>\n",
       "      <td>0</td>\n",
       "      <td>0</td>\n",
       "      <td>0</td>\n",
       "      <td>5</td>\n",
       "    </tr>\n",
       "    <tr>\n",
       "      <th>New York</th>\n",
       "      <td>0</td>\n",
       "      <td>60</td>\n",
       "      <td>0</td>\n",
       "      <td>0</td>\n",
       "    </tr>\n",
       "    <tr>\n",
       "      <th>North Carolina</th>\n",
       "      <td>0</td>\n",
       "      <td>0</td>\n",
       "      <td>32</td>\n",
       "      <td>0</td>\n",
       "    </tr>\n",
       "    <tr>\n",
       "      <th>North Dakota</th>\n",
       "      <td>5</td>\n",
       "      <td>0</td>\n",
       "      <td>0</td>\n",
       "      <td>0</td>\n",
       "    </tr>\n",
       "    <tr>\n",
       "      <th>Ohio</th>\n",
       "      <td>38</td>\n",
       "      <td>0</td>\n",
       "      <td>0</td>\n",
       "      <td>0</td>\n",
       "    </tr>\n",
       "    <tr>\n",
       "      <th>Oklahoma</th>\n",
       "      <td>0</td>\n",
       "      <td>0</td>\n",
       "      <td>14</td>\n",
       "      <td>0</td>\n",
       "    </tr>\n",
       "    <tr>\n",
       "      <th>Oregon</th>\n",
       "      <td>0</td>\n",
       "      <td>0</td>\n",
       "      <td>0</td>\n",
       "      <td>20</td>\n",
       "    </tr>\n",
       "    <tr>\n",
       "      <th>Pennsylvania</th>\n",
       "      <td>0</td>\n",
       "      <td>45</td>\n",
       "      <td>0</td>\n",
       "      <td>0</td>\n",
       "    </tr>\n",
       "    <tr>\n",
       "      <th>Rhode Island</th>\n",
       "      <td>0</td>\n",
       "      <td>4</td>\n",
       "      <td>0</td>\n",
       "      <td>0</td>\n",
       "    </tr>\n",
       "    <tr>\n",
       "      <th>South Carolina</th>\n",
       "      <td>0</td>\n",
       "      <td>0</td>\n",
       "      <td>12</td>\n",
       "      <td>0</td>\n",
       "    </tr>\n",
       "    <tr>\n",
       "      <th>South Dakota</th>\n",
       "      <td>3</td>\n",
       "      <td>0</td>\n",
       "      <td>0</td>\n",
       "      <td>0</td>\n",
       "    </tr>\n",
       "    <tr>\n",
       "      <th>Tennessee</th>\n",
       "      <td>0</td>\n",
       "      <td>0</td>\n",
       "      <td>17</td>\n",
       "      <td>0</td>\n",
       "    </tr>\n",
       "    <tr>\n",
       "      <th>Texas</th>\n",
       "      <td>0</td>\n",
       "      <td>0</td>\n",
       "      <td>72</td>\n",
       "      <td>0</td>\n",
       "    </tr>\n",
       "    <tr>\n",
       "      <th>Utah</th>\n",
       "      <td>0</td>\n",
       "      <td>0</td>\n",
       "      <td>0</td>\n",
       "      <td>11</td>\n",
       "    </tr>\n",
       "    <tr>\n",
       "      <th>Vermont</th>\n",
       "      <td>0</td>\n",
       "      <td>3</td>\n",
       "      <td>0</td>\n",
       "      <td>0</td>\n",
       "    </tr>\n",
       "    <tr>\n",
       "      <th>Virginia</th>\n",
       "      <td>0</td>\n",
       "      <td>0</td>\n",
       "      <td>31</td>\n",
       "      <td>0</td>\n",
       "    </tr>\n",
       "    <tr>\n",
       "      <th>Washington</th>\n",
       "      <td>0</td>\n",
       "      <td>0</td>\n",
       "      <td>0</td>\n",
       "      <td>28</td>\n",
       "    </tr>\n",
       "    <tr>\n",
       "      <th>West Virginia</th>\n",
       "      <td>0</td>\n",
       "      <td>0</td>\n",
       "      <td>5</td>\n",
       "      <td>0</td>\n",
       "    </tr>\n",
       "    <tr>\n",
       "      <th>Wisconsin</th>\n",
       "      <td>23</td>\n",
       "      <td>0</td>\n",
       "      <td>0</td>\n",
       "      <td>0</td>\n",
       "    </tr>\n",
       "    <tr>\n",
       "      <th>Wyoming</th>\n",
       "      <td>0</td>\n",
       "      <td>0</td>\n",
       "      <td>0</td>\n",
       "      <td>7</td>\n",
       "    </tr>\n",
       "  </tbody>\n",
       "</table>\n",
       "</div>"
      ],
      "text/plain": [
       "Region                Midwest  Northeast  South  West\n",
       "State                                                \n",
       "Alabama                     0          0     11     0\n",
       "Arizona                     0          0      0    24\n",
       "Arkansas                    0          0     10     0\n",
       "California                  0          0      0   103\n",
       "Colorado                    0          0      0    19\n",
       "Connecticut                 0          8      0     0\n",
       "Delaware                    0          0      6     0\n",
       "District of Columbia        0          0      2     0\n",
       "Florida                     0          0     42     0\n",
       "Georgia                     0          0     34     0\n",
       "Idaho                       0          0      0     8\n",
       "Illinois                   32          0      0     0\n",
       "Indiana                    27          0      0     0\n",
       "Iowa                       14          0      0     0\n",
       "Kansas                     14          0      0     0\n",
       "Kentucky                    0          0     25     0\n",
       "Louisiana                   0          0     17     0\n",
       "Maine                       0          4      0     0\n",
       "Maryland                    0          0     18     0\n",
       "Massachusetts               0         19      0     0\n",
       "Michigan                   31          0      0     0\n",
       "Minnesota                  15          0      0     0\n",
       "Mississippi                 0          0     11     0\n",
       "Missouri                   26          0      0     0\n",
       "Montana                     0          0      0     5\n",
       "Nebraska                   11          0      0     0\n",
       "Nevada                      0          0      0     8\n",
       "New Hampshire               0          7      0     0\n",
       "New Jersey                  0         16      0     0\n",
       "New Mexico                  0          0      0     5\n",
       "New York                    0         60      0     0\n",
       "North Carolina              0          0     32     0\n",
       "North Dakota                5          0      0     0\n",
       "Ohio                       38          0      0     0\n",
       "Oklahoma                    0          0     14     0\n",
       "Oregon                      0          0      0    20\n",
       "Pennsylvania                0         45      0     0\n",
       "Rhode Island                0          4      0     0\n",
       "South Carolina              0          0     12     0\n",
       "South Dakota                3          0      0     0\n",
       "Tennessee                   0          0     17     0\n",
       "Texas                       0          0     72     0\n",
       "Utah                        0          0      0    11\n",
       "Vermont                     0          3      0     0\n",
       "Virginia                    0          0     31     0\n",
       "Washington                  0          0      0    28\n",
       "West Virginia               0          0      5     0\n",
       "Wisconsin                  23          0      0     0\n",
       "Wyoming                     0          0      0     7"
      ]
     },
     "execution_count": 8,
     "metadata": {},
     "output_type": "execute_result"
    }
   ],
   "source": [
    "pd.crosstab(data.State, columns = data.Region)"
   ]
  },
  {
   "cell_type": "markdown",
   "id": "eac6fbda",
   "metadata": {},
   "source": [
    "### US States in the Midwest Census Region: Kansas, Ohio, Missouri"
   ]
  },
  {
   "cell_type": "markdown",
   "id": "31cf5df3",
   "metadata": {},
   "source": [
    "### US State in the South Census Region with the Largest Number of Interviewees: Texas"
   ]
  },
  {
   "cell_type": "code",
   "execution_count": 9,
   "id": "a2bb1bc7",
   "metadata": {},
   "outputs": [
    {
     "data": {
      "text/html": [
       "<div>\n",
       "<style scoped>\n",
       "    .dataframe tbody tr th:only-of-type {\n",
       "        vertical-align: middle;\n",
       "    }\n",
       "\n",
       "    .dataframe tbody tr th {\n",
       "        vertical-align: top;\n",
       "    }\n",
       "\n",
       "    .dataframe thead th {\n",
       "        text-align: right;\n",
       "    }\n",
       "</style>\n",
       "<table border=\"1\" class=\"dataframe\">\n",
       "  <thead>\n",
       "    <tr style=\"text-align: right;\">\n",
       "      <th>Smartphone</th>\n",
       "      <th>0.0</th>\n",
       "      <th>1.0</th>\n",
       "    </tr>\n",
       "    <tr>\n",
       "      <th>Internet.Use</th>\n",
       "      <th></th>\n",
       "      <th></th>\n",
       "    </tr>\n",
       "  </thead>\n",
       "  <tbody>\n",
       "    <tr>\n",
       "      <th>0.0</th>\n",
       "      <td>186</td>\n",
       "      <td>17</td>\n",
       "    </tr>\n",
       "    <tr>\n",
       "      <th>1.0</th>\n",
       "      <td>285</td>\n",
       "      <td>470</td>\n",
       "    </tr>\n",
       "  </tbody>\n",
       "</table>\n",
       "</div>"
      ],
      "text/plain": [
       "Smartphone    0.0  1.0\n",
       "Internet.Use          \n",
       "0.0           186   17\n",
       "1.0           285  470"
      ]
     },
     "execution_count": 9,
     "metadata": {},
     "output_type": "execute_result"
    }
   ],
   "source": [
    "pd.crosstab(data['Internet.Use'], columns = data.Smartphone)"
   ]
  },
  {
   "cell_type": "markdown",
   "id": "acb30ea7",
   "metadata": {},
   "source": [
    "### People that haven't used the Internet and a Smartphone: 186"
   ]
  },
  {
   "cell_type": "markdown",
   "id": "eff9d56c",
   "metadata": {},
   "source": [
    "### People that have used the Internet and a Smartphone: 470 "
   ]
  },
  {
   "cell_type": "markdown",
   "id": "1f9674b9",
   "metadata": {},
   "source": [
    "### People that have used the Internet but not a Smartphone: 285 "
   ]
  },
  {
   "cell_type": "markdown",
   "id": "4efd7fe8",
   "metadata": {},
   "source": [
    "### People that haven't used the Internet but used a Smartphone: 17"
   ]
  },
  {
   "cell_type": "code",
   "execution_count": 10,
   "id": "bafdb23a",
   "metadata": {},
   "outputs": [
    {
     "data": {
      "text/plain": [
       "Internet.Use                1\n",
       "Smartphone                 43\n",
       "Sex                         0\n",
       "Age                        27\n",
       "State                       0\n",
       "Region                      0\n",
       "Conservativeness           62\n",
       "Info.On.Internet          210\n",
       "Worry.About.Info          212\n",
       "Privacy.Importance        215\n",
       "Anonymity.Possible        249\n",
       "Tried.Masking.Identity    218\n",
       "Privacy.Laws.Effective    108\n",
       "dtype: int64"
      ]
     },
     "execution_count": 10,
     "metadata": {},
     "output_type": "execute_result"
    }
   ],
   "source": [
    "data.isnull().sum()"
   ]
  },
  {
   "cell_type": "markdown",
   "id": "43c5d78b",
   "metadata": {},
   "source": [
    "### People that did not respond on their Internet Usage: 1"
   ]
  },
  {
   "cell_type": "markdown",
   "id": "00761d4c",
   "metadata": {},
   "source": [
    "### People that did not respond on the Availability of a Smartphone: 43"
   ]
  },
  {
   "cell_type": "code",
   "execution_count": 11,
   "id": "691d44c6",
   "metadata": {},
   "outputs": [],
   "source": [
    "limited = data[(data['Internet.Use'] == 1) | data.Smartphone == 1]"
   ]
  },
  {
   "cell_type": "code",
   "execution_count": 12,
   "id": "50475511",
   "metadata": {},
   "outputs": [
    {
     "data": {
      "text/html": [
       "<div>\n",
       "<style scoped>\n",
       "    .dataframe tbody tr th:only-of-type {\n",
       "        vertical-align: middle;\n",
       "    }\n",
       "\n",
       "    .dataframe tbody tr th {\n",
       "        vertical-align: top;\n",
       "    }\n",
       "\n",
       "    .dataframe thead th {\n",
       "        text-align: right;\n",
       "    }\n",
       "</style>\n",
       "<table border=\"1\" class=\"dataframe\">\n",
       "  <thead>\n",
       "    <tr style=\"text-align: right;\">\n",
       "      <th></th>\n",
       "      <th>Internet.Use</th>\n",
       "      <th>Smartphone</th>\n",
       "      <th>Sex</th>\n",
       "      <th>Age</th>\n",
       "      <th>State</th>\n",
       "      <th>Region</th>\n",
       "      <th>Conservativeness</th>\n",
       "      <th>Info.On.Internet</th>\n",
       "      <th>Worry.About.Info</th>\n",
       "      <th>Privacy.Importance</th>\n",
       "      <th>Anonymity.Possible</th>\n",
       "      <th>Tried.Masking.Identity</th>\n",
       "      <th>Privacy.Laws.Effective</th>\n",
       "    </tr>\n",
       "  </thead>\n",
       "  <tbody>\n",
       "    <tr>\n",
       "      <th>0</th>\n",
       "      <td>1.0</td>\n",
       "      <td>0.0</td>\n",
       "      <td>Male</td>\n",
       "      <td>62.0</td>\n",
       "      <td>Massachusetts</td>\n",
       "      <td>Northeast</td>\n",
       "      <td>4.0</td>\n",
       "      <td>0.0</td>\n",
       "      <td>1.0</td>\n",
       "      <td>100.000000</td>\n",
       "      <td>0.0</td>\n",
       "      <td>0.0</td>\n",
       "      <td>0.0</td>\n",
       "    </tr>\n",
       "    <tr>\n",
       "      <th>1</th>\n",
       "      <td>1.0</td>\n",
       "      <td>0.0</td>\n",
       "      <td>Male</td>\n",
       "      <td>45.0</td>\n",
       "      <td>South Carolina</td>\n",
       "      <td>South</td>\n",
       "      <td>1.0</td>\n",
       "      <td>1.0</td>\n",
       "      <td>0.0</td>\n",
       "      <td>0.000000</td>\n",
       "      <td>1.0</td>\n",
       "      <td>0.0</td>\n",
       "      <td>1.0</td>\n",
       "    </tr>\n",
       "    <tr>\n",
       "      <th>2</th>\n",
       "      <td>0.0</td>\n",
       "      <td>1.0</td>\n",
       "      <td>Female</td>\n",
       "      <td>70.0</td>\n",
       "      <td>New Jersey</td>\n",
       "      <td>Northeast</td>\n",
       "      <td>4.0</td>\n",
       "      <td>0.0</td>\n",
       "      <td>0.0</td>\n",
       "      <td>NaN</td>\n",
       "      <td>0.0</td>\n",
       "      <td>0.0</td>\n",
       "      <td>NaN</td>\n",
       "    </tr>\n",
       "    <tr>\n",
       "      <th>3</th>\n",
       "      <td>1.0</td>\n",
       "      <td>0.0</td>\n",
       "      <td>Male</td>\n",
       "      <td>70.0</td>\n",
       "      <td>Georgia</td>\n",
       "      <td>South</td>\n",
       "      <td>4.0</td>\n",
       "      <td>3.0</td>\n",
       "      <td>1.0</td>\n",
       "      <td>88.888889</td>\n",
       "      <td>1.0</td>\n",
       "      <td>0.0</td>\n",
       "      <td>0.0</td>\n",
       "    </tr>\n",
       "    <tr>\n",
       "      <th>5</th>\n",
       "      <td>1.0</td>\n",
       "      <td>1.0</td>\n",
       "      <td>Male</td>\n",
       "      <td>49.0</td>\n",
       "      <td>Tennessee</td>\n",
       "      <td>South</td>\n",
       "      <td>4.0</td>\n",
       "      <td>6.0</td>\n",
       "      <td>0.0</td>\n",
       "      <td>88.888889</td>\n",
       "      <td>1.0</td>\n",
       "      <td>1.0</td>\n",
       "      <td>0.0</td>\n",
       "    </tr>\n",
       "  </tbody>\n",
       "</table>\n",
       "</div>"
      ],
      "text/plain": [
       "   Internet.Use  Smartphone     Sex   Age           State     Region  \\\n",
       "0           1.0         0.0    Male  62.0   Massachusetts  Northeast   \n",
       "1           1.0         0.0    Male  45.0  South Carolina      South   \n",
       "2           0.0         1.0  Female  70.0      New Jersey  Northeast   \n",
       "3           1.0         0.0    Male  70.0         Georgia      South   \n",
       "5           1.0         1.0    Male  49.0       Tennessee      South   \n",
       "\n",
       "   Conservativeness  Info.On.Internet  Worry.About.Info  Privacy.Importance  \\\n",
       "0               4.0               0.0               1.0          100.000000   \n",
       "1               1.0               1.0               0.0            0.000000   \n",
       "2               4.0               0.0               0.0                 NaN   \n",
       "3               4.0               3.0               1.0           88.888889   \n",
       "5               4.0               6.0               0.0           88.888889   \n",
       "\n",
       "   Anonymity.Possible  Tried.Masking.Identity  Privacy.Laws.Effective  \n",
       "0                 0.0                     0.0                     0.0  \n",
       "1                 1.0                     0.0                     1.0  \n",
       "2                 0.0                     0.0                     NaN  \n",
       "3                 1.0                     0.0                     0.0  \n",
       "5                 1.0                     1.0                     0.0  "
      ]
     },
     "execution_count": 12,
     "metadata": {},
     "output_type": "execute_result"
    }
   ],
   "source": [
    "limited.head()"
   ]
  },
  {
   "cell_type": "code",
   "execution_count": 13,
   "id": "73d8c81a",
   "metadata": {},
   "outputs": [
    {
     "name": "stdout",
     "output_type": "stream",
     "text": [
      "<class 'pandas.core.frame.DataFrame'>\n",
      "Int64Index: 792 entries, 0 to 1001\n",
      "Data columns (total 13 columns):\n",
      " #   Column                  Non-Null Count  Dtype  \n",
      "---  ------                  --------------  -----  \n",
      " 0   Internet.Use            792 non-null    float64\n",
      " 1   Smartphone              772 non-null    float64\n",
      " 2   Sex                     792 non-null    object \n",
      " 3   Age                     770 non-null    float64\n",
      " 4   State                   792 non-null    object \n",
      " 5   Region                  792 non-null    object \n",
      " 6   Conservativeness        747 non-null    float64\n",
      " 7   Info.On.Internet        792 non-null    float64\n",
      " 8   Worry.About.Info        790 non-null    float64\n",
      " 9   Privacy.Importance      787 non-null    float64\n",
      " 10  Anonymity.Possible      753 non-null    float64\n",
      " 11  Tried.Masking.Identity  784 non-null    float64\n",
      " 12  Privacy.Laws.Effective  727 non-null    float64\n",
      "dtypes: float64(10), object(3)\n",
      "memory usage: 86.6+ KB\n"
     ]
    }
   ],
   "source": [
    "limited.info()"
   ]
  },
  {
   "cell_type": "code",
   "execution_count": 14,
   "id": "3d1caa7a",
   "metadata": {},
   "outputs": [
    {
     "data": {
      "text/plain": [
       "Internet.Use               0\n",
       "Smartphone                20\n",
       "Sex                        0\n",
       "Age                       22\n",
       "State                      0\n",
       "Region                     0\n",
       "Conservativeness          45\n",
       "Info.On.Internet           0\n",
       "Worry.About.Info           2\n",
       "Privacy.Importance         5\n",
       "Anonymity.Possible        39\n",
       "Tried.Masking.Identity     8\n",
       "Privacy.Laws.Effective    65\n",
       "dtype: int64"
      ]
     },
     "execution_count": 14,
     "metadata": {},
     "output_type": "execute_result"
    }
   ],
   "source": [
    "limited.isnull().sum()"
   ]
  },
  {
   "cell_type": "markdown",
   "id": "c92ca782",
   "metadata": {},
   "source": [
    "### People in the New Data Frame: 792"
   ]
  },
  {
   "cell_type": "markdown",
   "id": "f8e3a724",
   "metadata": {},
   "source": [
    "### Features with Missing Values in the Data Frame: \n",
    "\n",
    "### Smartphone, Age, Conservativeness, Worry.About.Info, Privacy.Importance, Anonymity.Possible, Tried.Masking.Identity, Privacy.Laws.Effective"
   ]
  },
  {
   "cell_type": "code",
   "execution_count": 15,
   "id": "ebc60149",
   "metadata": {},
   "outputs": [
    {
     "data": {
      "text/plain": [
       "3.7954545454545454"
      ]
     },
     "execution_count": 15,
     "metadata": {},
     "output_type": "execute_result"
    }
   ],
   "source": [
    "data['Info.On.Internet'].mean()"
   ]
  },
  {
   "cell_type": "markdown",
   "id": "5bc3a645",
   "metadata": {},
   "source": [
    "### Info.On.Internet Average: 3.795"
   ]
  },
  {
   "cell_type": "code",
   "execution_count": 16,
   "id": "244dd3c7",
   "metadata": {},
   "outputs": [
    {
     "data": {
      "text/plain": [
       "0.0     105\n",
       "4.0     104\n",
       "3.0     101\n",
       "2.0      95\n",
       "5.0      94\n",
       "1.0      84\n",
       "6.0      67\n",
       "7.0      63\n",
       "8.0      40\n",
       "9.0      18\n",
       "10.0     13\n",
       "11.0      8\n",
       "Name: Info.On.Internet, dtype: int64"
      ]
     },
     "execution_count": 16,
     "metadata": {},
     "output_type": "execute_result"
    }
   ],
   "source": [
    "data['Info.On.Internet'].value_counts()"
   ]
  },
  {
   "cell_type": "markdown",
   "id": "b216d1ff",
   "metadata": {},
   "source": [
    "### Frequency of 'Zero' in Info.On.Internet: 105"
   ]
  },
  {
   "cell_type": "markdown",
   "id": "c2f95253",
   "metadata": {},
   "source": [
    "### Frequency of Max Value in Info.On.Internet: 8"
   ]
  },
  {
   "cell_type": "markdown",
   "id": "2b7ca7d0",
   "metadata": {},
   "source": [
    "### Percentage of People Concerned about their Information on the Internet: 0.4886"
   ]
  },
  {
   "cell_type": "code",
   "execution_count": 17,
   "id": "4607fabf",
   "metadata": {},
   "outputs": [
    {
     "data": {
      "text/plain": [
       "0.0    404\n",
       "1.0    386\n",
       "Name: Worry.About.Info, dtype: int64"
      ]
     },
     "execution_count": 17,
     "metadata": {},
     "output_type": "execute_result"
    }
   ],
   "source": [
    "data['Worry.About.Info'].value_counts()"
   ]
  },
  {
   "cell_type": "code",
   "execution_count": 18,
   "id": "86e0741a",
   "metadata": {},
   "outputs": [
    {
     "data": {
      "text/plain": [
       "0.48860759493670886"
      ]
     },
     "execution_count": 18,
     "metadata": {},
     "output_type": "execute_result"
    }
   ],
   "source": [
    "(data['Worry.About.Info'].value_counts()[1])/data['Worry.About.Info'].count()"
   ]
  },
  {
   "cell_type": "code",
   "execution_count": 19,
   "id": "3ce3c15e",
   "metadata": {},
   "outputs": [
    {
     "data": {
      "text/plain": [
       "0.3691899070385126"
      ]
     },
     "execution_count": 19,
     "metadata": {},
     "output_type": "execute_result"
    }
   ],
   "source": [
    "(data['Anonymity.Possible'].value_counts()[1])/data['Anonymity.Possible'].count()"
   ]
  },
  {
   "cell_type": "markdown",
   "id": "b4861b08",
   "metadata": {},
   "source": [
    "### People that think it is Possible to be Anonymous on the Internet: 0.3692"
   ]
  },
  {
   "cell_type": "code",
   "execution_count": 20,
   "id": "1ee2459b",
   "metadata": {},
   "outputs": [
    {
     "data": {
      "text/plain": [
       "0.16326530612244897"
      ]
     },
     "execution_count": 20,
     "metadata": {},
     "output_type": "execute_result"
    }
   ],
   "source": [
    "(data['Tried.Masking.Identity'].value_counts()[1])/data['Tried.Masking.Identity'].count()"
   ]
  },
  {
   "cell_type": "markdown",
   "id": "d30e711c",
   "metadata": {},
   "source": [
    "### Percentage of People that have Tried Identity Masking: 0.1632653"
   ]
  },
  {
   "cell_type": "code",
   "execution_count": 21,
   "id": "ca25ed96",
   "metadata": {},
   "outputs": [
    {
     "data": {
      "text/plain": [
       "0.2558459422283356"
      ]
     },
     "execution_count": 21,
     "metadata": {},
     "output_type": "execute_result"
    }
   ],
   "source": [
    "(limited['Privacy.Laws.Effective'].value_counts()[1])/limited['Privacy.Laws.Effective'].count()"
   ]
  },
  {
   "cell_type": "markdown",
   "id": "47ce53aa",
   "metadata": {},
   "source": [
    "### Percentage of People that find US Internet Privacy Laws Effective: 0.2558"
   ]
  },
  {
   "cell_type": "code",
   "execution_count": 22,
   "id": "bb0c842d",
   "metadata": {},
   "outputs": [
    {
     "data": {
      "image/png": "[encoded data removed]",
      "text/plain": [
       "<Figure size 432x288 with 1 Axes>"
      ]
     },
     "metadata": {
      "needs_background": "light"
     },
     "output_type": "display_data"
    }
   ],
   "source": [
    "age = limited.Age[~limited.Age.isnull()]\n",
    "sns.histplot(age, kde = True, bins = 40)\n",
    "plt.show()"
   ]
  },
  {
   "cell_type": "markdown",
   "id": "8d0cfd3c",
   "metadata": {},
   "source": [
    "###### Often, we are interested in whether certain characteristics of interviewees (e.g. their age or political opinions) affect their opinions on the topic of the poll (in this case, opinions on privacy). In this section, we will investigate the relationship between the characteristics Age and Smartphone and outcome variables Info.On.Internet and Tried.Masking.Identity, again using the limited data frame we built in an earlier section of this problem."
   ]
  },
  {
   "cell_type": "markdown",
   "id": "b157a2d4",
   "metadata": {},
   "source": [
    "### Best Presented Age Group in the Population: 60"
   ]
  },
  {
   "cell_type": "code",
   "execution_count": 23,
   "id": "efba9341",
   "metadata": {},
   "outputs": [
    {
     "data": {
      "text/plain": [
       "count    285.000000\n",
       "mean       2.922807\n",
       "std        2.449707\n",
       "min        0.000000\n",
       "25%        1.000000\n",
       "50%        3.000000\n",
       "75%        5.000000\n",
       "max       11.000000\n",
       "Name: Info.On.Internet, dtype: float64"
      ]
     },
     "execution_count": 23,
     "metadata": {},
     "output_type": "execute_result"
    }
   ],
   "source": [
    "limited[limited.Smartphone == 0]['Info.On.Internet'].describe()"
   ]
  },
  {
   "cell_type": "code",
   "execution_count": 24,
   "id": "bc07116c",
   "metadata": {},
   "outputs": [
    {
     "name": "stdout",
     "output_type": "stream",
     "text": [
      "0.19254658385093168\n"
     ]
    }
   ],
   "source": [
    "maskers = limited[ (limited.Smartphone == 1) & (limited['Tried.Masking.Identity'] == 1)].shape[0]\n",
    "non_maskers = len(limited[ (limited.Smartphone == 1) & (limited['Tried.Masking.Identity'] == 0)] )\n",
    "\n",
    "print(maskers / (maskers + non_maskers))"
   ]
  },
  {
   "cell_type": "code",
   "execution_count": 25,
   "id": "2c25b011",
   "metadata": {},
   "outputs": [],
   "source": [
    "xx = limited[ (limited.Smartphone == 0) & (limited['Tried.Masking.Identity'] == 1) ].shape[0]\n",
    "yy = limited[ (limited.Smartphone == 0) & (limited['Tried.Masking.Identity'] == 0)].shape[0]"
   ]
  },
  {
   "cell_type": "code",
   "execution_count": 26,
   "id": "874ec1fc",
   "metadata": {},
   "outputs": [
    {
     "name": "stdout",
     "output_type": "stream",
     "text": [
      "Percentage of People that Mask their Identity while Browsing the Internet:  0.11743772241992882\n"
     ]
    }
   ],
   "source": [
    "print(\"Percentage of People that Mask their Identity while Browsing the Internet: \", xx / (xx + yy))"
   ]
  }
 ],
 "metadata": {
  "kernelspec": {
   "display_name": "Python 3",
   "language": "python",
   "name": "python3"
  },
  "language_info": {
   "codemirror_mode": {
    "name": "ipython",
    "version": 3
   },
   "file_extension": ".py",
   "mimetype": "text/x-python",
   "name": "python",
   "nbconvert_exporter": "python",
   "pygments_lexer": "ipython3",
   "version": "3.8.0"
  }
 },
 "nbformat": 4,
 "nbformat_minor": 5
}
