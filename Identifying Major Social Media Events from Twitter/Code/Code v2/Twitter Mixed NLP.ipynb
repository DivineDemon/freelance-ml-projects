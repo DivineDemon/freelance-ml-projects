{
 "cells": [
  {
   "cell_type": "code",
   "execution_count": 1,
   "id": "5acdab9b",
   "metadata": {},
   "outputs": [
    {
     "name": "stdout",
     "output_type": "stream",
     "text": [
      "./data.csv\n",
      "./Shayma Report v2.docx\n",
      "./Twitter Mixed NLP.ipynb\n",
      "./.ipynb_checkpoints\\Twitter Mixed NLP-checkpoint.ipynb\n"
     ]
    }
   ],
   "source": [
    "# Importing Libraries\n",
    "\n",
    "import numpy as np # For Handling Arrays in Python\n",
    "import pandas as pd # For Data Importing and Handling\n",
    "\n",
    "# For Graphing\n",
    "import matplotlib.pyplot as plt\n",
    "import seaborn as sns\n",
    "\n",
    "import os # For tracking files and folders\n",
    "\n",
    "# scikit-learn imports\n",
    "from sklearn.pipeline import Pipeline # For running tasks simultaneously\n",
    "\n",
    "# For Cross Validation\n",
    "from sklearn.model_selection import train_test_split\n",
    "from sklearn.model_selection import cross_val_score\n",
    "\n",
    "from sklearn.feature_extraction.text import CountVectorizer, TfidfTransformer # For Feature Extraction from Text\n",
    "\n",
    "# Machine Learning Algorithms\n",
    "from sklearn.naive_bayes import MultinomialNB\n",
    "from sklearn.svm import SVC\n",
    "from sklearn.neural_network import MLPClassifier\n",
    "\n",
    "from sklearn.preprocessing import LabelEncoder # For Encoding Text Data\n",
    "from sklearn.metrics import accuracy_score, confusion_matrix, classification_report, roc_curve, roc_auc_score # Performance Metrics for the Algorithm\n",
    "\n",
    "# Walking through thr directory\n",
    "for dirname, _, filenames in os.walk('./'):\n",
    "    for filename in filenames:\n",
    "        print(os.path.join(dirname, filename))"
   ]
  },
  {
   "cell_type": "code",
   "execution_count": 2,
   "id": "07caddc6",
   "metadata": {},
   "outputs": [],
   "source": [
    "# Importing the dataset\n",
    "# Data from: https://data.world/data-society/twitter-user-data\n",
    "# Manually Labelled and Reduced to 250 Instances\n",
    "data = pd.read_csv('data.csv').drop(columns = 'description')"
   ]
  },
  {
   "cell_type": "code",
   "execution_count": 3,
   "id": "7ce32a3b",
   "metadata": {},
   "outputs": [
    {
     "data": {
      "text/html": [
       "<div>\n",
       "<style scoped>\n",
       "    .dataframe tbody tr th:only-of-type {\n",
       "        vertical-align: middle;\n",
       "    }\n",
       "\n",
       "    .dataframe tbody tr th {\n",
       "        vertical-align: top;\n",
       "    }\n",
       "\n",
       "    .dataframe thead th {\n",
       "        text-align: right;\n",
       "    }\n",
       "</style>\n",
       "<table border=\"1\" class=\"dataframe\">\n",
       "  <thead>\n",
       "    <tr style=\"text-align: right;\">\n",
       "      <th></th>\n",
       "      <th>text</th>\n",
       "      <th>label</th>\n",
       "    </tr>\n",
       "  </thead>\n",
       "  <tbody>\n",
       "    <tr>\n",
       "      <th>0</th>\n",
       "      <td>Robbie E Responds To Critics After Win Against...</td>\n",
       "      <td>sports</td>\n",
       "    </tr>\n",
       "    <tr>\n",
       "      <th>1</th>\n",
       "      <td>���It felt like they were my friends and I was...</td>\n",
       "      <td>personal</td>\n",
       "    </tr>\n",
       "    <tr>\n",
       "      <th>2</th>\n",
       "      <td>i absolutely adore when louis starts the songs...</td>\n",
       "      <td>personal</td>\n",
       "    </tr>\n",
       "    <tr>\n",
       "      <th>3</th>\n",
       "      <td>Hi @JordanSpieth - Looking at the url - do you...</td>\n",
       "      <td>sports</td>\n",
       "    </tr>\n",
       "    <tr>\n",
       "      <th>4</th>\n",
       "      <td>Watching Neighbours on Sky+ catching up with t...</td>\n",
       "      <td>entertainment</td>\n",
       "    </tr>\n",
       "  </tbody>\n",
       "</table>\n",
       "</div>"
      ],
      "text/plain": [
       "                                                text          label\n",
       "0  Robbie E Responds To Critics After Win Against...         sports\n",
       "1  ���It felt like they were my friends and I was...       personal\n",
       "2  i absolutely adore when louis starts the songs...       personal\n",
       "3  Hi @JordanSpieth - Looking at the url - do you...         sports\n",
       "4  Watching Neighbours on Sky+ catching up with t...  entertainment"
      ]
     },
     "execution_count": 3,
     "metadata": {},
     "output_type": "execute_result"
    }
   ],
   "source": [
    "# Viewing the dataset for an idea for the features and appearance\n",
    "data.head(5)"
   ]
  },
  {
   "cell_type": "code",
   "execution_count": 4,
   "id": "bbcae887",
   "metadata": {},
   "outputs": [
    {
     "data": {
      "text/plain": [
       "(249, 2)"
      ]
     },
     "execution_count": 4,
     "metadata": {},
     "output_type": "execute_result"
    }
   ],
   "source": [
    "# Checking the dataset shape for number of rows and columns i.e., instances and features\n",
    "data.shape"
   ]
  },
  {
   "cell_type": "code",
   "execution_count": 5,
   "id": "5157df8c",
   "metadata": {},
   "outputs": [],
   "source": [
    "# Dropping duplicate data instances from the dataset to increase data quality\n",
    "data.drop_duplicates(inplace = True)"
   ]
  },
  {
   "cell_type": "code",
   "execution_count": 6,
   "id": "20097f13",
   "metadata": {},
   "outputs": [
    {
     "data": {
      "text/plain": [
       "text     0\n",
       "label    0\n",
       "dtype: int64"
      ]
     },
     "execution_count": 6,
     "metadata": {},
     "output_type": "execute_result"
    }
   ],
   "source": [
    "# Checking for any null data instances in the dataset\n",
    "data.isnull().sum()"
   ]
  },
  {
   "cell_type": "code",
   "execution_count": 7,
   "id": "c20e8fc7",
   "metadata": {},
   "outputs": [],
   "source": [
    "data = data.dropna()"
   ]
  },
  {
   "cell_type": "code",
   "execution_count": 8,
   "id": "f2929f31",
   "metadata": {},
   "outputs": [
    {
     "data": {
      "text/html": [
       "<div>\n",
       "<style scoped>\n",
       "    .dataframe tbody tr th:only-of-type {\n",
       "        vertical-align: middle;\n",
       "    }\n",
       "\n",
       "    .dataframe tbody tr th {\n",
       "        vertical-align: top;\n",
       "    }\n",
       "\n",
       "    .dataframe thead th {\n",
       "        text-align: right;\n",
       "    }\n",
       "</style>\n",
       "<table border=\"1\" class=\"dataframe\">\n",
       "  <thead>\n",
       "    <tr style=\"text-align: right;\">\n",
       "      <th></th>\n",
       "      <th>text</th>\n",
       "      <th>label</th>\n",
       "    </tr>\n",
       "  </thead>\n",
       "  <tbody>\n",
       "    <tr>\n",
       "      <th>0</th>\n",
       "      <td>Robbie E Responds To Critics After Win Against...</td>\n",
       "      <td>sports</td>\n",
       "    </tr>\n",
       "    <tr>\n",
       "      <th>1</th>\n",
       "      <td>���It felt like they were my friends and I was...</td>\n",
       "      <td>personal</td>\n",
       "    </tr>\n",
       "    <tr>\n",
       "      <th>2</th>\n",
       "      <td>i absolutely adore when louis starts the songs...</td>\n",
       "      <td>personal</td>\n",
       "    </tr>\n",
       "    <tr>\n",
       "      <th>3</th>\n",
       "      <td>Hi @JordanSpieth - Looking at the url - do you...</td>\n",
       "      <td>sports</td>\n",
       "    </tr>\n",
       "    <tr>\n",
       "      <th>4</th>\n",
       "      <td>Watching Neighbours on Sky+ catching up with t...</td>\n",
       "      <td>entertainment</td>\n",
       "    </tr>\n",
       "  </tbody>\n",
       "</table>\n",
       "</div>"
      ],
      "text/plain": [
       "                                                text          label\n",
       "0  Robbie E Responds To Critics After Win Against...         sports\n",
       "1  ���It felt like they were my friends and I was...       personal\n",
       "2  i absolutely adore when louis starts the songs...       personal\n",
       "3  Hi @JordanSpieth - Looking at the url - do you...         sports\n",
       "4  Watching Neighbours on Sky+ catching up with t...  entertainment"
      ]
     },
     "execution_count": 8,
     "metadata": {},
     "output_type": "execute_result"
    }
   ],
   "source": [
    "# Viewing the dataset for an idea for the features and appearance\n",
    "# Monitoring the changes\n",
    "data.head(5)"
   ]
  },
  {
   "cell_type": "code",
   "execution_count": 9,
   "id": "9ed19180",
   "metadata": {},
   "outputs": [
    {
     "data": {
      "text/plain": [
       "(249, 2)"
      ]
     },
     "execution_count": 9,
     "metadata": {},
     "output_type": "execute_result"
    }
   ],
   "source": [
    "# Monitoring the changes\n",
    "data.shape"
   ]
  },
  {
   "cell_type": "code",
   "execution_count": 10,
   "id": "afb2bdc7",
   "metadata": {},
   "outputs": [
    {
     "data": {
      "text/html": [
       "<div>\n",
       "<style scoped>\n",
       "    .dataframe tbody tr th:only-of-type {\n",
       "        vertical-align: middle;\n",
       "    }\n",
       "\n",
       "    .dataframe tbody tr th {\n",
       "        vertical-align: top;\n",
       "    }\n",
       "\n",
       "    .dataframe thead th {\n",
       "        text-align: right;\n",
       "    }\n",
       "</style>\n",
       "<table border=\"1\" class=\"dataframe\">\n",
       "  <thead>\n",
       "    <tr style=\"text-align: right;\">\n",
       "      <th></th>\n",
       "      <th>text</th>\n",
       "      <th>label</th>\n",
       "    </tr>\n",
       "  </thead>\n",
       "  <tbody>\n",
       "    <tr>\n",
       "      <th>count</th>\n",
       "      <td>249</td>\n",
       "      <td>249</td>\n",
       "    </tr>\n",
       "    <tr>\n",
       "      <th>unique</th>\n",
       "      <td>249</td>\n",
       "      <td>18</td>\n",
       "    </tr>\n",
       "    <tr>\n",
       "      <th>top</th>\n",
       "      <td>@karen_hauer You frightened me when you hissed...</td>\n",
       "      <td>personal</td>\n",
       "    </tr>\n",
       "    <tr>\n",
       "      <th>freq</th>\n",
       "      <td>1</td>\n",
       "      <td>58</td>\n",
       "    </tr>\n",
       "  </tbody>\n",
       "</table>\n",
       "</div>"
      ],
      "text/plain": [
       "                                                     text     label\n",
       "count                                                 249       249\n",
       "unique                                                249        18\n",
       "top     @karen_hauer You frightened me when you hissed...  personal\n",
       "freq                                                    1        58"
      ]
     },
     "execution_count": 10,
     "metadata": {},
     "output_type": "execute_result"
    }
   ],
   "source": [
    "# Statistically analysing the dataset's features\n",
    "data.describe()"
   ]
  },
  {
   "cell_type": "code",
   "execution_count": 11,
   "id": "71131cb6",
   "metadata": {},
   "outputs": [
    {
     "name": "stdout",
     "output_type": "stream",
     "text": [
      "<class 'pandas.core.frame.DataFrame'>\n",
      "Int64Index: 249 entries, 0 to 248\n",
      "Data columns (total 2 columns):\n",
      " #   Column  Non-Null Count  Dtype \n",
      "---  ------  --------------  ----- \n",
      " 0   text    249 non-null    object\n",
      " 1   label   249 non-null    object\n",
      "dtypes: object(2)\n",
      "memory usage: 5.8+ KB\n"
     ]
    }
   ],
   "source": [
    "# The metadata for the dataset\n",
    "data.info()"
   ]
  },
  {
   "cell_type": "code",
   "execution_count": 12,
   "id": "5e4d9c81",
   "metadata": {},
   "outputs": [],
   "source": [
    "# Splitting the dataset's features and outputs\n",
    "X = data.drop('label', axis = 1)\n",
    "y = data['label']"
   ]
  },
  {
   "cell_type": "code",
   "execution_count": 13,
   "id": "fc86111c",
   "metadata": {},
   "outputs": [
    {
     "data": {
      "text/html": [
       "<div>\n",
       "<style scoped>\n",
       "    .dataframe tbody tr th:only-of-type {\n",
       "        vertical-align: middle;\n",
       "    }\n",
       "\n",
       "    .dataframe tbody tr th {\n",
       "        vertical-align: top;\n",
       "    }\n",
       "\n",
       "    .dataframe thead th {\n",
       "        text-align: right;\n",
       "    }\n",
       "</style>\n",
       "<table border=\"1\" class=\"dataframe\">\n",
       "  <thead>\n",
       "    <tr style=\"text-align: right;\">\n",
       "      <th></th>\n",
       "      <th>text</th>\n",
       "    </tr>\n",
       "  </thead>\n",
       "  <tbody>\n",
       "    <tr>\n",
       "      <th>0</th>\n",
       "      <td>Robbie E Responds To Critics After Win Against...</td>\n",
       "    </tr>\n",
       "    <tr>\n",
       "      <th>1</th>\n",
       "      <td>���It felt like they were my friends and I was...</td>\n",
       "    </tr>\n",
       "    <tr>\n",
       "      <th>2</th>\n",
       "      <td>i absolutely adore when louis starts the songs...</td>\n",
       "    </tr>\n",
       "    <tr>\n",
       "      <th>3</th>\n",
       "      <td>Hi @JordanSpieth - Looking at the url - do you...</td>\n",
       "    </tr>\n",
       "    <tr>\n",
       "      <th>4</th>\n",
       "      <td>Watching Neighbours on Sky+ catching up with t...</td>\n",
       "    </tr>\n",
       "  </tbody>\n",
       "</table>\n",
       "</div>"
      ],
      "text/plain": [
       "                                                text\n",
       "0  Robbie E Responds To Critics After Win Against...\n",
       "1  ���It felt like they were my friends and I was...\n",
       "2  i absolutely adore when louis starts the songs...\n",
       "3  Hi @JordanSpieth - Looking at the url - do you...\n",
       "4  Watching Neighbours on Sky+ catching up with t..."
      ]
     },
     "execution_count": 13,
     "metadata": {},
     "output_type": "execute_result"
    }
   ],
   "source": [
    "X.head(5)"
   ]
  },
  {
   "cell_type": "code",
   "execution_count": 14,
   "id": "22d35884",
   "metadata": {},
   "outputs": [
    {
     "data": {
      "text/plain": [
       "0           sports\n",
       "1         personal\n",
       "2         personal\n",
       "3           sports\n",
       "4    entertainment\n",
       "Name: label, dtype: object"
      ]
     },
     "execution_count": 14,
     "metadata": {},
     "output_type": "execute_result"
    }
   ],
   "source": [
    "y.head(5)"
   ]
  },
  {
   "cell_type": "code",
   "execution_count": 15,
   "id": "1d8d2e9b",
   "metadata": {},
   "outputs": [],
   "source": [
    "# Splitting the dataset into Training and testing datasets for cross validation\n",
    "X_train, X_test, y_train, y_test = train_test_split(X, y, test_size = 0.30, random_state = 42)"
   ]
  },
  {
   "cell_type": "code",
   "execution_count": 16,
   "id": "40fd2987",
   "metadata": {},
   "outputs": [
    {
     "name": "stdout",
     "output_type": "stream",
     "text": [
      "(174, 1299)\n"
     ]
    }
   ],
   "source": [
    "# Extracting features from the text in the dataset\n",
    "count_vect = CountVectorizer()\n",
    "X_train_counts_text = count_vect.fit_transform(X_train['text'])\n",
    "print(X_train_counts_text.shape)"
   ]
  },
  {
   "cell_type": "code",
   "execution_count": 17,
   "id": "9116e3e5",
   "metadata": {},
   "outputs": [
    {
     "name": "stdout",
     "output_type": "stream",
     "text": [
      "(174, 1299)\n"
     ]
    }
   ],
   "source": [
    "# Converting the extracted features into a matrix of TF-IDF features\n",
    "tfidf_transformer = TfidfTransformer()\n",
    "X_train_tfidf_text = tfidf_transformer.fit_transform(X_train_counts_text)\n",
    "print(X_train_tfidf_text.shape)"
   ]
  },
  {
   "cell_type": "code",
   "execution_count": 18,
   "id": "cb735381",
   "metadata": {},
   "outputs": [],
   "source": [
    "# Initializing a Pipeline for Simultaneous Execution\n",
    "mnb = Pipeline([('vect', CountVectorizer()), ('tfidf', TfidfTransformer()), ('mnb', MultinomialNB())])\n",
    "mnb = mnb.fit(X_train['text'], y_train)"
   ]
  },
  {
   "cell_type": "code",
   "execution_count": 19,
   "id": "5385c97e",
   "metadata": {},
   "outputs": [],
   "source": [
    "# Prediction from the Machine Learning algorithm\n",
    "mnb_pred = mnb.predict(X_test['text']) # Returns the predicted output\n",
    "mnb_pred_proba = mnb.predict_proba(X_test['text'])[:, 1] # Returns the probability estimates for the features in the test set"
   ]
  },
  {
   "cell_type": "code",
   "execution_count": 20,
   "id": "6774e650",
   "metadata": {},
   "outputs": [],
   "source": [
    "svm = Pipeline([('vect', CountVectorizer()), ('tfidf', TfidfTransformer()), ('svm', SVC(probability=True))])\n",
    "svm = svm.fit(X_train['text'], y_train)"
   ]
  },
  {
   "cell_type": "code",
   "execution_count": 21,
   "id": "270c7ab0",
   "metadata": {},
   "outputs": [],
   "source": [
    "svm_pred = svm.predict(X_test['text']) # Returns the predicted output\n",
    "svm_pred_proba = svm.predict_proba(X_test['text'])[:, 1] # Returns the probability estimates for the features in the test set"
   ]
  },
  {
   "cell_type": "code",
   "execution_count": 22,
   "id": "cbf03e91",
   "metadata": {},
   "outputs": [],
   "source": [
    "mlp = Pipeline([('vect', CountVectorizer()), ('tfidf', TfidfTransformer()), ('mlp', MLPClassifier())])\n",
    "mlp = svm.fit(X_train['text'], y_train)"
   ]
  },
  {
   "cell_type": "code",
   "execution_count": 23,
   "id": "11950e70",
   "metadata": {},
   "outputs": [],
   "source": [
    "mlp_pred = svm.predict(X_test['text']) # Returns the predicted output\n",
    "mlp_pred_proba = svm.predict_proba(X_test['text'])[:, 1] # Returns the probability estimates for the features in the test set"
   ]
  },
  {
   "cell_type": "code",
   "execution_count": 24,
   "id": "3cb1730a",
   "metadata": {},
   "outputs": [
    {
     "name": "stdout",
     "output_type": "stream",
     "text": [
      "For Multinomial NB:  0.30666666666666664\n",
      "For SVC:  0.29333333333333333\n",
      "For MLP:  0.29333333333333333\n"
     ]
    }
   ],
   "source": [
    "print(\"For Multinomial NB: \", accuracy_score(y_test, mnb_pred))\n",
    "print(\"For SVC: \", accuracy_score(y_test, svm_pred))\n",
    "print(\"For MLP: \", accuracy_score(y_test, mlp_pred))"
   ]
  },
  {
   "cell_type": "code",
   "execution_count": 25,
   "id": "4acd5c66",
   "metadata": {},
   "outputs": [
    {
     "name": "stdout",
     "output_type": "stream",
     "text": [
      "For Multinomial NB:                 precision    recall  f1-score   support\n",
      "\n",
      "        anime       1.00      0.00      0.00         1\n",
      "     business       1.00      0.00      0.00         1\n",
      "entertainment       0.19      0.57      0.28        14\n",
      "      fitness       1.00      0.00      0.00         1\n",
      "         food       1.00      0.00      0.00         3\n",
      "       health       1.00      0.00      0.00         1\n",
      "        music       1.00      0.00      0.00         4\n",
      "       nature       1.00      0.00      0.00         2\n",
      "         news       1.00      0.25      0.40         4\n",
      "     personal       0.41      0.57      0.48        21\n",
      "     politics       1.00      0.18      0.31        11\n",
      "     religion       1.00      0.00      0.00         1\n",
      "      science       1.00      0.00      0.00         1\n",
      "       sports       1.00      0.00      0.00         6\n",
      "         tech       1.00      0.00      0.00         4\n",
      "\n",
      "     accuracy                           0.31        75\n",
      "    macro avg       0.91      0.10      0.10        75\n",
      " weighted avg       0.68      0.31      0.25        75\n",
      "\n",
      "For SVM:                 precision    recall  f1-score   support\n",
      "\n",
      "        anime       1.00      0.00      0.00         1\n",
      "     business       1.00      0.00      0.00         1\n",
      "entertainment       0.21      0.93      0.34        14\n",
      "      fitness       1.00      0.00      0.00         1\n",
      "         food       1.00      0.00      0.00         3\n",
      "       health       1.00      0.00      0.00         1\n",
      "        music       1.00      0.00      0.00         4\n",
      "       nature       1.00      0.00      0.00         2\n",
      "         news       1.00      0.25      0.40         4\n",
      "     personal       0.60      0.29      0.39        21\n",
      "     politics       1.00      0.18      0.31        11\n",
      "     religion       1.00      0.00      0.00         1\n",
      "      science       1.00      0.00      0.00         1\n",
      "       sports       1.00      0.00      0.00         6\n",
      "         tech       1.00      0.00      0.00         4\n",
      "\n",
      "     accuracy                           0.29        75\n",
      "    macro avg       0.92      0.11      0.10        75\n",
      " weighted avg       0.74      0.29      0.24        75\n",
      "\n",
      "For MLP:                 precision    recall  f1-score   support\n",
      "\n",
      "        anime       1.00      0.00      0.00         1\n",
      "     business       1.00      0.00      0.00         1\n",
      "entertainment       0.21      0.93      0.34        14\n",
      "      fitness       1.00      0.00      0.00         1\n",
      "         food       1.00      0.00      0.00         3\n",
      "       health       1.00      0.00      0.00         1\n",
      "        music       1.00      0.00      0.00         4\n",
      "       nature       1.00      0.00      0.00         2\n",
      "         news       1.00      0.25      0.40         4\n",
      "     personal       0.60      0.29      0.39        21\n",
      "     politics       1.00      0.18      0.31        11\n",
      "     religion       1.00      0.00      0.00         1\n",
      "      science       1.00      0.00      0.00         1\n",
      "       sports       1.00      0.00      0.00         6\n",
      "         tech       1.00      0.00      0.00         4\n",
      "\n",
      "     accuracy                           0.29        75\n",
      "    macro avg       0.92      0.11      0.10        75\n",
      " weighted avg       0.74      0.29      0.24        75\n",
      "\n"
     ]
    }
   ],
   "source": [
    "print(\"For Multinomial NB: \", classification_report(y_test, mnb_pred, zero_division=1))\n",
    "print(\"For SVM: \", classification_report(y_test, svm_pred, zero_division=1))\n",
    "print(\"For MLP: \", classification_report(y_test, mlp_pred, zero_division=1))"
   ]
  },
  {
   "cell_type": "code",
   "execution_count": 26,
   "id": "916057b6",
   "metadata": {},
   "outputs": [
    {
     "name": "stdout",
     "output_type": "stream",
     "text": [
      "(174, 1) (174,)\n"
     ]
    }
   ],
   "source": [
    "print(X_train.shape, y_train.shape)"
   ]
  },
  {
   "cell_type": "code",
   "execution_count": 27,
   "id": "e6c1f3e2",
   "metadata": {},
   "outputs": [
    {
     "name": "stderr",
     "output_type": "stream",
     "text": [
      "c:\\users\\mohdm\\appdata\\local\\programs\\python\\python38\\lib\\site-packages\\sklearn\\model_selection\\_split.py:666: UserWarning: The least populated class in y has only 1 members, which is less than n_splits=2.\n",
      "  warnings.warn((\"The least populated class in y has only %d\"\n",
      "c:\\users\\mohdm\\appdata\\local\\programs\\python\\python38\\lib\\site-packages\\sklearn\\model_selection\\_split.py:666: UserWarning: The least populated class in y has only 1 members, which is less than n_splits=2.\n",
      "  warnings.warn((\"The least populated class in y has only %d\"\n",
      "c:\\users\\mohdm\\appdata\\local\\programs\\python\\python38\\lib\\site-packages\\sklearn\\model_selection\\_split.py:666: UserWarning: The least populated class in y has only 1 members, which is less than n_splits=2.\n",
      "  warnings.warn((\"The least populated class in y has only %d\"\n"
     ]
    }
   ],
   "source": [
    "mnb_scores = cross_val_score(mnb, X_train['text'].values.reshape(174), y_train.values.reshape(174), cv=2)\n",
    "svm_scores = cross_val_score(svm, X_train['text'].values.reshape(174), y_train.values.reshape(174), cv=2)\n",
    "mlp_scores = cross_val_score(mlp, X_train['text'].values.reshape(174), y_train.values.reshape(174), cv=2)"
   ]
  },
  {
   "cell_type": "code",
   "execution_count": 28,
   "id": "a3b7a94d",
   "metadata": {},
   "outputs": [
    {
     "name": "stdout",
     "output_type": "stream",
     "text": [
      "For Multinomial NB:  [0.34482759 0.4137931 ]\n",
      "For SVM:  [0.31034483 0.3908046 ]\n",
      "For Multi-layer Perceptron:  [0.31034483 0.3908046 ]\n"
     ]
    }
   ],
   "source": [
    "print(\"For Multinomial NB: \", mnb_scores)\n",
    "print(\"For SVM: \", svm_scores)\n",
    "print(\"For Multi-layer Perceptron: \", mlp_scores)"
   ]
  }
 ],
 "metadata": {
  "kernelspec": {
   "display_name": "Python 3",
   "language": "python",
   "name": "python3"
  },
  "language_info": {
   "codemirror_mode": {
    "name": "ipython",
    "version": 3
   },
   "file_extension": ".py",
   "mimetype": "text/x-python",
   "name": "python",
   "nbconvert_exporter": "python",
   "pygments_lexer": "ipython3",
   "version": "3.8.0"
  }
 },
 "nbformat": 4,
 "nbformat_minor": 5
}
